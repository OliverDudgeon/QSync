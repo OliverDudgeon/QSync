{
 "cells": [
  {
   "cell_type": "code",
   "execution_count": 1,
   "metadata": {},
   "outputs": [
    {
     "data": {
      "text/plain": "True"
     },
     "execution_count": 1,
     "metadata": {},
     "output_type": "execute_result"
    }
   ],
   "source": [
    "import os\r\n",
    "\r\n",
    "import numpy as np\r\n",
    "import qiskit.ignis.mitigation.measurement as mc\r\n",
    "from dotenv import load_dotenv\r\n",
    "from numpy import pi\r\n",
    "from qiskit import (IBMQ, ClassicalRegister, QuantumCircuit, QuantumRegister,\r\n",
    "                    transpile)\r\n",
    "from qiskit.ignis.verification.tomography import (StateTomographyFitter,\r\n",
    "                                                  state_tomography_circuits)\r\n",
    "from qiskit.providers.aer import AerSimulator, noise\r\n",
    "from qiskit.providers.ibmq.managed import IBMQJobManager\r\n",
    "from qiskit.quantum_info import partial_trace\r\n",
    "from qutip import Bloch, Bloch3d, Qobj\r\n",
    "\r\n",
    "from sync_calcs import dm2bloch\r\n",
    "from sync_gates import add_tomography\r\n",
    "\r\n",
    "load_dotenv()\r\n",
    "\r\n",
    "# IBMQ.ibmq.save_account(os.environ['TOKEN'], overwrite=True)\r\n"
   ]
  },
  {
   "cell_type": "code",
   "execution_count": 2,
   "metadata": {},
   "outputs": [],
   "source": [
    "IBMQ.load_account()\r\n",
    "provider = IBMQ.get_provider(group='open', project='main')\r\n",
    "job_manager = IBMQJobManager()"
   ]
  },
  {
   "cell_type": "code",
   "execution_count": 3,
   "metadata": {},
   "outputs": [
    {
     "data": {
      "text/plain": "8192"
     },
     "execution_count": 3,
     "metadata": {},
     "output_type": "execute_result"
    }
   ],
   "source": [
    "# backend = provider.get_backend('ibmq_quito') # Real\r\n",
    "backend = provider.get_backend('ibmq_santiago') # Real - ibmq_santiago seems to have the lowest CNOT noise\r\n",
    "# backend = AerSimulator.from_backend(backend) # Noisy Sim\r\n",
    "# backend = AerSimulator() # Ideal Sim\r\n",
    "\r\n",
    "# noise_model = noise.NoiseModel().from_backend(backend)\r\n",
    "\r\n",
    "is_real_device = not backend.name().startswith('aer_simulator')\r\n",
    "\r\n",
    "max_shots = backend.configuration().to_dict()[\"max_shots\"]\r\n",
    "max_shots"
   ]
  },
  {
   "cell_type": "markdown",
   "metadata": {},
   "source": [
    "# Parameters"
   ]
  },
  {
   "cell_type": "code",
   "execution_count": 4,
   "metadata": {},
   "outputs": [],
   "source": [
    "# Simulation Steps\r\n",
    "SIM_STEPS = 4\r\n",
    "SHOTS = 8192\r\n",
    "\r\n",
    "gain_amp = 0.1\r\n",
    "loss_amp = 1\r\n",
    "m = min(loss_amp, gain_amp)\r\n",
    "\r\n",
    "detuning = 8 * 3 * m\r\n",
    "signal_strength = 8 * 2 * m\r\n",
    "dt = 0.5\r\n",
    "# dt = (np.logspace(0.1, 0.7, SIM_STEPS, endpoint=True)) / 10"
   ]
  },
  {
   "cell_type": "markdown",
   "metadata": {},
   "source": [
    "# Circuit"
   ]
  },
  {
   "cell_type": "code",
   "execution_count": 5,
   "metadata": {},
   "outputs": [],
   "source": [
    "def generate_circuit(time_steps, detuning, signal_strength, steps):\r\n",
    "    qreg_q = QuantumRegister(2, \"q\")\r\n",
    "    creg_c = ClassicalRegister(2, \"c\")\r\n",
    "\r\n",
    "    qc = QuantumCircuit(qreg_q, creg_c)\r\n",
    "\r\n",
    "    for i in range(steps):\r\n",
    "        if hasattr(time_steps, '__iter__'):\r\n",
    "            dt = time_steps[i]\r\n",
    "        else:\r\n",
    "            dt = time_steps\r\n",
    "        theta_d = 2 * np.arcsin(np.sqrt(loss_amp * dt))\r\n",
    "        theta_g = 2 * np.arcsin(np.sqrt(gain_amp * dt))\r\n",
    "\r\n",
    "        theta = signal_strength * dt\r\n",
    "        phi = pi - detuning * dt / 2\r\n",
    "        lam = pi - detuning * dt / 2\r\n",
    "\r\n",
    "        qc.u(theta, phi, lam, qreg_q[0])\r\n",
    "\r\n",
    "        # Loss CU\r\n",
    "        # qc.cu(theta_d, 0, 0, 0, qreg_q[0], qreg_q[1])\r\n",
    "        # qc.cx(qreg_q[1], qreg_q[0])\r\n",
    "        # qc.measure(qreg_q[1], creg_c[0])\r\n",
    "        # qc.reset(qreg_q[1])\r\n",
    "\r\n",
    "        # Loss 2xCX\r\n",
    "        qc.u(pi / 2, -pi, 0, qreg_q[0])\r\n",
    "        qc.u(-theta_d / 2, -pi / 2, pi, qreg_q[1])\r\n",
    "        qc.cx(qreg_q[1], qreg_q[0])\r\n",
    "        qc.u(pi / 2, -pi / 2, 0, qreg_q[0])\r\n",
    "        qc.u(-theta_d / 2, pi, pi / 2, qreg_q[1])\r\n",
    "        qc.cx(qreg_q[1], qreg_q[0])\r\n",
    "        qc.u(0, 0, -pi/2, qreg_q[0])\r\n",
    "        qc.u(0, 0, -pi/2, qreg_q[1])\r\n",
    "        qc.measure(qreg_q[1], creg_c[0])\r\n",
    "        qc.reset(qreg_q[1])\r\n",
    "\r\n",
    "        # # Gain\r\n",
    "        # qc.u(-pi, 0, 0, qreg_q[0])\r\n",
    "        # qc.cx(qreg_q[0], qreg_q[1])\r\n",
    "        # qc.cu(theta_g, 0, 0, 0, qreg_q[0], qreg_q[1])\r\n",
    "        # qc.cx(qreg_q[0], qreg_q[1])\r\n",
    "        # qc.u(pi, 0, 0, qreg_q[0])\r\n",
    "        # qc.measure(qreg_q[1], creg_c[0])\r\n",
    "        # qc.reset(qreg_q[1])\r\n",
    "\r\n",
    "    # qc.measure(qreg_q[0], creg_c[1])\r\n",
    "\r\n",
    "    return qc\r\n"
   ]
  },
  {
   "cell_type": "markdown",
   "metadata": {},
   "source": [
    "# Tomography"
   ]
  },
  {
   "cell_type": "code",
   "execution_count": 6,
   "metadata": {},
   "outputs": [],
   "source": [
    "circuits = [generate_circuit(dt, detuning, signal_strength, i) for i in range(0, SIM_STEPS + 1)]\r\n",
    "\r\n",
    "circuits_with_tomo = [list(add_tomography(circuit, 2)) for circuit in circuits]\r\n",
    "\r\n",
    "compiled_circuits_with_tomo = [transpile(circuit, backend) for circuit in circuits_with_tomo]"
   ]
  },
  {
   "cell_type": "markdown",
   "metadata": {},
   "source": [
    "# Calibration"
   ]
  },
  {
   "cell_type": "code",
   "execution_count": null,
   "metadata": {},
   "outputs": [],
   "source": [
    "measurement_calibration_circuit, state_labels = mc.complete_meas_cal(qubit_list=[0, 1])\r\n",
    "\r\n",
    "if is_real_device:\r\n",
    "    calibration_job = job_manager.run(measurement_calibration_circuit, backend=backend, name=\"QSync_calibration\")\r\n",
    "    result = calibration_job.results().combine_results()\r\n",
    "else:\r\n",
    "    calibration_job = backend.run(measurement_calibration_circuit, shots=SHOTS)\r\n",
    "    result = calibration_job.result()\r\n",
    "\r\n",
    "measurement_calibration_fitter = mc.CompleteMeasFitter(result, state_labels)\r\n",
    "measurement_calibration_fitter.cal_matrix"
   ]
  },
  {
   "cell_type": "code",
   "execution_count": null,
   "metadata": {},
   "outputs": [],
   "source": [
    "if not is_real_device:\r\n",
    "    jobs = [backend.run(circuit, name=f\"QSync_{i}\", shots=SHOTS) for i, circuit in enumerate(compiled_circuits_with_tomo)]\r\n",
    "else:\r\n",
    "    jobs = [job_manager.run(circuit, backend=backend, name=f\"QSync_{i}\", shots=SHOTS) for i, circuit in enumerate(compiled_circuits_with_tomo)]"
   ]
  },
  {
   "cell_type": "code",
   "execution_count": null,
   "metadata": {},
   "outputs": [],
   "source": [
    "uncorrected_states = []\r\n",
    "\r\n",
    "for i, (job, circuit) in enumerate(zip(jobs, compiled_circuits_with_tomo)):\r\n",
    "    print(f\"Job Submission {i} of {len(compiled_circuits_with_tomo)}\")\r\n",
    "    if not is_real_device:\r\n",
    "        result = job.result()\r\n",
    "    else:\r\n",
    "        result = job.results().combine_results()\r\n",
    "\r\n",
    "    tomo_state = StateTomographyFitter(result, circuit)\r\n",
    "    state = tomo_state.fit(method=\"lstsq\")\r\n",
    "\r\n",
    "    uncorrected_states.append(state)\r\n"
   ]
  },
  {
   "cell_type": "code",
   "execution_count": null,
   "metadata": {},
   "outputs": [],
   "source": [
    "b = Bloch()\r\n",
    "states = [partial_trace(s, [1]).data for s in uncorrected_states]\r\n",
    "points = dm2bloch(states)\r\n",
    "b.add_points(points, meth=\"s\")\r\n",
    "b.add_points(points, meth=\"l\")\r\n",
    "\r\n",
    "# b.view = [0, 90]\r\n",
    "b.show()"
   ]
  },
  {
   "cell_type": "code",
   "execution_count": null,
   "metadata": {},
   "outputs": [],
   "source": [
    "if is_real_device:\r\n",
    "    # Save job ids for later retrieval\r\n",
    "    name = input(\"Jobs File Name: \")\r\n",
    "\r\n",
    "    with open(f\"{name}.txt\", \"w\") as f:\r\n",
    "        f.write(\"Calibration:\\n\")\r\n",
    "        f.write(f\"{calibration_job.job_set_id()}\\n\")\r\n",
    "        f.write(\"\\n\")\r\n",
    "        f.write(\"Simulation:\\n\")\r\n",
    "        for job in jobs:\r\n",
    "            id_ = job.job_set_id()\r\n",
    "            f.write(f\"{id_}\\n\")"
   ]
  },
  {
   "cell_type": "code",
   "execution_count": null,
   "metadata": {},
   "outputs": [],
   "source": [
    "corrected_states = []\r\n",
    "\r\n",
    "for job, circuit in zip(jobs, compiled_circuits_with_tomo):\r\n",
    "    if not is_real_device:\r\n",
    "        result = job.result()\r\n",
    "    else:\r\n",
    "        result = job.results().combine_results()\r\n",
    "\r\n",
    "    corrected_result = measurement_calibration_fitter.filter.apply(result, method=\"least_squares\")\r\n",
    "    mitigated_tomo_state = StateTomographyFitter(corrected_result, circuit)\r\n",
    "    state = mitigated_tomo_state.fit(method=\"lstsq\")\r\n",
    "\r\n",
    "    corrected_states.append(state)"
   ]
  },
  {
   "cell_type": "code",
   "execution_count": null,
   "metadata": {},
   "outputs": [],
   "source": [
    "b = Bloch(figsize=[10, 10])\r\n",
    "# b = Bloch3d()\r\n",
    "states = [partial_trace(s, [1]).data for s in corrected_states]\r\n",
    "points = dm2bloch(states)\r\n",
    "b.add_points(points, meth=\"l\")\r\n",
    "b.add_points(points, meth=\"s\")\r\n",
    "# b.add_points(points, meth=\"s\")\r\n",
    "b.view = [0, 90]\r\n",
    "b.show()\r\n",
    "Qobj(corrected_states[-1], dims=[[2, 2], [2, 2]]).ptrace(0)"
   ]
  },
  {
   "cell_type": "code",
   "execution_count": null,
   "metadata": {},
   "outputs": [],
   "source": [
    "from sync_plots import calc_and_plot_Q_and_S\r\n",
    "ss = partial_trace(corrected_states[-1], [1]).data\r\n",
    "calc_and_plot_Q_and_S(Qobj(ss), method=\"qutip\")"
   ]
  },
  {
   "cell_type": "code",
   "execution_count": null,
   "metadata": {},
   "outputs": [],
   "source": [
    "if is_real_device:\r\n",
    "    # Save job ids for later retrieval\r\n",
    "    name = input(\"Data File Name: \")\r\n",
    "    np.save(f'{name}.npy', [partial_trace(s, [1]).data for s in corrected_states])"
   ]
  }
 ],
 "metadata": {
  "kernelspec": {
   "display_name": "Python 3.8.8 64-bit ('qutip-env': conda)",
   "name": "python388jvsc74a57bd0d9fe01cc93207f9d85c02c9a2b51282a64a6c5e7b236d31b93012e1f9403b53c"
  },
  "language_info": {
   "codemirror_mode": {
    "name": "ipython",
    "version": 3
   },
   "file_extension": ".py",
   "mimetype": "text/x-python",
   "name": "python",
   "nbconvert_exporter": "python",
   "pygments_lexer": "ipython3",
   "version": "3.8.8"
  },
  "orig_nbformat": 2
 },
 "nbformat": 4,
 "nbformat_minor": 2
}