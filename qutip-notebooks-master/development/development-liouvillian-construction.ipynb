{
 "metadata": {
  "name": "development-liouvillian-construction"
 },
 "nbformat": 3,
 "nbformat_minor": 0,
 "worksheets": [
  {
   "cells": [
    {
     "cell_type": "markdown",
     "metadata": {},
     "source": [
      "# QuTiP development notebook for testing liouvillian construction\n",
      "\n",
      "Copyright (C) 2011 and later, Paul D. Nation & Robert J. Johansson"
     ]
    },
    {
     "cell_type": "code",
     "collapsed": false,
     "input": [
      "%pylab inline"
     ],
     "language": "python",
     "metadata": {},
     "outputs": [],
     "prompt_number": 1
    },
    {
     "cell_type": "code",
     "collapsed": false,
     "input": [
      "from qutip import *\n",
      "import time"
     ],
     "language": "python",
     "metadata": {},
     "outputs": [],
     "prompt_number": 2
    },
    {
     "cell_type": "code",
     "collapsed": false,
     "input": [
      "def system_ops2(N):\n",
      "    N1 = N\n",
      "    N2 = N + 1\n",
      "    a1 = tensor(rand_dm(N1, density=0.75), identity(N2))\n",
      "    a2 = tensor(identity(N1), rand_dm(N2, density=0.75))\n",
      "    H = a1.dag() * a1 + a2.dag() * a2\n",
      "    c_ops = [sqrt(0.01) * a1, sqrt(0.025) * a2]\n",
      "    \n",
      "    return H, c_ops"
     ],
     "language": "python",
     "metadata": {},
     "outputs": [],
     "prompt_number": 3
    },
    {
     "cell_type": "code",
     "collapsed": false,
     "input": [
      "def system_ops(N):\n",
      "    N1 = N\n",
      "    N2 = N + 1\n",
      "    N3 = N + 2\n",
      "    a1 = tensor(rand_dm(N1, density=0.75), identity(N2), identity(N3))\n",
      "    a2 = tensor(identity(N1), rand_dm(N2, density=0.75), identity(N3))\n",
      "    a3 = tensor(identity(N1), identity(N2), rand_dm(N3, density=0.75))\n",
      "    H = a1.dag() * a1 + a2.dag() * a2 + a3.dag() * a3\n",
      "    c_ops = [sqrt(0.01) * a1, sqrt(0.025) * a2, sqrt(0.05) * a3]\n",
      "    \n",
      "    return H, c_ops"
     ],
     "language": "python",
     "metadata": {},
     "outputs": [],
     "prompt_number": 4
    },
    {
     "cell_type": "code",
     "collapsed": false,
     "input": [
      "H, c_ops = system_ops(3)"
     ],
     "language": "python",
     "metadata": {},
     "outputs": [],
     "prompt_number": 5
    },
    {
     "cell_type": "code",
     "collapsed": false,
     "input": [
      "L1 = liouvillian(H, c_ops)"
     ],
     "language": "python",
     "metadata": {},
     "outputs": [],
     "prompt_number": 6
    },
    {
     "cell_type": "code",
     "collapsed": false,
     "input": [
      "L1"
     ],
     "language": "python",
     "metadata": {},
     "outputs": [
      {
       "latex": [
        "\\begin{equation}\\text{Quantum object: dims = [[[3, 4, 5], [3, 4, 5]], [[3, 4, 5], [3, 4, 5]]], shape = [3600, 3600], type = oper, isHerm = False}\\\\[1em]\\begin{pmatrix}-0.00256494099689 & (-0.00307415314864-0.076080799489j) & (0.033366093512-0.0528309427102j) & (-0.0183708833457-0.0205756760023j) & (-0.00298280679784-0.0383390031161j) & \\cdots & 0.0 & 0.0 & 0.0 & 0.0 & 0.0\\\\(0.00254464103746-0.0758148452381j) & (-0.00284982536638-0.00392547434544j) & (0.00306075496276-0.0682200814748j) & (-0.021925618026-0.0498224321009j) & (0.00816725018561-0.0359836649834j) & \\cdots & 0.0 & 0.0 & 0.0 & 0.0 & 0.0\\\\(-0.0335618884238-0.0535207987983j) & (-0.00308318703801-0.0675039760736j) & (-0.00293737657568+0.0620860250016j) & (-0.0145142057428-0.0247217855076j) & (-0.0043980322777-0.0191890586456j) & \\cdots & 0.0 & 0.0 & 0.0 & 0.0 & 0.0\\\\(0.0174252222192-0.0206108256213j) & (0.0229221808928-0.0498631170457j) & (0.0148379106412-0.0243359017603j) & (-0.00371603521964+0.0987181802235j) & (0.013748778866-0.0125933410448j) & \\cdots & 0.0 & 0.0 & 0.0 & 0.0 & 0.0\\\\(0.00318001184024-0.0381833481246j) & (-0.00834056050947-0.0360124453046j) & (0.00407535300662-0.0192301831298j) & (-0.0134902859676-0.0131358387474j) & (-0.00300305511706+0.1002020077j) & \\cdots & 0.0 & 0.0 & 0.0 & 0.0 & 0.0\\\\\\vdots & \\vdots & \\vdots & \\vdots & \\vdots & \\ddots & \\vdots & \\vdots & \\vdots & \\vdots & \\vdots\\\\0.0 & 0.0 & 0.0 & 0.0 & 0.0 & \\cdots & (-0.00283214206424-0.1002020077j) & (-0.00406593321521-0.0759574524111j) & (0.0326185894166-0.0535481147571j) & (-0.0183963772296-0.0203147465414j) & (-0.00362325817036-0.0382450034502j)\\\\0.0 & 0.0 & 0.0 & 0.0 & 0.0 & \\cdots & (0.00155286097089-0.075938192316j) & (-0.00300367311903-0.104127482046j) & (0.00203777869023-0.0680493642967j) & (-0.0229844163148-0.049494504321j) & (0.00767358994043-0.0361176499589j)\\\\0.0 & 0.0 & 0.0 & 0.0 & 0.0 & \\cdots & (-0.0343093925193-0.0528036267514j) & (-0.00410616331054-0.0676746932517j) & (-0.00203637880258-0.0381159826987j) & (-0.0149846653195-0.0243819678752j) & (-0.00459160097588-0.0191372492238j)\\\\0.0 & 0.0 & 0.0 & 0.0 & 0.0 & \\cdots & (0.0173997283353-0.0208717550822j) & (0.021863382604-0.0501910448256j) & (0.0143674510645-0.0246757193927j) & (-0.00178652069194-0.00148382747683j) & (0.0134751119728-0.0129646575603j)\\\\0.0 & 0.0 & 0.0 & 0.0 & 0.0 & \\cdots & (0.00253956046772-0.0382773477904j) & (-0.00883422075465-0.0358784603291j) & (0.00388178430845-0.0192819925516j) & (-0.0137639528608-0.0127645222319j) & -0.00148379365523\\\\\\end{pmatrix}\\end{equation}"
       ],
       "output_type": "pyout",
       "prompt_number": 7,
       "text": [
        "Quantum object: dims = [[[3, 4, 5], [3, 4, 5]], [[3, 4, 5], [3, 4, 5]]], shape = [3600, 3600], type = oper, isherm = False\n",
        "Qobj data =\n",
        "[[-0.00256494+0.j         -0.00307415-0.0760808j   0.03336609-0.05283094j\n",
        "  ...,  0.00000000+0.j          0.00000000+0.j          0.00000000+0.j        ]\n",
        " [ 0.00254464-0.07581485j -0.00284983-0.00392547j  0.00306075-0.06822008j\n",
        "  ...,  0.00000000+0.j          0.00000000+0.j          0.00000000+0.j        ]\n",
        " [-0.03356189-0.0535208j  -0.00308319-0.06750398j -0.00293738+0.06208603j\n",
        "  ...,  0.00000000+0.j          0.00000000+0.j          0.00000000+0.j        ]\n",
        " ..., \n",
        " [ 0.00000000+0.j          0.00000000+0.j          0.00000000+0.j         ...,\n",
        "  -0.00203638-0.03811598j -0.01498467-0.02438197j -0.00459160-0.01913725j]\n",
        " [ 0.00000000+0.j          0.00000000+0.j          0.00000000+0.j         ...,\n",
        "   0.01436745-0.02467572j -0.00178652-0.00148383j  0.01347511-0.01296466j]\n",
        " [ 0.00000000+0.j          0.00000000+0.j          0.00000000+0.j         ...,\n",
        "   0.00388178-0.01928199j -0.01376395-0.01276452j -0.00148379+0.j        ]]"
       ]
      }
     ],
     "prompt_number": 7
    },
    {
     "cell_type": "code",
     "collapsed": false,
     "input": [
      "L2 = liouvillian_fast(H, c_ops)"
     ],
     "language": "python",
     "metadata": {},
     "outputs": [],
     "prompt_number": 8
    },
    {
     "cell_type": "code",
     "collapsed": false,
     "input": [
      "L2"
     ],
     "language": "python",
     "metadata": {},
     "outputs": [
      {
       "latex": [
        "\\begin{equation}\\text{Quantum object: dims = [[[3, 4, 5], [3, 4, 5]], [[3, 4, 5], [3, 4, 5]]], shape = [3600, 3600], type = oper, isHerm = True}\\\\[1em]\\begin{pmatrix}-0.00256494099689 & (-0.00307415314864-0.076080799489j) & (0.033366093512-0.0528309427102j) & (-0.0183708833457-0.0205756760023j) & (-0.00298280679784-0.0383390031161j) & \\cdots & 0.0 & 0.0 & 0.0 & 0.0 & 0.0\\\\(0.00254464103746-0.0758148452381j) & (-0.00284982536638-0.00392547434544j) & (0.00306075496276-0.0682200814748j) & (-0.021925618026-0.0498224321009j) & (0.00816725018561-0.0359836649834j) & \\cdots & 0.0 & 0.0 & 0.0 & 0.0 & 0.0\\\\(-0.0335618884238-0.0535207987983j) & (-0.00308318703801-0.0675039760736j) & (-0.00293737657568+0.0620860250016j) & (-0.0145142057428-0.0247217855076j) & (-0.0043980322777-0.0191890586456j) & \\cdots & 0.0 & 0.0 & 0.0 & 0.0 & 0.0\\\\(0.0174252222192-0.0206108256213j) & (0.0229221808928-0.0498631170457j) & (0.0148379106412-0.0243359017603j) & (-0.00371603521964+0.0987181802235j) & (0.013748778866-0.0125933410448j) & \\cdots & 0.0 & 0.0 & 0.0 & 0.0 & 0.0\\\\(0.00318001184024-0.0381833481246j) & (-0.00834056050947-0.0360124453046j) & (0.00407535300662-0.0192301831298j) & (-0.0134902859676-0.0131358387474j) & (-0.00300305511706+0.1002020077j) & \\cdots & 0.0 & 0.0 & 0.0 & 0.0 & 0.0\\\\\\vdots & \\vdots & \\vdots & \\vdots & \\vdots & \\ddots & \\vdots & \\vdots & \\vdots & \\vdots & \\vdots\\\\0.0 & 0.0 & 0.0 & 0.0 & 0.0 & \\cdots & (-0.00283214206424-0.1002020077j) & (-0.00406593321521-0.0759574524111j) & (0.0326185894166-0.0535481147571j) & (-0.0183963772296-0.0203147465414j) & (-0.00362325817036-0.0382450034502j)\\\\0.0 & 0.0 & 0.0 & 0.0 & 0.0 & \\cdots & (0.00155286097089-0.075938192316j) & (-0.00300367311903-0.104127482046j) & (0.00203777869023-0.0680493642967j) & (-0.0229844163148-0.049494504321j) & (0.00767358994043-0.0361176499589j)\\\\0.0 & 0.0 & 0.0 & 0.0 & 0.0 & \\cdots & (-0.0343093925193-0.0528036267514j) & (-0.00410616331054-0.0676746932517j) & (-0.00203637880258-0.0381159826987j) & (-0.0149846653195-0.0243819678752j) & (-0.00459160097588-0.0191372492238j)\\\\0.0 & 0.0 & 0.0 & 0.0 & 0.0 & \\cdots & (0.0173997283353-0.0208717550822j) & (0.021863382604-0.0501910448256j) & (0.0143674510645-0.0246757193927j) & (-0.00178652069194-0.00148382747683j) & (0.0134751119728-0.0129646575603j)\\\\0.0 & 0.0 & 0.0 & 0.0 & 0.0 & \\cdots & (0.00253956046772-0.0382773477904j) & (-0.00883422075465-0.0358784603291j) & (0.00388178430845-0.0192819925516j) & (-0.0137639528608-0.0127645222319j) & -0.00148379365523\\\\\\end{pmatrix}\\end{equation}"
       ],
       "output_type": "pyout",
       "prompt_number": 9,
       "text": [
        "Quantum object: dims = [[[3, 4, 5], [3, 4, 5]], [[3, 4, 5], [3, 4, 5]]], shape = [3600, 3600], type = oper, isherm = True\n",
        "Qobj data =\n",
        "[[-0.00256494+0.j         -0.00307415-0.0760808j   0.03336609-0.05283094j\n",
        "  ...,  0.00000000+0.j          0.00000000+0.j          0.00000000+0.j        ]\n",
        " [ 0.00254464-0.07581485j -0.00284983-0.00392547j  0.00306075-0.06822008j\n",
        "  ...,  0.00000000+0.j          0.00000000+0.j          0.00000000+0.j        ]\n",
        " [-0.03356189-0.0535208j  -0.00308319-0.06750398j -0.00293738+0.06208603j\n",
        "  ...,  0.00000000+0.j          0.00000000+0.j          0.00000000+0.j        ]\n",
        " ..., \n",
        " [ 0.00000000+0.j          0.00000000+0.j          0.00000000+0.j         ...,\n",
        "  -0.00203638-0.03811598j -0.01498467-0.02438197j -0.00459160-0.01913725j]\n",
        " [ 0.00000000+0.j          0.00000000+0.j          0.00000000+0.j         ...,\n",
        "   0.01436745-0.02467572j -0.00178652-0.00148383j  0.01347511-0.01296466j]\n",
        " [ 0.00000000+0.j          0.00000000+0.j          0.00000000+0.j         ...,\n",
        "   0.00388178-0.01928199j -0.01376395-0.01276452j -0.00148379+0.j        ]]"
       ]
      }
     ],
     "prompt_number": 9
    },
    {
     "cell_type": "code",
     "collapsed": false,
     "input": [
      "timeit liouvillian(H, c_ops)"
     ],
     "language": "python",
     "metadata": {},
     "outputs": [
      {
       "output_type": "stream",
       "stream": "stdout",
       "text": [
        "1 loops, best of 3: 496 ms per loop\n"
       ]
      }
     ],
     "prompt_number": 10
    },
    {
     "cell_type": "code",
     "collapsed": false,
     "input": [
      "timeit liouvillian_fast(H, c_ops)"
     ],
     "language": "python",
     "metadata": {},
     "outputs": [
      {
       "output_type": "stream",
       "stream": "stdout",
       "text": [
        "10 loops, best of 3: 41.5 ms per loop\n"
       ]
      }
     ],
     "prompt_number": 11
    },
    {
     "cell_type": "markdown",
     "metadata": {},
     "source": [
      "### Full inspection of small system"
     ]
    },
    {
     "cell_type": "code",
     "collapsed": false,
     "input": [
      "N1 = 2\n",
      "N2 = 2\n",
      "\n",
      "a1 = tensor(rand_dm(N1, density=1.0), identity(N2))\n",
      "a2 = tensor(identity(N1), rand_dm(N2, density=1.0))\n",
      "\n",
      "H = a1.dag() * a1 + a2.dag() * a2\n",
      "\n",
      "c_ops = [sqrt(1.0) * a1, sqrt(2.0) * a2]"
     ],
     "language": "python",
     "metadata": {},
     "outputs": [],
     "prompt_number": 12
    },
    {
     "cell_type": "code",
     "collapsed": false,
     "input": [
      "N1 = 2\n",
      "\n",
      "a1 = rand_dm(N1, density=1.0)\n",
      "\n",
      "H = a1.dag() * a1\n",
      "\n",
      "c_ops = [sqrt(1.0) * a1]"
     ],
     "language": "python",
     "metadata": {},
     "outputs": [],
     "prompt_number": 13
    },
    {
     "cell_type": "code",
     "collapsed": false,
     "input": [
      "L1 = liouvillian(H, c_ops)\n",
      "\n",
      "L1"
     ],
     "language": "python",
     "metadata": {},
     "outputs": [
      {
       "latex": [
        "\\begin{equation}\\text{Quantum object: dims = [[[2], [2]], [[2], [2]]], shape = [4, 4], type = oper, isHerm = False}\\\\[1em]\\begin{pmatrix}-0.144765690223 & (0.344985612913-0.161228510818j) & (0.344985612913+0.161228510818j) & 0.144765690223\\\\(-0.357041058975-0.132406147982j) & (-0.148136870154-0.0821118740651j) & (-0.101655033798-0.103069681134j) & (0.357041058975+0.132406147982j)\\\\(-0.357041058975+0.132406147982j) & (-0.101655033798+0.103069681134j) & (-0.148136870154+0.0821118740651j) & (0.357041058975-0.132406147982j)\\\\0.144765690223 & (-0.344985612913+0.161228510818j) & (-0.344985612913-0.161228510818j) & -0.144765690223\\\\\\end{pmatrix}\\end{equation}"
       ],
       "output_type": "pyout",
       "prompt_number": 14,
       "text": [
        "Quantum object: dims = [[[2], [2]], [[2], [2]]], shape = [4, 4], type = oper, isherm = False\n",
        "Qobj data =\n",
        "[[-0.14476569+0.j          0.34498561-0.16122851j  0.34498561+0.16122851j\n",
        "   0.14476569+0.j        ]\n",
        " [-0.35704106-0.13240615j -0.14813687-0.08211187j -0.10165503-0.10306968j\n",
        "   0.35704106+0.13240615j]\n",
        " [-0.35704106+0.13240615j -0.10165503+0.10306968j -0.14813687+0.08211187j\n",
        "   0.35704106-0.13240615j]\n",
        " [ 0.14476569+0.j         -0.34498561+0.16122851j -0.34498561-0.16122851j\n",
        "  -0.14476569+0.j        ]]"
       ]
      }
     ],
     "prompt_number": 14
    },
    {
     "cell_type": "code",
     "collapsed": false,
     "input": [
      "L2 = liouvillian_fast(H, c_ops)\n",
      "\n",
      "L2"
     ],
     "language": "python",
     "metadata": {},
     "outputs": [
      {
       "latex": [
        "\\begin{equation}\\text{Quantum object: dims = [[[2], [2]], [[2], [2]]], shape = [4, 4], type = oper, isHerm = True}\\\\[1em]\\begin{pmatrix}-0.144765690223 & (0.344985612913-0.161228510818j) & (0.344985612913+0.161228510818j) & 0.144765690223\\\\(-0.357041058975-0.132406147982j) & (-0.148136870154-0.0821118740651j) & (-0.101655033798-0.103069681134j) & (0.357041058975+0.132406147982j)\\\\(-0.357041058975+0.132406147982j) & (-0.101655033798+0.103069681134j) & (-0.148136870154+0.0821118740651j) & (0.357041058975-0.132406147982j)\\\\0.144765690223 & (-0.344985612913+0.161228510818j) & (-0.344985612913-0.161228510818j) & -0.144765690223\\\\\\end{pmatrix}\\end{equation}"
       ],
       "output_type": "pyout",
       "prompt_number": 15,
       "text": [
        "Quantum object: dims = [[[2], [2]], [[2], [2]]], shape = [4, 4], type = oper, isherm = True\n",
        "Qobj data =\n",
        "[[-0.14476569+0.j          0.34498561-0.16122851j  0.34498561+0.16122851j\n",
        "   0.14476569+0.j        ]\n",
        " [-0.35704106-0.13240615j -0.14813687-0.08211187j -0.10165503-0.10306968j\n",
        "   0.35704106+0.13240615j]\n",
        " [-0.35704106+0.13240615j -0.10165503+0.10306968j -0.14813687+0.08211187j\n",
        "   0.35704106-0.13240615j]\n",
        " [ 0.14476569+0.j         -0.34498561+0.16122851j -0.34498561-0.16122851j\n",
        "  -0.14476569+0.j        ]]"
       ]
      }
     ],
     "prompt_number": 15
    },
    {
     "cell_type": "code",
     "collapsed": false,
     "input": [
      "L1-L2"
     ],
     "language": "python",
     "metadata": {},
     "outputs": [
      {
       "latex": [
        "\\begin{equation}\\text{Quantum object: dims = [[[2], [2]], [[2], [2]]], shape = [4, 4], type = oper, isHerm = False}\\\\[1em]\\begin{pmatrix}0.0 & 0.0 & 0.0 & 0.0\\\\0.0 & 0.0 & 0.0 & 0.0\\\\0.0 & 0.0 & 0.0 & 0.0\\\\0.0 & 0.0 & 0.0 & 0.0\\\\\\end{pmatrix}\\end{equation}"
       ],
       "output_type": "pyout",
       "prompt_number": 16,
       "text": [
        "Quantum object: dims = [[[2], [2]], [[2], [2]]], shape = [4, 4], type = oper, isherm = False\n",
        "Qobj data =\n",
        "[[ 0.  0.  0.  0.]\n",
        " [ 0.  0.  0.  0.]\n",
        " [ 0.  0.  0.  0.]\n",
        " [ 0.  0.  0.  0.]]"
       ]
      }
     ],
     "prompt_number": 16
    },
    {
     "cell_type": "markdown",
     "metadata": {},
     "source": [
      "### Benchmark vs system size"
     ]
    },
    {
     "cell_type": "code",
     "collapsed": false,
     "input": [
      "def benchmark_liouvillian(N_vec):\n",
      "    \n",
      "    res1 = zeros(shape(N_vec))\n",
      "    res2 = zeros(shape(N_vec))\n",
      "    \n",
      "    for idx, N in enumerate(N_vec):\n",
      "        H, c_ops = system_ops(N)\n",
      "        \n",
      "        t0 = time.time()\n",
      "        L = liouvillian(H, c_ops)\n",
      "        t1 = time.time()\n",
      "        res1[idx] = t1-t0\n",
      "\n",
      "        t0 = time.time()\n",
      "        L = liouvillian_fast(H, c_ops)\n",
      "        t1 = time.time()\n",
      "        res2[idx] = t1-t0\n",
      "    \n",
      "    return res1, res2"
     ],
     "language": "python",
     "metadata": {},
     "outputs": [],
     "prompt_number": 17
    },
    {
     "cell_type": "code",
     "collapsed": false,
     "input": [
      "N_vec = array([2,3,4,5,6,7,8])"
     ],
     "language": "python",
     "metadata": {},
     "outputs": [],
     "prompt_number": 18
    },
    {
     "cell_type": "code",
     "collapsed": false,
     "input": [
      "t0 = time.time()\n",
      "res1, res2 = benchmark_liouvillian(N_vec)\n",
      "t1 = time.time()\n",
      "\n",
      "t1-t0"
     ],
     "language": "python",
     "metadata": {},
     "outputs": [
      {
       "output_type": "pyout",
       "prompt_number": 19,
       "text": [
        "651.1269519329071"
       ]
      }
     ],
     "prompt_number": 19
    },
    {
     "cell_type": "code",
     "collapsed": false,
     "input": [
      "fig, axes = subplots(1, 2, figsize=(14, 6))\n",
      "\n",
      "axes[0].plot(N_vec, res1, lw=2, label='liouvillian')\n",
      "axes[0].plot(N_vec, res2, lw=2, label='liouvillian_fast')\n",
      "axes[0].legend(loc=0)\n",
      "\n",
      "axes[1].plot(N_vec, res1 / res2, lw=2, label='speedup')\n",
      "axes[1].legend(loc=0)"
     ],
     "language": "python",
     "metadata": {},
     "outputs": [
      {
       "output_type": "pyout",
       "prompt_number": 20,
       "text": [
        "<matplotlib.legend.Legend at 0x48718d0>"
       ]
      },
      {
       "output_type": "display_data",
       "png": "[encoded data removed]"
      }
     ],
     "prompt_number": 20
    },
    {
     "cell_type": "markdown",
     "metadata": {},
     "source": [
      "### Test different combinations of preconstructed liouvillians"
     ]
    },
    {
     "cell_type": "code",
     "collapsed": false,
     "input": [
      "H, c_ops = system_ops2(3)"
     ],
     "language": "python",
     "metadata": {},
     "outputs": [],
     "prompt_number": 21
    },
    {
     "cell_type": "markdown",
     "metadata": {},
     "source": [
      "#### Standard"
     ]
    },
    {
     "cell_type": "code",
     "collapsed": false,
     "input": [
      "liouvillian(H, c_ops) - liouvillian_fast(H, c_ops)"
     ],
     "language": "python",
     "metadata": {},
     "outputs": [
      {
       "latex": [
        "\\begin{equation}\\text{Quantum object: dims = [[[3, 4], [3, 4]], [[3, 4], [3, 4]]], shape = [144, 144], type = oper, isHerm = False}\\\\[1em]\\begin{pmatrix}0.0 & 0.0 & 0.0 & 0.0 & 0.0 & \\cdots & 0.0 & 0.0 & 0.0 & 0.0 & 0.0\\\\0.0 & 0.0 & 0.0 & 0.0 & 0.0 & \\cdots & 0.0 & 0.0 & 0.0 & 0.0 & 0.0\\\\0.0 & 0.0 & 0.0 & 0.0 & 0.0 & \\cdots & 0.0 & 0.0 & 0.0 & 0.0 & 0.0\\\\0.0 & 0.0 & 0.0 & 0.0 & 0.0 & \\cdots & 0.0 & 0.0 & 0.0 & 0.0 & 0.0\\\\0.0 & 0.0 & 0.0 & 0.0 & 0.0 & \\cdots & 0.0 & 0.0 & 0.0 & 0.0 & 0.0\\\\\\vdots & \\vdots & \\vdots & \\vdots & \\vdots & \\ddots & \\vdots & \\vdots & \\vdots & \\vdots & \\vdots\\\\0.0 & 0.0 & 0.0 & 0.0 & 0.0 & \\cdots & 0.0 & 0.0 & 0.0 & 0.0 & 0.0\\\\0.0 & 0.0 & 0.0 & 0.0 & 0.0 & \\cdots & 0.0 & 0.0 & 0.0 & 0.0 & 0.0\\\\0.0 & 0.0 & 0.0 & 0.0 & 0.0 & \\cdots & 0.0 & 0.0 & 0.0 & 0.0 & 0.0\\\\0.0 & 0.0 & 0.0 & 0.0 & 0.0 & \\cdots & 0.0 & 0.0 & 0.0 & 0.0 & 0.0\\\\0.0 & 0.0 & 0.0 & 0.0 & 0.0 & \\cdots & 0.0 & 0.0 & 0.0 & 0.0 & 0.0\\\\\\end{pmatrix}\\end{equation}"
       ],
       "output_type": "pyout",
       "prompt_number": 22,
       "text": [
        "Quantum object: dims = [[[3, 4], [3, 4]], [[3, 4], [3, 4]]], shape = [144, 144], type = oper, isherm = False\n",
        "Qobj data =\n",
        "[[ 0.  0.  0. ...,  0.  0.  0.]\n",
        " [ 0.  0.  0. ...,  0.  0.  0.]\n",
        " [ 0.  0.  0. ...,  0.  0.  0.]\n",
        " ..., \n",
        " [ 0.  0.  0. ...,  0.  0.  0.]\n",
        " [ 0.  0.  0. ...,  0.  0.  0.]\n",
        " [ 0.  0.  0. ...,  0.  0.  0.]]"
       ]
      }
     ],
     "prompt_number": 22
    },
    {
     "cell_type": "markdown",
     "metadata": {},
     "source": [
      "#### Without collapse operators"
     ]
    },
    {
     "cell_type": "code",
     "collapsed": false,
     "input": [
      "liouvillian(H, []) - liouvillian_fast(H, [])"
     ],
     "language": "python",
     "metadata": {},
     "outputs": [
      {
       "latex": [
        "\\begin{equation}\\text{Quantum object: dims = [[[3, 4], [3, 4]], [[3, 4], [3, 4]]], shape = [144, 144], type = oper, isHerm = False}\\\\[1em]\\begin{pmatrix}0.0 & 0.0 & 0.0 & 0.0 & 0.0 & \\cdots & 0.0 & 0.0 & 0.0 & 0.0 & 0.0\\\\0.0 & 0.0 & 0.0 & 0.0 & 0.0 & \\cdots & 0.0 & 0.0 & 0.0 & 0.0 & 0.0\\\\0.0 & 0.0 & 0.0 & 0.0 & 0.0 & \\cdots & 0.0 & 0.0 & 0.0 & 0.0 & 0.0\\\\0.0 & 0.0 & 0.0 & 0.0 & 0.0 & \\cdots & 0.0 & 0.0 & 0.0 & 0.0 & 0.0\\\\0.0 & 0.0 & 0.0 & 0.0 & 0.0 & \\cdots & 0.0 & 0.0 & 0.0 & 0.0 & 0.0\\\\\\vdots & \\vdots & \\vdots & \\vdots & \\vdots & \\ddots & \\vdots & \\vdots & \\vdots & \\vdots & \\vdots\\\\0.0 & 0.0 & 0.0 & 0.0 & 0.0 & \\cdots & 0.0 & 0.0 & 0.0 & 0.0 & 0.0\\\\0.0 & 0.0 & 0.0 & 0.0 & 0.0 & \\cdots & 0.0 & 0.0 & 0.0 & 0.0 & 0.0\\\\0.0 & 0.0 & 0.0 & 0.0 & 0.0 & \\cdots & 0.0 & 0.0 & 0.0 & 0.0 & 0.0\\\\0.0 & 0.0 & 0.0 & 0.0 & 0.0 & \\cdots & 0.0 & 0.0 & 0.0 & 0.0 & 0.0\\\\0.0 & 0.0 & 0.0 & 0.0 & 0.0 & \\cdots & 0.0 & 0.0 & 0.0 & 0.0 & 0.0\\\\\\end{pmatrix}\\end{equation}"
       ],
       "output_type": "pyout",
       "prompt_number": 23,
       "text": [
        "Quantum object: dims = [[[3, 4], [3, 4]], [[3, 4], [3, 4]]], shape = [144, 144], type = oper, isherm = False\n",
        "Qobj data =\n",
        "[[ 0.  0.  0. ...,  0.  0.  0.]\n",
        " [ 0.  0.  0. ...,  0.  0.  0.]\n",
        " [ 0.  0.  0. ...,  0.  0.  0.]\n",
        " ..., \n",
        " [ 0.  0.  0. ...,  0.  0.  0.]\n",
        " [ 0.  0.  0. ...,  0.  0.  0.]\n",
        " [ 0.  0.  0. ...,  0.  0.  0.]]"
       ]
      }
     ],
     "prompt_number": 23
    },
    {
     "cell_type": "markdown",
     "metadata": {},
     "source": [
      "#### Without hamiltonian"
     ]
    },
    {
     "cell_type": "code",
     "collapsed": false,
     "input": [
      "liouvillian(None, c_ops) - liouvillian_fast(None, c_ops)"
     ],
     "language": "python",
     "metadata": {},
     "outputs": [
      {
       "latex": [
        "\\begin{equation}\\text{Quantum object: dims = [[[3, 4], [3, 4]], [[3, 4], [3, 4]]], shape = [144, 144], type = super, isHerm = False}\\\\[1em]\\begin{pmatrix}0.0 & 0.0 & 0.0 & 0.0 & 0.0 & \\cdots & 0.0 & 0.0 & 0.0 & 0.0 & 0.0\\\\0.0 & 0.0 & 0.0 & 0.0 & 0.0 & \\cdots & 0.0 & 0.0 & 0.0 & 0.0 & 0.0\\\\0.0 & 0.0 & 0.0 & 0.0 & 0.0 & \\cdots & 0.0 & 0.0 & 0.0 & 0.0 & 0.0\\\\0.0 & 0.0 & 0.0 & 0.0 & 0.0 & \\cdots & 0.0 & 0.0 & 0.0 & 0.0 & 0.0\\\\0.0 & 0.0 & 0.0 & 0.0 & 0.0 & \\cdots & 0.0 & 0.0 & 0.0 & 0.0 & 0.0\\\\\\vdots & \\vdots & \\vdots & \\vdots & \\vdots & \\ddots & \\vdots & \\vdots & \\vdots & \\vdots & \\vdots\\\\0.0 & 0.0 & 0.0 & 0.0 & 0.0 & \\cdots & 0.0 & 0.0 & 0.0 & 0.0 & 0.0\\\\0.0 & 0.0 & 0.0 & 0.0 & 0.0 & \\cdots & 0.0 & 0.0 & 0.0 & 0.0 & 0.0\\\\0.0 & 0.0 & 0.0 & 0.0 & 0.0 & \\cdots & 0.0 & 0.0 & 0.0 & 0.0 & 0.0\\\\0.0 & 0.0 & 0.0 & 0.0 & 0.0 & \\cdots & 0.0 & 0.0 & 0.0 & 0.0 & 0.0\\\\0.0 & 0.0 & 0.0 & 0.0 & 0.0 & \\cdots & 0.0 & 0.0 & 0.0 & 0.0 & 0.0\\\\\\end{pmatrix}\\end{equation}"
       ],
       "output_type": "pyout",
       "prompt_number": 24,
       "text": [
        "Quantum object: dims = [[[3, 4], [3, 4]], [[3, 4], [3, 4]]], shape = [144, 144], type = super, isherm = False\n",
        "Qobj data =\n",
        "[[ 0.  0.  0. ...,  0.  0.  0.]\n",
        " [ 0.  0.  0. ...,  0.  0.  0.]\n",
        " [ 0.  0.  0. ...,  0.  0.  0.]\n",
        " ..., \n",
        " [ 0.  0.  0. ...,  0.  0.  0.]\n",
        " [ 0.  0.  0. ...,  0.  0.  0.]\n",
        " [ 0.  0.  0. ...,  0.  0.  0.]]"
       ]
      }
     ],
     "prompt_number": 24
    },
    {
     "cell_type": "markdown",
     "metadata": {},
     "source": [
      "#### With preconstructed liouvillian instead of collapse operators"
     ]
    },
    {
     "cell_type": "code",
     "collapsed": false,
     "input": [
      "L_c_ops = liouvillian(None, c_ops)"
     ],
     "language": "python",
     "metadata": {},
     "outputs": [],
     "prompt_number": 25
    },
    {
     "cell_type": "code",
     "collapsed": false,
     "input": [
      "liouvillian(H, [L_c_ops]) - liouvillian_fast(H, [L_c_ops])"
     ],
     "language": "python",
     "metadata": {},
     "outputs": [
      {
       "latex": [
        "\\begin{equation}\\text{Quantum object: dims = [[[3, 4], [3, 4]], [[3, 4], [3, 4]]], shape = [144, 144], type = oper, isHerm = False}\\\\[1em]\\begin{pmatrix}0.0 & 0.0 & 0.0 & 0.0 & 0.0 & \\cdots & 0.0 & 0.0 & 0.0 & 0.0 & 0.0\\\\0.0 & 0.0 & 0.0 & 0.0 & 0.0 & \\cdots & 0.0 & 0.0 & 0.0 & 0.0 & 0.0\\\\0.0 & 0.0 & 0.0 & 0.0 & 0.0 & \\cdots & 0.0 & 0.0 & 0.0 & 0.0 & 0.0\\\\0.0 & 0.0 & 0.0 & 0.0 & 0.0 & \\cdots & 0.0 & 0.0 & 0.0 & 0.0 & 0.0\\\\0.0 & 0.0 & 0.0 & 0.0 & 0.0 & \\cdots & 0.0 & 0.0 & 0.0 & 0.0 & 0.0\\\\\\vdots & \\vdots & \\vdots & \\vdots & \\vdots & \\ddots & \\vdots & \\vdots & \\vdots & \\vdots & \\vdots\\\\0.0 & 0.0 & 0.0 & 0.0 & 0.0 & \\cdots & 0.0 & 0.0 & 0.0 & 0.0 & 0.0\\\\0.0 & 0.0 & 0.0 & 0.0 & 0.0 & \\cdots & 0.0 & 0.0 & 0.0 & 0.0 & 0.0\\\\0.0 & 0.0 & 0.0 & 0.0 & 0.0 & \\cdots & 0.0 & 0.0 & 0.0 & 0.0 & 0.0\\\\0.0 & 0.0 & 0.0 & 0.0 & 0.0 & \\cdots & 0.0 & 0.0 & 0.0 & 0.0 & 0.0\\\\0.0 & 0.0 & 0.0 & 0.0 & 0.0 & \\cdots & 0.0 & 0.0 & 0.0 & 0.0 & 0.0\\\\\\end{pmatrix}\\end{equation}"
       ],
       "output_type": "pyout",
       "prompt_number": 26,
       "text": [
        "Quantum object: dims = [[[3, 4], [3, 4]], [[3, 4], [3, 4]]], shape = [144, 144], type = oper, isherm = False\n",
        "Qobj data =\n",
        "[[ 0.  0.  0. ...,  0.  0.  0.]\n",
        " [ 0.  0.  0. ...,  0.  0.  0.]\n",
        " [ 0.  0.  0. ...,  0.  0.  0.]\n",
        " ..., \n",
        " [ 0.  0.  0. ...,  0.  0.  0.]\n",
        " [ 0.  0.  0. ...,  0.  0.  0.]\n",
        " [ 0.  0.  0. ...,  0.  0.  0.]]"
       ]
      }
     ],
     "prompt_number": 26
    },
    {
     "cell_type": "code",
     "collapsed": false,
     "input": [
      "liouvillian(None, [L_c_ops]) - liouvillian_fast(None, [L_c_ops])"
     ],
     "language": "python",
     "metadata": {},
     "outputs": [
      {
       "latex": [
        "\\begin{equation}\\text{Quantum object: dims = [[[3, 4], [3, 4]], [[3, 4], [3, 4]]], shape = [144, 144], type = super, isHerm = False}\\\\[1em]\\begin{pmatrix}0.0 & 0.0 & 0.0 & 0.0 & 0.0 & \\cdots & 0.0 & 0.0 & 0.0 & 0.0 & 0.0\\\\0.0 & 0.0 & 0.0 & 0.0 & 0.0 & \\cdots & 0.0 & 0.0 & 0.0 & 0.0 & 0.0\\\\0.0 & 0.0 & 0.0 & 0.0 & 0.0 & \\cdots & 0.0 & 0.0 & 0.0 & 0.0 & 0.0\\\\0.0 & 0.0 & 0.0 & 0.0 & 0.0 & \\cdots & 0.0 & 0.0 & 0.0 & 0.0 & 0.0\\\\0.0 & 0.0 & 0.0 & 0.0 & 0.0 & \\cdots & 0.0 & 0.0 & 0.0 & 0.0 & 0.0\\\\\\vdots & \\vdots & \\vdots & \\vdots & \\vdots & \\ddots & \\vdots & \\vdots & \\vdots & \\vdots & \\vdots\\\\0.0 & 0.0 & 0.0 & 0.0 & 0.0 & \\cdots & 0.0 & 0.0 & 0.0 & 0.0 & 0.0\\\\0.0 & 0.0 & 0.0 & 0.0 & 0.0 & \\cdots & 0.0 & 0.0 & 0.0 & 0.0 & 0.0\\\\0.0 & 0.0 & 0.0 & 0.0 & 0.0 & \\cdots & 0.0 & 0.0 & 0.0 & 0.0 & 0.0\\\\0.0 & 0.0 & 0.0 & 0.0 & 0.0 & \\cdots & 0.0 & 0.0 & 0.0 & 0.0 & 0.0\\\\0.0 & 0.0 & 0.0 & 0.0 & 0.0 & \\cdots & 0.0 & 0.0 & 0.0 & 0.0 & 0.0\\\\\\end{pmatrix}\\end{equation}"
       ],
       "output_type": "pyout",
       "prompt_number": 27,
       "text": [
        "Quantum object: dims = [[[3, 4], [3, 4]], [[3, 4], [3, 4]]], shape = [144, 144], type = super, isherm = False\n",
        "Qobj data =\n",
        "[[ 0.  0.  0. ...,  0.  0.  0.]\n",
        " [ 0.  0.  0. ...,  0.  0.  0.]\n",
        " [ 0.  0.  0. ...,  0.  0.  0.]\n",
        " ..., \n",
        " [ 0.  0.  0. ...,  0.  0.  0.]\n",
        " [ 0.  0.  0. ...,  0.  0.  0.]\n",
        " [ 0.  0.  0. ...,  0.  0.  0.]]"
       ]
      }
     ],
     "prompt_number": 27
    },
    {
     "cell_type": "markdown",
     "metadata": {},
     "source": [
      "#### With preconstructed liouvillian instead of hamiltonian"
     ]
    },
    {
     "cell_type": "code",
     "collapsed": false,
     "input": [
      "L_H = liouvillian_fast(H, [])"
     ],
     "language": "python",
     "metadata": {},
     "outputs": [],
     "prompt_number": 28
    },
    {
     "cell_type": "code",
     "collapsed": false,
     "input": [
      "liouvillian(H, []) - liouvillian_fast(L_H, [])"
     ],
     "language": "python",
     "metadata": {},
     "outputs": [
      {
       "latex": [
        "\\begin{equation}\\text{Quantum object: dims = [[[3, 4], [3, 4]], [[3, 4], [3, 4]]], shape = [144, 144], type = oper, isHerm = False}\\\\[1em]\\begin{pmatrix}0.0 & 0.0 & 0.0 & 0.0 & 0.0 & \\cdots & 0.0 & 0.0 & 0.0 & 0.0 & 0.0\\\\0.0 & 0.0 & 0.0 & 0.0 & 0.0 & \\cdots & 0.0 & 0.0 & 0.0 & 0.0 & 0.0\\\\0.0 & 0.0 & 0.0 & 0.0 & 0.0 & \\cdots & 0.0 & 0.0 & 0.0 & 0.0 & 0.0\\\\0.0 & 0.0 & 0.0 & 0.0 & 0.0 & \\cdots & 0.0 & 0.0 & 0.0 & 0.0 & 0.0\\\\0.0 & 0.0 & 0.0 & 0.0 & 0.0 & \\cdots & 0.0 & 0.0 & 0.0 & 0.0 & 0.0\\\\\\vdots & \\vdots & \\vdots & \\vdots & \\vdots & \\ddots & \\vdots & \\vdots & \\vdots & \\vdots & \\vdots\\\\0.0 & 0.0 & 0.0 & 0.0 & 0.0 & \\cdots & 0.0 & 0.0 & 0.0 & 0.0 & 0.0\\\\0.0 & 0.0 & 0.0 & 0.0 & 0.0 & \\cdots & 0.0 & 0.0 & 0.0 & 0.0 & 0.0\\\\0.0 & 0.0 & 0.0 & 0.0 & 0.0 & \\cdots & 0.0 & 0.0 & 0.0 & 0.0 & 0.0\\\\0.0 & 0.0 & 0.0 & 0.0 & 0.0 & \\cdots & 0.0 & 0.0 & 0.0 & 0.0 & 0.0\\\\0.0 & 0.0 & 0.0 & 0.0 & 0.0 & \\cdots & 0.0 & 0.0 & 0.0 & 0.0 & 0.0\\\\\\end{pmatrix}\\end{equation}"
       ],
       "output_type": "pyout",
       "prompt_number": 29,
       "text": [
        "Quantum object: dims = [[[3, 4], [3, 4]], [[3, 4], [3, 4]]], shape = [144, 144], type = oper, isherm = False\n",
        "Qobj data =\n",
        "[[ 0.  0.  0. ...,  0.  0.  0.]\n",
        " [ 0.  0.  0. ...,  0.  0.  0.]\n",
        " [ 0.  0.  0. ...,  0.  0.  0.]\n",
        " ..., \n",
        " [ 0.  0.  0. ...,  0.  0.  0.]\n",
        " [ 0.  0.  0. ...,  0.  0.  0.]\n",
        " [ 0.  0.  0. ...,  0.  0.  0.]]"
       ]
      }
     ],
     "prompt_number": 29
    },
    {
     "cell_type": "code",
     "collapsed": false,
     "input": [
      "liouvillian(H, c_ops) - liouvillian_fast(L_H, c_ops)"
     ],
     "language": "python",
     "metadata": {},
     "outputs": [
      {
       "latex": [
        "\\begin{equation}\\text{Quantum object: dims = [[[3, 4], [3, 4]], [[3, 4], [3, 4]]], shape = [144, 144], type = oper, isHerm = False}\\\\[1em]\\begin{pmatrix}0.0 & 0.0 & 0.0 & 0.0 & 0.0 & \\cdots & 0.0 & 0.0 & 0.0 & 0.0 & 0.0\\\\0.0 & 0.0 & 0.0 & 0.0 & 0.0 & \\cdots & 0.0 & 0.0 & 0.0 & 0.0 & 0.0\\\\0.0 & 0.0 & 0.0 & 0.0 & 0.0 & \\cdots & 0.0 & 0.0 & 0.0 & 0.0 & 0.0\\\\0.0 & 0.0 & 0.0 & 0.0 & 0.0 & \\cdots & 0.0 & 0.0 & 0.0 & 0.0 & 0.0\\\\0.0 & 0.0 & 0.0 & 0.0 & 0.0 & \\cdots & 0.0 & 0.0 & 0.0 & 0.0 & 0.0\\\\\\vdots & \\vdots & \\vdots & \\vdots & \\vdots & \\ddots & \\vdots & \\vdots & \\vdots & \\vdots & \\vdots\\\\0.0 & 0.0 & 0.0 & 0.0 & 0.0 & \\cdots & 0.0 & 0.0 & 0.0 & 0.0 & 0.0\\\\0.0 & 0.0 & 0.0 & 0.0 & 0.0 & \\cdots & 0.0 & 0.0 & 0.0 & 0.0 & 0.0\\\\0.0 & 0.0 & 0.0 & 0.0 & 0.0 & \\cdots & 0.0 & 0.0 & 0.0 & 0.0 & 0.0\\\\0.0 & 0.0 & 0.0 & 0.0 & 0.0 & \\cdots & 0.0 & 0.0 & 0.0 & 0.0 & 0.0\\\\0.0 & 0.0 & 0.0 & 0.0 & 0.0 & \\cdots & 0.0 & 0.0 & 0.0 & 0.0 & 0.0\\\\\\end{pmatrix}\\end{equation}"
       ],
       "output_type": "pyout",
       "prompt_number": 30,
       "text": [
        "Quantum object: dims = [[[3, 4], [3, 4]], [[3, 4], [3, 4]]], shape = [144, 144], type = oper, isherm = False\n",
        "Qobj data =\n",
        "[[ 0.  0.  0. ...,  0.  0.  0.]\n",
        " [ 0.  0.  0. ...,  0.  0.  0.]\n",
        " [ 0.  0.  0. ...,  0.  0.  0.]\n",
        " ..., \n",
        " [ 0.  0.  0. ...,  0.  0.  0.]\n",
        " [ 0.  0.  0. ...,  0.  0.  0.]\n",
        " [ 0.  0.  0. ...,  0.  0.  0.]]"
       ]
      }
     ],
     "prompt_number": 30
    },
    {
     "cell_type": "code",
     "collapsed": false,
     "input": [
      "liouvillian(H, c_ops) - liouvillian_fast(L_H, [L_c_ops])"
     ],
     "language": "python",
     "metadata": {},
     "outputs": [
      {
       "latex": [
        "\\begin{equation}\\text{Quantum object: dims = [[[3, 4], [3, 4]], [[3, 4], [3, 4]]], shape = [144, 144], type = oper, isHerm = False}\\\\[1em]\\begin{pmatrix}0.0 & 0.0 & 0.0 & 0.0 & 0.0 & \\cdots & 0.0 & 0.0 & 0.0 & 0.0 & 0.0\\\\0.0 & 0.0 & 0.0 & 0.0 & 0.0 & \\cdots & 0.0 & 0.0 & 0.0 & 0.0 & 0.0\\\\0.0 & 0.0 & 0.0 & 0.0 & 0.0 & \\cdots & 0.0 & 0.0 & 0.0 & 0.0 & 0.0\\\\0.0 & 0.0 & 0.0 & 0.0 & 0.0 & \\cdots & 0.0 & 0.0 & 0.0 & 0.0 & 0.0\\\\0.0 & 0.0 & 0.0 & 0.0 & 0.0 & \\cdots & 0.0 & 0.0 & 0.0 & 0.0 & 0.0\\\\\\vdots & \\vdots & \\vdots & \\vdots & \\vdots & \\ddots & \\vdots & \\vdots & \\vdots & \\vdots & \\vdots\\\\0.0 & 0.0 & 0.0 & 0.0 & 0.0 & \\cdots & 0.0 & 0.0 & 0.0 & 0.0 & 0.0\\\\0.0 & 0.0 & 0.0 & 0.0 & 0.0 & \\cdots & 0.0 & 0.0 & 0.0 & 0.0 & 0.0\\\\0.0 & 0.0 & 0.0 & 0.0 & 0.0 & \\cdots & 0.0 & 0.0 & 0.0 & 0.0 & 0.0\\\\0.0 & 0.0 & 0.0 & 0.0 & 0.0 & \\cdots & 0.0 & 0.0 & 0.0 & 0.0 & 0.0\\\\0.0 & 0.0 & 0.0 & 0.0 & 0.0 & \\cdots & 0.0 & 0.0 & 0.0 & 0.0 & 0.0\\\\\\end{pmatrix}\\end{equation}"
       ],
       "output_type": "pyout",
       "prompt_number": 31,
       "text": [
        "Quantum object: dims = [[[3, 4], [3, 4]], [[3, 4], [3, 4]]], shape = [144, 144], type = oper, isherm = False\n",
        "Qobj data =\n",
        "[[ 0.  0.  0. ...,  0.  0.  0.]\n",
        " [ 0.  0.  0. ...,  0.  0.  0.]\n",
        " [ 0.  0.  0. ...,  0.  0.  0.]\n",
        " ..., \n",
        " [ 0.  0.  0. ...,  0.  0.  0.]\n",
        " [ 0.  0.  0. ...,  0.  0.  0.]\n",
        " [ 0.  0.  0. ...,  0.  0.  0.]]"
       ]
      }
     ],
     "prompt_number": 31
    },
    {
     "cell_type": "markdown",
     "metadata": {},
     "source": [
      "### Software versions"
     ]
    },
    {
     "cell_type": "code",
     "collapsed": false,
     "input": [
      "from qutip.ipynbtools import version_table; version_table()"
     ],
     "language": "python",
     "metadata": {},
     "outputs": [
      {
       "html": [
        "<table><tr><th>Software</th><th>Version</th></tr><tr><td>Cython</td><td>0.16</td></tr><tr><td>SciPy</td><td>0.10.1</td></tr><tr><td>QuTiP</td><td>2.3.0.dev-25303b6</td></tr><tr><td>Python</td><td>2.7.3 (default, Sep 26 2012, 21:51:14) \n",
        "[GCC 4.7.2]</td></tr><tr><td>IPython</td><td>0.13</td></tr><tr><td>OS</td><td>posix [linux2]</td></tr><tr><td>Numpy</td><td>1.7.0.dev-3f45eaa</td></tr><tr><td>matplotlib</td><td>1.3.x</td></tr><tr><td colspan='2'>Tue Mar  5 15:26:54 2013</td></tr></table>"
       ],
       "output_type": "pyout",
       "prompt_number": 32,
       "text": [
        "<IPython.core.display.HTML at 0x475ff50>"
       ]
      }
     ],
     "prompt_number": 32
    }
   ],
   "metadata": {}
  }
 ]
}