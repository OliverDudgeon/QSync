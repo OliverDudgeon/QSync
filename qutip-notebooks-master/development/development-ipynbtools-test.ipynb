{
 "metadata": {
  "name": "development-ipynbtools-test"
 },
 "nbformat": 3,
 "nbformat_minor": 0,
 "worksheets": [
  {
   "cells": [
    {
     "cell_type": "markdown",
     "metadata": {},
     "source": [
      "# QuTiP development notebook for testing functions qutip.ipynbtools\n",
      "\n",
      "Copyright (C) 2011 and later, Paul D. Nation & Robert J. Johansson"
     ]
    },
    {
     "cell_type": "code",
     "collapsed": false,
     "input": [
      "%pylab inline"
     ],
     "language": "python",
     "metadata": {},
     "outputs": [],
     "prompt_number": 28
    },
    {
     "cell_type": "code",
     "collapsed": false,
     "input": [
      "from qutip import *\n",
      "import qutip.ipynbtools"
     ],
     "language": "python",
     "metadata": {},
     "outputs": [],
     "prompt_number": 29
    },
    {
     "cell_type": "code",
     "collapsed": false,
     "input": [
      "import time"
     ],
     "language": "python",
     "metadata": {},
     "outputs": [],
     "prompt_number": 30
    },
    {
     "cell_type": "markdown",
     "metadata": {},
     "source": [
      "## Software versions"
     ]
    },
    {
     "cell_type": "code",
     "collapsed": false,
     "input": [
      "qutip.ipynbtools.version_table()"
     ],
     "language": "python",
     "metadata": {},
     "outputs": [
      {
       "html": [
        "<table><tr><th>Software</th><th>Version</th></tr><tr><td>Cython</td><td>0.19-dev</td></tr><tr><td>SciPy</td><td>0.13.0.dev-38ad5d2</td></tr><tr><td>QuTiP</td><td>2.3.0.dev-71d6e0c</td></tr><tr><td>Python</td><td>2.7.3 (default, Sep 26 2012, 21:51:14) \n",
        "[GCC 4.7.2]</td></tr><tr><td>IPython</td><td>0.13</td></tr><tr><td>OS</td><td>posix [linux2]</td></tr><tr><td>Numpy</td><td>1.8.0.dev-bd7104c</td></tr><tr><td>matplotlib</td><td>1.3.x</td></tr><tr><td colspan='2'>Tue Apr 23 16:06:27 2013 JST</td></tr></table>"
       ],
       "output_type": "pyout",
       "prompt_number": 31,
       "text": [
        "<IPython.core.display.HTML at 0x2638950>"
       ]
      }
     ],
     "prompt_number": 31
    },
    {
     "cell_type": "markdown",
     "metadata": {},
     "source": [
      "## IPython.parallel based parfor\n",
      "\n",
      "To run the following examples you first need to start an IPython cluster. Easy to do from the \"Clusters\" tab on the IPython notebook dashboard page, or from the command-line using\n",
      "\n",
      "    $ ipcluster start -n 4\n",
      "\n",
      "### Simple example"
     ]
    },
    {
     "cell_type": "code",
     "collapsed": false,
     "input": [
      "delay_times = numpy.random.rand(10)\n",
      "\n",
      "delay_times"
     ],
     "language": "python",
     "metadata": {},
     "outputs": [
      {
       "output_type": "pyout",
       "prompt_number": 32,
       "text": [
        "array([ 0.85397305,  0.6850936 ,  0.99509335,  0.85106784,  0.65212566,\n",
        "        0.47303261,  0.18808245,  0.13273333,  0.72033813,  0.53014309])"
       ]
      }
     ],
     "prompt_number": 32
    },
    {
     "cell_type": "code",
     "collapsed": false,
     "input": [
      "def task(delay):\n",
      "    import os, time\n",
      "\n",
      "    t0 = time.time()\n",
      "    pid = os.getpid()\n",
      "    time.sleep(delay)\n",
      "    t1 = time.time()\n",
      "    \n",
      "    return (t1-t0)  # return the actual delay"
     ],
     "language": "python",
     "metadata": {},
     "outputs": [],
     "prompt_number": 33
    },
    {
     "cell_type": "code",
     "collapsed": false,
     "input": [
      "result = map(task, delay_times)\n",
      "\n",
      "result"
     ],
     "language": "python",
     "metadata": {},
     "outputs": [
      {
       "output_type": "pyout",
       "prompt_number": 34,
       "text": [
        "[0.8548479080200195,\n",
        " 0.6857919692993164,\n",
        " 0.9961011409759521,\n",
        " 0.8519401550292969,\n",
        " 0.6527969837188721,\n",
        " 0.4735140800476074,\n",
        " 0.1882779598236084,\n",
        " 0.1328730583190918,\n",
        " 0.7210910320281982,\n",
        " 0.530709981918335]"
       ]
      }
     ],
     "prompt_number": 34
    },
    {
     "cell_type": "code",
     "collapsed": false,
     "input": [
      "result = parfor(task, delay_times)\n",
      "\n",
      "result"
     ],
     "language": "python",
     "metadata": {},
     "outputs": [
      {
       "output_type": "pyout",
       "prompt_number": 35,
       "text": [
        "[0.8548691272735596,\n",
        " 0.685809850692749,\n",
        " 0.996117115020752,\n",
        " 0.8517839908599854,\n",
        " 0.6528029441833496,\n",
        " 0.47353196144104004,\n",
        " 0.18828606605529785,\n",
        " 0.13289308547973633,\n",
        " 0.7210750579833984,\n",
        " 0.5306930541992188]"
       ]
      }
     ],
     "prompt_number": 35
    },
    {
     "cell_type": "code",
     "collapsed": false,
     "input": [
      "result = qutip.ipynbtools.parfor(task, delay_times, show_scheduling=True, show_progressbar=True)"
     ],
     "language": "python",
     "metadata": {},
     "outputs": [
      {
       "html": [
        "<div style=\"border: 1px solid grey; width: 600px\">\n",
        "  <div id=\"d1f13e5c-eb43-4a38-8aae-b0341c5949d0\" style=\"background-color: rgba(0,200,0,0.35); width:0%\">&nbsp;</div>\n",
        "</div>\n",
        "<p id=\"ffab678b-9a9b-46f3-bbb9-bfff233cd389\"></p>\n"
       ],
       "output_type": "display_data",
       "text": [
        "<IPython.core.display.HTML at 0x4764850>"
       ]
      },
      {
       "javascript": [
        "$('div#d1f13e5c-eb43-4a38-8aae-b0341c5949d0').width('0%');$('p#ffab678b-9a9b-46f3-bbb9-bfff233cd389').text('Elapsed time:   0.00s. Est. remaining time:   0.00s.');"
       ],
       "output_type": "display_data",
       "text": [
        "<IPython.core.display.Javascript at 0x4774550>"
       ]
      },
      {
       "javascript": [
        "$('div#d1f13e5c-eb43-4a38-8aae-b0341c5949d0').width('40%');$('p#ffab678b-9a9b-46f3-bbb9-bfff233cd389').text('Elapsed time:   1.01s. Est. remaining time:   1.51s.');"
       ],
       "output_type": "display_data",
       "text": [
        "<IPython.core.display.Javascript at 0x4774550>"
       ]
      },
      {
       "javascript": [
        "$('div#d1f13e5c-eb43-4a38-8aae-b0341c5949d0').width('80%');$('p#ffab678b-9a9b-46f3-bbb9-bfff233cd389').text('Elapsed time:   1.51s. Est. remaining time:   0.38s.');"
       ],
       "output_type": "display_data",
       "text": [
        "<IPython.core.display.Javascript at 0x4774550>"
       ]
      },
      {
       "javascript": [
        "$('div#d1f13e5c-eb43-4a38-8aae-b0341c5949d0').width('100%');$('p#ffab678b-9a9b-46f3-bbb9-bfff233cd389').text('Elapsed time:   1.77s. Est. remaining time:   0.00s.');"
       ],
       "output_type": "display_data",
       "text": [
        "<IPython.core.display.Javascript at 0x4774550>"
       ]
      },
      {
       "output_type": "display_data",
       "png": "[encoded data removed]"
      }
     ],
     "prompt_number": 36
    },
    {
     "cell_type": "code",
     "collapsed": false,
     "input": [
      "result"
     ],
     "language": "python",
     "metadata": {},
     "outputs": [
      {
       "output_type": "pyout",
       "prompt_number": 37,
       "text": [
        "[0.8548541069030762,\n",
        " 0.6857941150665283,\n",
        " 0.9953198432922363,\n",
        " 0.8512799739837646,\n",
        " 0.6527988910675049,\n",
        " 0.4735231399536133,\n",
        " 0.18829107284545898,\n",
        " 0.13288402557373047,\n",
        " 0.7210788726806641,\n",
        " 0.5306930541992188]"
       ]
      }
     ],
     "prompt_number": 37
    },
    {
     "cell_type": "markdown",
     "metadata": {},
     "source": [
      "### QuTiP example 1: steady state of a qubit-cavity system"
     ]
    },
    {
     "cell_type": "code",
     "collapsed": false,
     "input": [
      "def visualize_results(g_vec, n_vec):\n",
      "    \n",
      "    fig, ax = subplots()\n",
      "    ax.plot(g_vec, n_vec, lw=2)\n",
      "    ax.set_xlabel('Coupling strength (g)')\n",
      "    ax.set_ylabel('Photon Number')\n",
      "    ax.set_title('# of photons in the steady state')"
     ],
     "language": "python",
     "metadata": {},
     "outputs": [],
     "prompt_number": 38
    },
    {
     "cell_type": "code",
     "collapsed": false,
     "input": [
      "def compute_task(g, args):\n",
      "    wc, wa, N, kappa, n_th = args['wc'], args['wa'], args['N'], args['kappa'], args['n_th']\n",
      "    \n",
      "    a = tensor(destroy(N), qeye(2))\n",
      "    sm = tensor(qeye(N), destroy(2))\n",
      "    nc = a.dag() * a\n",
      "    na = sm.dag() * sm\n",
      "\n",
      "    c_ops = [sqrt(kappa * (1 + n_th)) * a, sqrt(kappa * n_th) * a.dag()]\n",
      "\n",
      "    H0 = wc * nc + wa * na\n",
      "    H1 = (a.dag() + a) * (sm + sm.dag())\n",
      "    H = H0 + g * H1\n",
      "    \n",
      "    rho_ss = steadystate(H, c_ops)\n",
      "    return expect(nc, rho_ss)"
     ],
     "language": "python",
     "metadata": {},
     "outputs": [],
     "prompt_number": 39
    },
    {
     "cell_type": "code",
     "collapsed": false,
     "input": [
      "# problem parameters\n",
      "args = {'wc': 1.0 * 2 * pi,  # cavity frequency\n",
      "        'wa': 1.0 * 2 * pi,  # atom frequency\n",
      "        'N':  25,            # number of cavity fock states\n",
      "        'kappa': 0.05,\n",
      "        'n_th':  0.5,\n",
      "        }\n",
      "\n",
      "g_vec = linspace(0, 2.5, 50) * 2 * pi"
     ],
     "language": "python",
     "metadata": {},
     "outputs": [],
     "prompt_number": 40
    },
    {
     "cell_type": "code",
     "collapsed": false,
     "input": [
      "# serial calculation\n",
      "t0 = time.time()\n",
      "n_vec = array([compute_task(g, args) for g in g_vec])\n",
      "t1 = time.time()\n",
      "\n",
      "print \"elapsed =\", (t1-t0)"
     ],
     "language": "python",
     "metadata": {},
     "outputs": [
      {
       "output_type": "stream",
       "stream": "stdout",
       "text": [
        "elapsed = 4.68055295944\n"
       ]
      }
     ],
     "prompt_number": 41
    },
    {
     "cell_type": "code",
     "collapsed": false,
     "input": [
      "visualize_results(g_vec / (2 * pi), n_vec)"
     ],
     "language": "python",
     "metadata": {},
     "outputs": [
      {
       "output_type": "display_data",
       "png": "[encoded data removed]"
      }
     ],
     "prompt_number": 42
    },
    {
     "cell_type": "code",
     "collapsed": false,
     "input": [
      "# parallel calculation using qutip parfor\n",
      "t0 = time.time()\n",
      "n_vec = parfor(compute_task, g_vec, args=args)\n",
      "t1 = time.time()\n",
      "\n",
      "print \"elapsed =\", (t1-t0)"
     ],
     "language": "python",
     "metadata": {},
     "outputs": [
      {
       "output_type": "stream",
       "stream": "stdout",
       "text": [
        "elapsed = 1.57517004013\n"
       ]
      }
     ],
     "prompt_number": 43
    },
    {
     "cell_type": "code",
     "collapsed": false,
     "input": [
      "visualize_results(g_vec / (2 * pi), n_vec)"
     ],
     "language": "python",
     "metadata": {},
     "outputs": [
      {
       "output_type": "display_data",
       "png": "[encoded data removed]"
      }
     ],
     "prompt_number": 44
    },
    {
     "cell_type": "code",
     "collapsed": false,
     "input": [
      "# parallel calculation using qutip IPython.parallel parfor\n",
      "t0 = time.time()\n",
      "n_vec = qutip.ipynbtools.parfor(compute_task, g_vec, args=args, show_scheduling=True, show_progressbar=True)\n",
      "t1 = time.time()\n",
      "\n",
      "print \"elapsed =\", (t1-t0)"
     ],
     "language": "python",
     "metadata": {},
     "outputs": [
      {
       "html": [
        "<div style=\"border: 1px solid grey; width: 600px\">\n",
        "  <div id=\"f394088a-aff0-47ac-93f5-36e71b5d47db\" style=\"background-color: rgba(0,200,0,0.35); width:0%\">&nbsp;</div>\n",
        "</div>\n",
        "<p id=\"75fd46c8-e9c4-4afd-a836-d11417a65d53\"></p>\n"
       ],
       "output_type": "display_data",
       "text": [
        "<IPython.core.display.HTML at 0x4867f10>"
       ]
      },
      {
       "javascript": [
        "$('div#f394088a-aff0-47ac-93f5-36e71b5d47db').width('0%');$('p#75fd46c8-e9c4-4afd-a836-d11417a65d53').text('Elapsed time:   0.00s. Est. remaining time:   0.00s.');"
       ],
       "output_type": "display_data",
       "text": [
        "<IPython.core.display.Javascript at 0x4867290>"
       ]
      },
      {
       "javascript": [
        "$('div#f394088a-aff0-47ac-93f5-36e71b5d47db').width('28%');$('p#75fd46c8-e9c4-4afd-a836-d11417a65d53').text('Elapsed time:   0.51s. Est. remaining time:   1.31s.');"
       ],
       "output_type": "display_data",
       "text": [
        "<IPython.core.display.Javascript at 0x468d410>"
       ]
      },
      {
       "javascript": [
        "$('div#f394088a-aff0-47ac-93f5-36e71b5d47db').width('52%');$('p#75fd46c8-e9c4-4afd-a836-d11417a65d53').text('Elapsed time:   1.01s. Est. remaining time:   0.93s.');"
       ],
       "output_type": "display_data",
       "text": [
        "<IPython.core.display.Javascript at 0x468d410>"
       ]
      },
      {
       "javascript": [
        "$('div#f394088a-aff0-47ac-93f5-36e71b5d47db').width('82%');$('p#75fd46c8-e9c4-4afd-a836-d11417a65d53').text('Elapsed time:   1.51s. Est. remaining time:   0.33s.');"
       ],
       "output_type": "display_data",
       "text": [
        "<IPython.core.display.Javascript at 0x468d410>"
       ]
      },
      {
       "javascript": [
        "$('div#f394088a-aff0-47ac-93f5-36e71b5d47db').width('100%');$('p#75fd46c8-e9c4-4afd-a836-d11417a65d53').text('Elapsed time:   1.81s. Est. remaining time:   0.00s.');"
       ],
       "output_type": "display_data",
       "text": [
        "<IPython.core.display.Javascript at 0x468d410>"
       ]
      },
      {
       "output_type": "stream",
       "stream": "stdout",
       "text": [
        "elapsed = 1.96851205826\n"
       ]
      },
      {
       "output_type": "display_data",
       "png": "[encoded data removed]"
      }
     ],
     "prompt_number": 45
    },
    {
     "cell_type": "code",
     "collapsed": false,
     "input": [
      "visualize_results(g_vec / (2 * pi), n_vec)"
     ],
     "language": "python",
     "metadata": {},
     "outputs": [
      {
       "output_type": "display_data",
       "png": "[encoded data removed]"
      }
     ],
     "prompt_number": 46
    },
    {
     "cell_type": "markdown",
     "metadata": {},
     "source": [
      "### QuTiP example 2: steady state of a qubit-cavity system with pre-allocated Qobjs"
     ]
    },
    {
     "cell_type": "code",
     "collapsed": false,
     "input": [
      "def compute_task(g, args):\n",
      "    H0, H1, c_ops, nc = args['H0'], args['H1'], args['c_ops'], args['nc']\n",
      "    H = H0 + g * H1\n",
      "    rho_ss = steadystate(H, c_ops)\n",
      "    return expect(nc, rho_ss)"
     ],
     "language": "python",
     "metadata": {},
     "outputs": [],
     "prompt_number": 47
    },
    {
     "cell_type": "code",
     "collapsed": false,
     "input": [
      "# problem parameters\n",
      "wc = 1.0 * 2 * pi\n",
      "wa = 1.0 * 2 * pi\n",
      "N = 75\n",
      "kappa = 0.05\n",
      "n_th = 0.5\n",
      "\n",
      "a = tensor(destroy(N), qeye(2))\n",
      "sm = tensor(qeye(N), destroy(2))\n",
      "nc = a.dag() * a\n",
      "na = sm.dag() * sm\n",
      "\n",
      "c_ops = [sqrt(kappa * (1 + n_th)) * a, sqrt(kappa * n_th) * a.dag()]\n",
      "\n",
      "H0 = wc * nc + wa * na\n",
      "H1 = (a.dag() + a) * (sm + sm.dag())\n",
      "\n",
      "args = {'H0': H0,\n",
      "        'H1': H1,\n",
      "        'c_ops': c_ops,\n",
      "        'nc': nc\n",
      "        }\n",
      "\n",
      "g_vec = linspace(0, 2.5, 50) * 2 * pi"
     ],
     "language": "python",
     "metadata": {},
     "outputs": [],
     "prompt_number": 48
    },
    {
     "cell_type": "code",
     "collapsed": false,
     "input": [
      "# serial calculation\n",
      "t0 = time.time()\n",
      "n_vec = array([compute_task(g, args) for g in g_vec])\n",
      "t1 = time.time()\n",
      "\n",
      "print \"elapsed =\", (t1-t0)"
     ],
     "language": "python",
     "metadata": {},
     "outputs": [
      {
       "output_type": "stream",
       "stream": "stdout",
       "text": [
        "elapsed = 30.7636711597\n"
       ]
      }
     ],
     "prompt_number": 49
    },
    {
     "cell_type": "code",
     "collapsed": false,
     "input": [
      "visualize_results(g_vec / (2 * pi), n_vec)"
     ],
     "language": "python",
     "metadata": {},
     "outputs": [
      {
       "output_type": "display_data",
       "png": "[encoded data removed]"
      }
     ],
     "prompt_number": 50
    },
    {
     "cell_type": "code",
     "collapsed": false,
     "input": [
      "# parallel calculation using qutip parfor\n",
      "t0 = time.time()\n",
      "n_vec = parfor(compute_task, g_vec, args=args)\n",
      "t1 = time.time()\n",
      "\n",
      "print \"elapsed =\", (t1-t0)"
     ],
     "language": "python",
     "metadata": {},
     "outputs": [
      {
       "output_type": "stream",
       "stream": "stdout",
       "text": [
        "elapsed = 13.2212700844\n"
       ]
      }
     ],
     "prompt_number": 51
    },
    {
     "cell_type": "code",
     "collapsed": false,
     "input": [
      "visualize_results(g_vec / (2 * pi), n_vec)"
     ],
     "language": "python",
     "metadata": {},
     "outputs": [
      {
       "output_type": "display_data",
       "png": "[encoded data removed]"
      }
     ],
     "prompt_number": 52
    },
    {
     "cell_type": "code",
     "collapsed": false,
     "input": [
      "# parallel calculation\n",
      "t0 = time.time()\n",
      "n_vec = qutip.ipynbtools.parfor(compute_task, g_vec, args=args, show_scheduling=True, show_progressbar=True)\n",
      "t1 = time.time()\n",
      "\n",
      "print \"elapsed =\", (t1-t0)"
     ],
     "language": "python",
     "metadata": {},
     "outputs": [
      {
       "html": [
        "<div style=\"border: 1px solid grey; width: 600px\">\n",
        "  <div id=\"f71ddb01-5d66-4354-8e2d-3bdf210395a5\" style=\"background-color: rgba(0,200,0,0.35); width:0%\">&nbsp;</div>\n",
        "</div>\n",
        "<p id=\"466ca3c0-51b8-429f-9a14-759e39657916\"></p>\n"
       ],
       "output_type": "display_data",
       "text": [
        "<IPython.core.display.HTML at 0x4767350>"
       ]
      },
      {
       "javascript": [
        "$('div#f71ddb01-5d66-4354-8e2d-3bdf210395a5').width('0%');$('p#466ca3c0-51b8-429f-9a14-759e39657916').text('Elapsed time:   0.01s. Est. remaining time:   0.00s.');"
       ],
       "output_type": "display_data",
       "text": [
        "<IPython.core.display.Javascript at 0x476d050>"
       ]
      },
      {
       "javascript": [
        "$('div#f71ddb01-5d66-4354-8e2d-3bdf210395a5').width('2%');$('p#466ca3c0-51b8-429f-9a14-759e39657916').text('Elapsed time:   0.52s. Est. remaining time:  25.25s.');"
       ],
       "output_type": "display_data",
       "text": [
        "<IPython.core.display.Javascript at 0x476d050>"
       ]
      },
      {
       "javascript": [
        "$('div#f71ddb01-5d66-4354-8e2d-3bdf210395a5').width('4%');$('p#466ca3c0-51b8-429f-9a14-759e39657916').text('Elapsed time:   1.02s. Est. remaining time:  24.52s.');"
       ],
       "output_type": "display_data",
       "text": [
        "<IPython.core.display.Javascript at 0x476d150>"
       ]
      },
      {
       "javascript": [
        "$('div#f71ddb01-5d66-4354-8e2d-3bdf210395a5').width('10%');$('p#466ca3c0-51b8-429f-9a14-759e39657916').text('Elapsed time:   1.53s. Est. remaining time:  13.75s.');"
       ],
       "output_type": "display_data",
       "text": [
        "<IPython.core.display.Javascript at 0x476d050>"
       ]
      },
      {
       "javascript": [
        "$('div#f71ddb01-5d66-4354-8e2d-3bdf210395a5').width('10%');$('p#466ca3c0-51b8-429f-9a14-759e39657916').text('Elapsed time:   2.03s. Est. remaining time:  18.29s.');"
       ],
       "output_type": "display_data",
       "text": [
        "<IPython.core.display.Javascript at 0x476d050>"
       ]
      },
      {
       "javascript": [
        "$('div#f71ddb01-5d66-4354-8e2d-3bdf210395a5').width('18%');$('p#466ca3c0-51b8-429f-9a14-759e39657916').text('Elapsed time:   2.54s. Est. remaining time:  11.56s.');"
       ],
       "output_type": "display_data",
       "text": [
        "<IPython.core.display.Javascript at 0x476d150>"
       ]
      },
      {
       "javascript": [
        "$('div#f71ddb01-5d66-4354-8e2d-3bdf210395a5').width('18%');$('p#466ca3c0-51b8-429f-9a14-759e39657916').text('Elapsed time:   3.04s. Est. remaining time:  13.86s.');"
       ],
       "output_type": "display_data",
       "text": [
        "<IPython.core.display.Javascript at 0x476d150>"
       ]
      },
      {
       "javascript": [
        "$('div#f71ddb01-5d66-4354-8e2d-3bdf210395a5').width('26%');$('p#466ca3c0-51b8-429f-9a14-759e39657916').text('Elapsed time:   3.55s. Est. remaining time:  10.10s.');"
       ],
       "output_type": "display_data",
       "text": [
        "<IPython.core.display.Javascript at 0x476d050>"
       ]
      },
      {
       "javascript": [
        "$('div#f71ddb01-5d66-4354-8e2d-3bdf210395a5').width('26%');$('p#466ca3c0-51b8-429f-9a14-759e39657916').text('Elapsed time:   4.05s. Est. remaining time:  11.54s.');"
       ],
       "output_type": "display_data",
       "text": [
        "<IPython.core.display.Javascript at 0x476d050>"
       ]
      },
      {
       "javascript": [
        "$('div#f71ddb01-5d66-4354-8e2d-3bdf210395a5').width('34%');$('p#466ca3c0-51b8-429f-9a14-759e39657916').text('Elapsed time:   4.56s. Est. remaining time:   8.85s.');"
       ],
       "output_type": "display_data",
       "text": [
        "<IPython.core.display.Javascript at 0x476d150>"
       ]
      },
      {
       "javascript": [
        "$('div#f71ddb01-5d66-4354-8e2d-3bdf210395a5').width('34%');$('p#466ca3c0-51b8-429f-9a14-759e39657916').text('Elapsed time:   5.06s. Est. remaining time:   9.82s.');"
       ],
       "output_type": "display_data",
       "text": [
        "<IPython.core.display.Javascript at 0x476d150>"
       ]
      },
      {
       "javascript": [
        "$('div#f71ddb01-5d66-4354-8e2d-3bdf210395a5').width('40%');$('p#466ca3c0-51b8-429f-9a14-759e39657916').text('Elapsed time:   5.57s. Est. remaining time:   8.35s.');"
       ],
       "output_type": "display_data",
       "text": [
        "<IPython.core.display.Javascript at 0x476d050>"
       ]
      },
      {
       "javascript": [
        "$('div#f71ddb01-5d66-4354-8e2d-3bdf210395a5').width('42%');$('p#466ca3c0-51b8-429f-9a14-759e39657916').text('Elapsed time:   6.07s. Est. remaining time:   8.38s.');"
       ],
       "output_type": "display_data",
       "text": [
        "<IPython.core.display.Javascript at 0x476d050>"
       ]
      },
      {
       "javascript": [
        "$('div#f71ddb01-5d66-4354-8e2d-3bdf210395a5').width('46%');$('p#466ca3c0-51b8-429f-9a14-759e39657916').text('Elapsed time:   6.57s. Est. remaining time:   7.72s.');"
       ],
       "output_type": "display_data",
       "text": [
        "<IPython.core.display.Javascript at 0x476d150>"
       ]
      },
      {
       "javascript": [
        "$('div#f71ddb01-5d66-4354-8e2d-3bdf210395a5').width('50%');$('p#466ca3c0-51b8-429f-9a14-759e39657916').text('Elapsed time:   7.08s. Est. remaining time:   7.08s.');"
       ],
       "output_type": "display_data",
       "text": [
        "<IPython.core.display.Javascript at 0x476d050>"
       ]
      },
      {
       "javascript": [
        "$('div#f71ddb01-5d66-4354-8e2d-3bdf210395a5').width('54%');$('p#466ca3c0-51b8-429f-9a14-759e39657916').text('Elapsed time:   7.58s. Est. remaining time:   6.46s.');"
       ],
       "output_type": "display_data",
       "text": [
        "<IPython.core.display.Javascript at 0x476d150>"
       ]
      },
      {
       "javascript": [
        "$('div#f71ddb01-5d66-4354-8e2d-3bdf210395a5').width('57%');$('p#466ca3c0-51b8-429f-9a14-759e39657916').text('Elapsed time:   8.09s. Est. remaining time:   5.85s.');"
       ],
       "output_type": "display_data",
       "text": [
        "<IPython.core.display.Javascript at 0x476d050>"
       ]
      },
      {
       "javascript": [
        "$('div#f71ddb01-5d66-4354-8e2d-3bdf210395a5').width('62%');$('p#466ca3c0-51b8-429f-9a14-759e39657916').text('Elapsed time:   8.59s. Est. remaining time:   5.26s.');"
       ],
       "output_type": "display_data",
       "text": [
        "<IPython.core.display.Javascript at 0x476d050>"
       ]
      },
      {
       "javascript": [
        "$('div#f71ddb01-5d66-4354-8e2d-3bdf210395a5').width('66%');$('p#466ca3c0-51b8-429f-9a14-759e39657916').text('Elapsed time:   9.09s. Est. remaining time:   4.68s.');"
       ],
       "output_type": "display_data",
       "text": [
        "<IPython.core.display.Javascript at 0x476d150>"
       ]
      },
      {
       "javascript": [
        "$('div#f71ddb01-5d66-4354-8e2d-3bdf210395a5').width('66%');$('p#466ca3c0-51b8-429f-9a14-759e39657916').text('Elapsed time:   9.60s. Est. remaining time:   4.94s.');"
       ],
       "output_type": "display_data",
       "text": [
        "<IPython.core.display.Javascript at 0x476d150>"
       ]
      },
      {
       "javascript": [
        "$('div#f71ddb01-5d66-4354-8e2d-3bdf210395a5').width('74%');$('p#466ca3c0-51b8-429f-9a14-759e39657916').text('Elapsed time:  10.10s. Est. remaining time:   3.55s.');"
       ],
       "output_type": "display_data",
       "text": [
        "<IPython.core.display.Javascript at 0x476d050>"
       ]
      },
      {
       "javascript": [
        "$('div#f71ddb01-5d66-4354-8e2d-3bdf210395a5').width('74%');$('p#466ca3c0-51b8-429f-9a14-759e39657916').text('Elapsed time:  10.60s. Est. remaining time:   3.72s.');"
       ],
       "output_type": "display_data",
       "text": [
        "<IPython.core.display.Javascript at 0x476d050>"
       ]
      },
      {
       "javascript": [
        "$('div#f71ddb01-5d66-4354-8e2d-3bdf210395a5').width('82%');$('p#466ca3c0-51b8-429f-9a14-759e39657916').text('Elapsed time:  11.10s. Est. remaining time:   2.44s.');"
       ],
       "output_type": "display_data",
       "text": [
        "<IPython.core.display.Javascript at 0x476d150>"
       ]
      },
      {
       "javascript": [
        "$('div#f71ddb01-5d66-4354-8e2d-3bdf210395a5').width('82%');$('p#466ca3c0-51b8-429f-9a14-759e39657916').text('Elapsed time:  11.61s. Est. remaining time:   2.55s.');"
       ],
       "output_type": "display_data",
       "text": [
        "<IPython.core.display.Javascript at 0x476d150>"
       ]
      },
      {
       "javascript": [
        "$('div#f71ddb01-5d66-4354-8e2d-3bdf210395a5').width('90%');$('p#466ca3c0-51b8-429f-9a14-759e39657916').text('Elapsed time:  12.11s. Est. remaining time:   1.35s.');"
       ],
       "output_type": "display_data",
       "text": [
        "<IPython.core.display.Javascript at 0x476d150>"
       ]
      },
      {
       "javascript": [
        "$('div#f71ddb01-5d66-4354-8e2d-3bdf210395a5').width('90%');$('p#466ca3c0-51b8-429f-9a14-759e39657916').text('Elapsed time:  12.61s. Est. remaining time:   1.40s.');"
       ],
       "output_type": "display_data",
       "text": [
        "<IPython.core.display.Javascript at 0x476d050>"
       ]
      },
      {
       "javascript": [
        "$('div#f71ddb01-5d66-4354-8e2d-3bdf210395a5').width('98%');$('p#466ca3c0-51b8-429f-9a14-759e39657916').text('Elapsed time:  13.11s. Est. remaining time:   0.27s.');"
       ],
       "output_type": "display_data",
       "text": [
        "<IPython.core.display.Javascript at 0x476d050>"
       ]
      },
      {
       "javascript": [
        "$('div#f71ddb01-5d66-4354-8e2d-3bdf210395a5').width('100%');$('p#466ca3c0-51b8-429f-9a14-759e39657916').text('Elapsed time:  13.44s. Est. remaining time:   0.00s.');"
       ],
       "output_type": "display_data",
       "text": [
        "<IPython.core.display.Javascript at 0x476d050>"
       ]
      },
      {
       "output_type": "stream",
       "stream": "stdout",
       "text": [
        "elapsed = 13.6379978657\n"
       ]
      },
      {
       "output_type": "display_data",
       "png": "[encoded data removed]"
      }
     ],
     "prompt_number": 53
    },
    {
     "cell_type": "code",
     "collapsed": false,
     "input": [
      "visualize_results(g_vec / (2 * pi), n_vec)"
     ],
     "language": "python",
     "metadata": {},
     "outputs": [
      {
       "output_type": "display_data",
       "png": "[encoded data removed]"
      }
     ],
     "prompt_number": 54
    }
   ],
   "metadata": {}
  }
 ]
}