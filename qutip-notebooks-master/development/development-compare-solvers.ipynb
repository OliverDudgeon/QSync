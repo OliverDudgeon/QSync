{
 "metadata": {
  "name": ""
 },
 "nbformat": 3,
 "nbformat_minor": 0,
 "worksheets": [
  {
   "cells": [
    {
     "cell_type": "heading",
     "level": 1,
     "metadata": {},
     "source": [
      "QuTiP development: compare solvers"
     ]
    },
    {
     "cell_type": "markdown",
     "metadata": {},
     "source": [
      "J.R. Johansson and P.D. Nation\n",
      "\n",
      "For more information about QuTiP see [http://qutip.org](http://qutip.org)"
     ]
    },
    {
     "cell_type": "code",
     "collapsed": false,
     "input": [
      "%pylab inline"
     ],
     "language": "python",
     "metadata": {},
     "outputs": []
    },
    {
     "cell_type": "code",
     "collapsed": false,
     "input": [
      "from qutip import *"
     ],
     "language": "python",
     "metadata": {},
     "outputs": []
    },
    {
     "cell_type": "code",
     "collapsed": false,
     "input": [
      "import time"
     ],
     "language": "python",
     "metadata": {},
     "outputs": []
    },
    {
     "cell_type": "code",
     "collapsed": false,
     "input": [
      "# Example: Rabi oscillation in the dissipative Jaynes-Cummings model.\n",
      "def qubit_integrate(epsilon, delta, g1, g2, solver):\n",
      "\n",
      "    H = epsilon / 2.0 * sigmaz() + delta / 2.0 * sigmax()\n",
      "        \n",
      "    # collapse operators\n",
      "    c_op_list = []\n",
      "\n",
      "    rate = g1\n",
      "    if rate > 0.0:\n",
      "        c_op_list.append(sqrt(rate) * sigmam())\n",
      "\n",
      "    rate = g2\n",
      "    if rate > 0.0:\n",
      "        c_op_list.append(sqrt(rate) * sigmaz())\n",
      "\n",
      "    if solver == \"me\":\n",
      "        output = mesolve(H, psi0 * psi0.dag(), tlist, c_op_list, [sigmax(), sigmay(), sigmaz()])\n",
      "        expt_list = output.expect\n",
      "    elif solver == \"wf\":\n",
      "        output = mesolve(H, psi0, tlist, [], [sigmax(), sigmay(), sigmaz()])\n",
      "        expt_list = output.expect\n",
      "    elif solver == \"es\":\n",
      "        expt_list = essolve(H, psi0, tlist, c_op_list, [sigmax(), sigmay(), sigmaz()])\n",
      "    elif solver == \"mc1\":\n",
      "        output = mcsolve(H, psi0, tlist, c_op_list, [sigmax(), sigmay(), sigmaz()], 1)\n",
      "        expt_list = output.expect\n",
      "    elif solver == \"mc250\":\n",
      "        output = mcsolve(H, psi0, tlist, c_op_list, [sigmax(), sigmay(), sigmaz()], 250)\n",
      "        expt_list = output.expect\n",
      "    elif solver == \"mc500\":\n",
      "        output = mcsolve(H, psi0, tlist, c_op_list, [sigmax(), sigmay(), sigmaz()], 500)\n",
      "        expt_list = output.expect\n",
      "    else:\n",
      "        raise ValueError(\"unknown solver\")\n",
      "        \n",
      "    return expt_list[0], expt_list[1], expt_list[2]"
     ],
     "language": "python",
     "metadata": {},
     "outputs": []
    },
    {
     "cell_type": "code",
     "collapsed": false,
     "input": [
      "epsilon = 0.0 * 2 * pi   # cavity frequency\n",
      "delta   = 1.0 * 2 * pi   # atom frequency\n",
      "g2 = 0.01\n",
      "g1 = 0.01\n",
      "\n",
      "# intial state\n",
      "psi0 = basis(2,0)\n",
      "tlist = linspace(0,5,200)"
     ],
     "language": "python",
     "metadata": {},
     "outputs": []
    },
    {
     "cell_type": "code",
     "collapsed": false,
     "input": [
      "figure(figsize=(12, 4))\n",
      "\n",
      "for solver in (\"me\", \"wf\", \"es\", \"mc1\", \"mc250\"):\n",
      "\n",
      "    start_time = time.time()\n",
      "    sx1, sy1, sz1 = qubit_integrate(epsilon, delta, g1, g2, solver)\n",
      "    print(solver + ' time elapsed = ' +str(time.time() - start_time))\n",
      "\n",
      "    figure(1)\n",
      "    plot(tlist, real(sx1), 'r')\n",
      "    plot(tlist, real(sy1), 'b')\n",
      "    plot(tlist, real(sz1), 'g')\n",
      "    \n",
      "xlabel('Time')\n",
      "ylabel('Expectation value');"
     ],
     "language": "python",
     "metadata": {},
     "outputs": []
    },
    {
     "cell_type": "heading",
     "level": 2,
     "metadata": {},
     "source": [
      "Performance"
     ]
    },
    {
     "cell_type": "code",
     "collapsed": false,
     "input": [
      "def system_integrate(Na, Nb, wa, wb, wab, ga, gb, solver):\n",
      "\n",
      "    # Hamiltonian and initial state\n",
      "    a = tensor(destroy(Na), qeye(Nb))\n",
      "    b = tensor(qeye(Na), destroy(Nb))\n",
      "    na = a.dag() * a\n",
      "    nb = b.dag() * b\n",
      "    H = wa * na  + wb * nb + wab * (a.dag() * b + a * b.dag())\n",
      "\n",
      "    # start with one more excitation in a than in b\n",
      "    psi0 = tensor(basis(Na,Na-1), basis(Nb,Nb-2))\n",
      "\n",
      "    # collapse operators\n",
      "    c_op_list = []\n",
      "\n",
      "    rate = ga\n",
      "    if rate > 0.0:\n",
      "        c_op_list.append(sqrt(rate) * a)\n",
      "\n",
      "    rate = gb\n",
      "    if rate > 0.0:\n",
      "        c_op_list.append(sqrt(rate) * b)\n",
      "\n",
      "    if solver == \"me\":\n",
      "        output = mesolve(H, psi0 * psi0.dag(), tlist, c_op_list, [na, nb])\n",
      "        expt_list = output.expect\n",
      "    elif solver == \"wf\":\n",
      "        output = mesolve(H, psi0, tlist, [], [na, nb])\n",
      "        expt_list = output.expect\n",
      "    elif solver == \"es\":\n",
      "        expt_list = essolve(H, psi0, tlist, c_op_list, [na, nb])\n",
      "    elif solver == \"mc1\":\n",
      "        output = mcsolve(H, psi0, tlist, c_op_list, [na, nb], 1)\n",
      "        expt_list = output.expect\n",
      "    elif solver == \"mc250\":\n",
      "        output = mcsolve(H, psi0, tlist, c_op_list, [na, nb], 250)\n",
      "        expt_list = output.expect\n",
      "    elif solver == \"mc500\":\n",
      "        output = mcsolve(H, psi0, tlist, c_op_list, [na, nb], 500)\n",
      "        expt_list = output.expect\n",
      "    else:\n",
      "        raise ValueError(\"unknown solver\")\n",
      "        \n",
      "    return expt_list[0], expt_list[1]"
     ],
     "language": "python",
     "metadata": {},
     "outputs": []
    },
    {
     "cell_type": "code",
     "collapsed": false,
     "input": [
      "wa  = 1.0 * 2 * pi   # frequency of system a\n",
      "wb  = 1.0 * 2 * pi   # frequency of system a\n",
      "wab = 0.1 * 2 * pi   # coupling frequency\n",
      "ga = 0.0             # dissipation rate of system a\n",
      "gb = 0.0             # dissipation rate of system b\n",
      "Na = 2               # number of states in system a\n",
      "Nb = 2               # number of states in system b\n",
      "\n",
      "tlist = linspace(0, 10, 200)\n",
      "\n",
      "show_dynamics = False\n",
      "style_map = {\"es\": \"r.\", \"ode\": \"b\", \"mc1\": \"g\", \"wf\": \"m*\"}"
     ],
     "language": "python",
     "metadata": {},
     "outputs": []
    },
    {
     "cell_type": "heading",
     "level": 3,
     "metadata": {},
     "source": [
      "Unitary dynamics"
     ]
    },
    {
     "cell_type": "code",
     "collapsed": false,
     "input": [
      "solvers = (\"wf\", \"es\", \"mc1\")\n",
      "Na_vec = arange(2, 60, 1)\n",
      "times = zeros((len(Na_vec), len(solvers)))"
     ],
     "language": "python",
     "metadata": {},
     "outputs": []
    },
    {
     "cell_type": "code",
     "collapsed": false,
     "input": [
      "n_runs = 1\n",
      "\n",
      "for n_run in range(n_runs):\n",
      "    n_idx = 0\n",
      "    for Na in Na_vec:   \n",
      "        s_idx = 0\n",
      "        for solver in solvers:\n",
      "            start_time = time.time()\n",
      "            na, nb = system_integrate(Na, Nb, wa, wb, wab, ga, gb, solver)\n",
      "            times[n_idx, s_idx] += time.time() - start_time\n",
      "            s_idx += 1\n",
      "\n",
      "            if show_dynamics:\n",
      "                figure(3)\n",
      "                plot(tlist, real(na), style_map[solver], tlist, real(nb), style_map[solver])    \n",
      "\n",
      "        if show_dynamics:\n",
      "            show()\n",
      "\n",
      "        n_idx += 1\n",
      "\n",
      "times = times / n_runs"
     ],
     "language": "python",
     "metadata": {},
     "outputs": []
    },
    {
     "cell_type": "code",
     "collapsed": false,
     "input": [
      "figure(1)\n",
      "s_idx = 0\n",
      "\n",
      "for solver in solvers:\n",
      "        \n",
      "    plot(Na_vec * Nb, times[:,s_idx])  \n",
      "    s_idx += 1\n",
      "\n",
      "xlabel('Numbers of quantum states')\n",
      "ylabel('Time to evolve system (seconds)')\n",
      "title('Comparison of solver performance for unitary evolution')\n",
      "legend(solvers);"
     ],
     "language": "python",
     "metadata": {},
     "outputs": []
    },
    {
     "cell_type": "heading",
     "level": 3,
     "metadata": {},
     "source": [
      "Dissipative dynamics"
     ]
    },
    {
     "cell_type": "code",
     "collapsed": false,
     "input": [
      "ga = 0.05            # dissipation rate of system a\n",
      "gb = 0.0             # dissipation rate of system b\n",
      "\n",
      "solvers = (\"me\", \"mc250\", \"mc500\", \"es\")\n",
      "Na_vec = arange(2, 35, 2)\n",
      "show_dynamics = False\n",
      "times = zeros((len(Na_vec), len(solvers)))"
     ],
     "language": "python",
     "metadata": {},
     "outputs": []
    },
    {
     "cell_type": "code",
     "collapsed": false,
     "input": [
      "n_runs = 1\n",
      "\n",
      "for n_run in range(n_runs):\n",
      "    n_idx = 0\n",
      "    for Na in Na_vec:   \n",
      "        s_idx = 0\n",
      "        for solver in solvers:\n",
      "        \n",
      "            start_time = time.time()\n",
      "            na, nb = system_integrate(Na, Nb, wa, wb, wab, ga, gb, solver)\n",
      "            times[n_idx, s_idx] += time.time() - start_time\n",
      "            s_idx += 1\n",
      "\n",
      "            if show_dynamics:\n",
      "                figure(3)\n",
      "                plot(tlist, real(na), 'r', tlist, real(nb), 'b')    \n",
      "\n",
      "        if show_dynamics:\n",
      "            show()\n",
      "\n",
      "        n_idx += 1\n",
      "\n",
      "times = times / n_runs"
     ],
     "language": "python",
     "metadata": {},
     "outputs": []
    },
    {
     "cell_type": "code",
     "collapsed": false,
     "input": [
      "figure(2)\n",
      "s_idx = 0\n",
      "\n",
      "for solver in solvers:\n",
      "        \n",
      "    plot(Na_vec * Nb, times[:,s_idx])  \n",
      "    s_idx += 1\n",
      "\n",
      "xlabel('Numbers of quantum states')\n",
      "ylabel('Time to evolve system (seconds)')\n",
      "title('Comparison of solver performance for nonunitary evolution')\n",
      "legend(solvers);"
     ],
     "language": "python",
     "metadata": {},
     "outputs": []
    },
    {
     "cell_type": "heading",
     "level": 2,
     "metadata": {},
     "source": [
      "Versions"
     ]
    },
    {
     "cell_type": "code",
     "collapsed": false,
     "input": [
      "from qutip.ipynbtools import version_table\n",
      "\n",
      "version_table()"
     ],
     "language": "python",
     "metadata": {},
     "outputs": []
    }
   ],
   "metadata": {}
  }
 ]
}