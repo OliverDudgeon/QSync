{
 "cells": [
  {
   "cell_type": "markdown",
   "metadata": {},
   "source": [
    "#Tensor Products & Partial Traces\n",
    "\n",
    "###Contents\n",
    "- [Tensor Products](#tensor)\n",
    "- [Partial Trace](#partial)\n",
    "- [Super Operators & Tensor Manipulations](#super)"
   ]
  },
  {
   "cell_type": "code",
   "execution_count": 2,
   "metadata": {
    "collapsed": true
   },
   "outputs": [],
   "source": [
    "import numpy as np\n",
    "from qutip import *"
   ]
  },
  {
   "cell_type": "markdown",
   "metadata": {},
   "source": [
    "<a id='tensor'></a>"
   ]
  },
  {
   "cell_type": "markdown",
   "metadata": {
    "collapsed": true
   },
   "source": [
    "##Tensor Products\n",
    "\n",
    "To describe the states of multipartite quantum systems - such as two coupled qubits, a qubit coupled to an oscillator, etc. - we need to expand the Hilbert space by taking the tensor product of the state vectors for each of the system components. Similarly, the operators acting on the state vectors in the combined Hilbert space (describing the coupled system) are formed by taking the tensor product of the individual operators.\n",
    "\n",
    "In QuTiP the function `tensor` is used to accomplish this task. This function takes as argument a collection::\n",
    "```python\n",
    "tensor(op1, op2, op3)\n",
    "```\n",
    "or a ``list``:\n",
    "```python\n",
    "tensor([op1, op2, op3])\n",
    "```\n",
    "of state vectors *or* operators and returns a composite quantum object for the combined Hilbert space. The function accepts an arbitray number of states or operators as argument. The type returned quantum object is the same as that of the input(s).\n",
    "\n",
    "For example, the state vector describing two qubits in their ground states is formed by taking the tensor product of the two single-qubit ground state vectors:"
   ]
  },
  {
   "cell_type": "code",
   "execution_count": 3,
   "metadata": {
    "collapsed": false
   },
   "outputs": [
    {
     "data": {
      "text/latex": [
       "Quantum object: dims = [[2, 2], [1, 1]], shape = [4, 1], type = ket\\begin{equation*}\\left(\\begin{array}{*{11}c}1.0\\\\0.0\\\\0.0\\\\0.0\\\\\\end{array}\\right)\\end{equation*}"
      ],
      "text/plain": [
       "Quantum object: dims = [[2, 2], [1, 1]], shape = [4, 1], type = ket\n",
       "Qobj data =\n",
       "[[ 1.]\n",
       " [ 0.]\n",
       " [ 0.]\n",
       " [ 0.]]"
      ]
     },
     "execution_count": 3,
     "metadata": {},
     "output_type": "execute_result"
    }
   ],
   "source": [
    "tensor(basis(2, 0), basis(2, 0))"
   ]
  },
  {
   "cell_type": "markdown",
   "metadata": {},
   "source": [
    "or equivalently using the ``list`` format:"
   ]
  },
  {
   "cell_type": "code",
   "execution_count": 4,
   "metadata": {
    "collapsed": false
   },
   "outputs": [
    {
     "data": {
      "text/latex": [
       "Quantum object: dims = [[2, 2], [1, 1]], shape = [4, 1], type = ket\\begin{equation*}\\left(\\begin{array}{*{11}c}1.0\\\\0.0\\\\0.0\\\\0.0\\\\\\end{array}\\right)\\end{equation*}"
      ],
      "text/plain": [
       "Quantum object: dims = [[2, 2], [1, 1]], shape = [4, 1], type = ket\n",
       "Qobj data =\n",
       "[[ 1.]\n",
       " [ 0.]\n",
       " [ 0.]\n",
       " [ 0.]]"
      ]
     },
     "execution_count": 4,
     "metadata": {},
     "output_type": "execute_result"
    }
   ],
   "source": [
    "tensor([basis(2, 0), basis(2, 0)])"
   ]
  },
  {
   "cell_type": "markdown",
   "metadata": {},
   "source": [
    "This is straightforward to generalize to more qubits by adding more component state vectors in the argument list to the `tensor` function, as illustrated in the following example:"
   ]
  },
  {
   "cell_type": "code",
   "execution_count": 6,
   "metadata": {
    "collapsed": false
   },
   "outputs": [
    {
     "data": {
      "text/latex": [
       "Quantum object: dims = [[2, 2, 2], [1, 1, 1]], shape = [8, 1], type = ket\\begin{equation*}\\left(\\begin{array}{*{11}c}0.500\\\\0.0\\\\0.500\\\\0.0\\\\0.500\\\\0.0\\\\0.500\\\\0.0\\\\\\end{array}\\right)\\end{equation*}"
      ],
      "text/plain": [
       "Quantum object: dims = [[2, 2, 2], [1, 1, 1]], shape = [8, 1], type = ket\n",
       "Qobj data =\n",
       "[[ 0.5]\n",
       " [ 0. ]\n",
       " [ 0.5]\n",
       " [ 0. ]\n",
       " [ 0.5]\n",
       " [ 0. ]\n",
       " [ 0.5]\n",
       " [ 0. ]]"
      ]
     },
     "execution_count": 6,
     "metadata": {},
     "output_type": "execute_result"
    }
   ],
   "source": [
    "tensor((basis(2, 0) + basis(2, 1)).unit(), \n",
    "        (basis(2, 0) + basis(2, 1)).unit(), basis(2, 0))"
   ]
  },
  {
   "cell_type": "markdown",
   "metadata": {},
   "source": [
    "This state is slightly more complicated, describing two qubits in a superposition between the up and down states, while the third qubit is in its ground state.\n",
    "\n",
    "To construct operators that act on an extended Hilbert space of a combined system, we similarly pass a list of operators for each component system to the `tensor` function. For example, to form the operator that represents the simultaneous action of the $\\sigma_x$ operator on two qubits:"
   ]
  },
  {
   "cell_type": "code",
   "execution_count": 7,
   "metadata": {
    "collapsed": false
   },
   "outputs": [
    {
     "data": {
      "text/latex": [
       "Quantum object: dims = [[2, 2], [2, 2]], shape = [4, 4], type = oper, isherm = True\\begin{equation*}\\left(\\begin{array}{*{11}c}0.0 & 0.0 & 0.0 & 1.0\\\\0.0 & 0.0 & 1.0 & 0.0\\\\0.0 & 1.0 & 0.0 & 0.0\\\\1.0 & 0.0 & 0.0 & 0.0\\\\\\end{array}\\right)\\end{equation*}"
      ],
      "text/plain": [
       "Quantum object: dims = [[2, 2], [2, 2]], shape = [4, 4], type = oper, isherm = True\n",
       "Qobj data =\n",
       "[[ 0.  0.  0.  1.]\n",
       " [ 0.  0.  1.  0.]\n",
       " [ 0.  1.  0.  0.]\n",
       " [ 1.  0.  0.  0.]]"
      ]
     },
     "execution_count": 7,
     "metadata": {},
     "output_type": "execute_result"
    }
   ],
   "source": [
    "tensor(sigmax(), sigmax())"
   ]
  },
  {
   "cell_type": "markdown",
   "metadata": {},
   "source": [
    "To create operators in a combined Hilbert space that only act only on a single component, we take the tensor product of the operator acting on the subspace of interest, with the identity operators corresponding to the components that are to be unchanged. For example, the operator that represents $\\sigma_z$ on the first qubit in a two-qubit system, while leaving the second qubit unaffected:"
   ]
  },
  {
   "cell_type": "code",
   "execution_count": 8,
   "metadata": {
    "collapsed": false
   },
   "outputs": [
    {
     "data": {
      "text/latex": [
       "Quantum object: dims = [[2, 2], [2, 2]], shape = [4, 4], type = oper, isherm = True\\begin{equation*}\\left(\\begin{array}{*{11}c}1.0 & 0.0 & 0.0 & 0.0\\\\0.0 & 1.0 & 0.0 & 0.0\\\\0.0 & 0.0 & -1.0 & 0.0\\\\0.0 & 0.0 & 0.0 & -1.0\\\\\\end{array}\\right)\\end{equation*}"
      ],
      "text/plain": [
       "Quantum object: dims = [[2, 2], [2, 2]], shape = [4, 4], type = oper, isherm = True\n",
       "Qobj data =\n",
       "[[ 1.  0.  0.  0.]\n",
       " [ 0.  1.  0.  0.]\n",
       " [ 0.  0. -1.  0.]\n",
       " [ 0.  0.  0. -1.]]"
      ]
     },
     "execution_count": 8,
     "metadata": {},
     "output_type": "execute_result"
    }
   ],
   "source": [
    "tensor(sigmaz(), identity(2))"
   ]
  },
  {
   "cell_type": "markdown",
   "metadata": {},
   "source": [
    "###Example: Constructing composite Hamiltonians\n",
    "\n",
    "The `tensor` function is extensively used when constructing Hamiltonians for composite systems. Here we'll look at some simple examples.\n",
    "\n",
    "####Two coupled qubits\n",
    "\n",
    "First, let's consider a system of two coupled qubits. Assume that both qubit has equal energy splitting, and that the qubits are coupled through a $\\sigma_x\\otimes\\sigma_x$ interaction with strength $g = 0.05$ (in units where the bare qubit energy splitting is unity). The Hamiltonian describing this system is:"
   ]
  },
  {
   "cell_type": "code",
   "execution_count": 11,
   "metadata": {
    "collapsed": false
   },
   "outputs": [
    {
     "data": {
      "text/latex": [
       "Quantum object: dims = [[2, 2], [2, 2]], shape = [4, 4], type = oper, isherm = True\\begin{equation*}\\left(\\begin{array}{*{11}c}2.0 & 0.0 & 0.0 & 0.050\\\\0.0 & 0.0 & 0.050 & 0.0\\\\0.0 & 0.050 & 0.0 & 0.0\\\\0.050 & 0.0 & 0.0 & -2.0\\\\\\end{array}\\right)\\end{equation*}"
      ],
      "text/plain": [
       "Quantum object: dims = [[2, 2], [2, 2]], shape = [4, 4], type = oper, isherm = True\n",
       "Qobj data =\n",
       "[[ 2.    0.    0.    0.05]\n",
       " [ 0.    0.    0.05  0.  ]\n",
       " [ 0.    0.05  0.    0.  ]\n",
       " [ 0.05  0.    0.   -2.  ]]"
      ]
     },
     "execution_count": 11,
     "metadata": {},
     "output_type": "execute_result"
    }
   ],
   "source": [
    "H = tensor(sigmaz(), identity(2)) + tensor(identity(2),\n",
    "            sigmaz()) + 0.05 * tensor(sigmax(), sigmax())\n",
    "H"
   ]
  },
  {
   "cell_type": "markdown",
   "metadata": {},
   "source": [
    "####Three coupled qubits\n",
    "The two-qubit example is easily generalized to three coupled qubits:"
   ]
  },
  {
   "cell_type": "code",
   "execution_count": 16,
   "metadata": {
    "collapsed": false
   },
   "outputs": [
    {
     "data": {
      "text/latex": [
       "Quantum object: dims = [[2, 2, 2], [2, 2, 2]], shape = [8, 8], type = oper, isherm = True\\begin{equation*}\\left(\\begin{array}{*{11}c}3.0 & 0.0 & 0.0 & 0.250 & 0.0 & 0.0 & 0.500 & 0.0\\\\0.0 & 1.0 & 0.250 & 0.0 & 0.0 & 0.0 & 0.0 & 0.500\\\\0.0 & 0.250 & 1.0 & 0.0 & 0.500 & 0.0 & 0.0 & 0.0\\\\0.250 & 0.0 & 0.0 & -1.0 & 0.0 & 0.500 & 0.0 & 0.0\\\\0.0 & 0.0 & 0.500 & 0.0 & 1.0 & 0.0 & 0.0 & 0.250\\\\0.0 & 0.0 & 0.0 & 0.500 & 0.0 & -1.0 & 0.250 & 0.0\\\\0.500 & 0.0 & 0.0 & 0.0 & 0.0 & 0.250 & -1.0 & 0.0\\\\0.0 & 0.500 & 0.0 & 0.0 & 0.250 & 0.0 & 0.0 & -3.0\\\\\\end{array}\\right)\\end{equation*}"
      ],
      "text/plain": [
       "Quantum object: dims = [[2, 2, 2], [2, 2, 2]], shape = [8, 8], type = oper, isherm = True\n",
       "Qobj data =\n",
       "[[ 3.    0.    0.    0.25  0.    0.    0.5   0.  ]\n",
       " [ 0.    1.    0.25  0.    0.    0.    0.    0.5 ]\n",
       " [ 0.    0.25  1.    0.    0.5   0.    0.    0.  ]\n",
       " [ 0.25  0.    0.   -1.    0.    0.5   0.    0.  ]\n",
       " [ 0.    0.    0.5   0.    1.    0.    0.    0.25]\n",
       " [ 0.    0.    0.    0.5   0.   -1.    0.25  0.  ]\n",
       " [ 0.5   0.    0.    0.    0.    0.25 -1.    0.  ]\n",
       " [ 0.    0.5   0.    0.    0.25  0.    0.   -3.  ]]"
      ]
     },
     "execution_count": 16,
     "metadata": {},
     "output_type": "execute_result"
    }
   ],
   "source": [
    "H = (tensor(sigmaz(), identity(2), identity(2)) + \n",
    "       tensor(identity(2), sigmaz(), identity(2)) + \n",
    "       tensor(identity(2), identity(2), sigmaz()) + \n",
    "       0.5 * tensor(sigmax(), sigmax(), identity(2)) + \n",
    "       0.25 * tensor(identity(2), sigmax(), sigmax()))\n",
    "H"
   ]
  },
  {
   "cell_type": "markdown",
   "metadata": {},
   "source": [
    "####Jaynes-Cummings Model\n",
    "\n",
    "The simplest possible quantum mechanical description for light-matter interaction is encapsulated in the Jaynes-Cummings model, which describes the coupling between a two-level atom and a single-mode electromagnetic field (a cavity mode). Denoting the energy splitting of the atom and cavity ``omega_a`` and ``omega_c``, respectively, and the atom-cavity interaction strength ``g``, the Jaynes-Cumming Hamiltonian can be constructed as:"
   ]
  },
  {
   "cell_type": "code",
   "execution_count": 19,
   "metadata": {
    "collapsed": false
   },
   "outputs": [],
   "source": [
    "N = 10   #Number of Fock states for cavity mode.\n",
    "omega_a = 1.0\n",
    "omega_c = 1.25\n",
    "g = 0.05\n",
    "a = tensor(identity(2), destroy(N))\n",
    "sm = tensor(destroy(2), identity(N))\n",
    "sz = tensor(sigmaz(), identity(N))\n",
    "H = 0.5 * omega_a * sz + omega_c * a.dag() * a + g * (a.dag() * sm + a * sm.dag())"
   ]
  },
  {
   "cell_type": "markdown",
   "metadata": {},
   "source": [
    "<a id='partial'></a>"
   ]
  },
  {
   "cell_type": "markdown",
   "metadata": {},
   "source": [
    "##Partial Trace\n",
    "\n",
    "The partial trace is an operation that reduces the dimension of a Hilbert space by eliminating some degrees of freedom by averaging (tracing). In this sense it is therefore the converse of the tensor product. It is useful when one is interested in only a part of a coupled quantum system.  For open quantum systems, this typically involves tracing over the environment leaving only the system of interest.  In QuTiP the class method `ptrace` is used to take partial traces. `ptrace` acts on the `Qobj` instance for which it is called, and it takes one argument ``sel``, which is a ``list`` of integers that mark the component systems that should be **kept**. All other components are traced out.\n",
    "\n",
    "For example, the density matrix describing a single qubit obtained from a coupled two-qubit system is obtained via:"
   ]
  },
  {
   "cell_type": "code",
   "execution_count": 20,
   "metadata": {
    "collapsed": false
   },
   "outputs": [
    {
     "data": {
      "text/latex": [
       "Quantum object: dims = [[2], [2]], shape = [2, 2], type = oper, isherm = True\\begin{equation*}\\left(\\begin{array}{*{11}c}1.0 & 0.0\\\\0.0 & 0.0\\\\\\end{array}\\right)\\end{equation*}"
      ],
      "text/plain": [
       "Quantum object: dims = [[2], [2]], shape = [2, 2], type = oper, isherm = True\n",
       "Qobj data =\n",
       "[[ 1.  0.]\n",
       " [ 0.  0.]]"
      ]
     },
     "execution_count": 20,
     "metadata": {},
     "output_type": "execute_result"
    }
   ],
   "source": [
    "psi = tensor(basis(2, 0), basis(2, 1))\n",
    "psi.ptrace(0)"
   ]
  },
  {
   "cell_type": "code",
   "execution_count": 21,
   "metadata": {
    "collapsed": false
   },
   "outputs": [
    {
     "data": {
      "text/latex": [
       "Quantum object: dims = [[2], [2]], shape = [2, 2], type = oper, isherm = True\\begin{equation*}\\left(\\begin{array}{*{11}c}0.0 & 0.0\\\\0.0 & 1.0\\\\\\end{array}\\right)\\end{equation*}"
      ],
      "text/plain": [
       "Quantum object: dims = [[2], [2]], shape = [2, 2], type = oper, isherm = True\n",
       "Qobj data =\n",
       "[[ 0.  0.]\n",
       " [ 0.  1.]]"
      ]
     },
     "execution_count": 21,
     "metadata": {},
     "output_type": "execute_result"
    }
   ],
   "source": [
    "psi.ptrace(1)"
   ]
  },
  {
   "cell_type": "markdown",
   "metadata": {},
   "source": [
    "Note that the partial trace always results in a density matrix (mixed state), regardless of whether the composite system is a pure state (described by a state vector) or a mixed state (described by a density matrix):"
   ]
  },
  {
   "cell_type": "code",
   "execution_count": 23,
   "metadata": {
    "collapsed": false
   },
   "outputs": [
    {
     "data": {
      "text/latex": [
       "Quantum object: dims = [[2], [2]], shape = [2, 2], type = oper, isherm = True\\begin{equation*}\\left(\\begin{array}{*{11}c}0.500 & 0.500\\\\0.500 & 0.500\\\\\\end{array}\\right)\\end{equation*}"
      ],
      "text/plain": [
       "Quantum object: dims = [[2], [2]], shape = [2, 2], type = oper, isherm = True\n",
       "Qobj data =\n",
       "[[ 0.5  0.5]\n",
       " [ 0.5  0.5]]"
      ]
     },
     "execution_count": 23,
     "metadata": {},
     "output_type": "execute_result"
    }
   ],
   "source": [
    "psi = tensor((basis(2, 0) + basis(2, 1)).unit(), basis(2, 0))\n",
    "psi.ptrace(0)"
   ]
  },
  {
   "cell_type": "code",
   "execution_count": 24,
   "metadata": {
    "collapsed": false
   },
   "outputs": [
    {
     "data": {
      "text/latex": [
       "Quantum object: dims = [[2], [2]], shape = [2, 2], type = oper, isherm = True\\begin{equation*}\\left(\\begin{array}{*{11}c}0.500 & 0.500\\\\0.500 & 0.500\\\\\\end{array}\\right)\\end{equation*}"
      ],
      "text/plain": [
       "Quantum object: dims = [[2], [2]], shape = [2, 2], type = oper, isherm = True\n",
       "Qobj data =\n",
       "[[ 0.5  0.5]\n",
       " [ 0.5  0.5]]"
      ]
     },
     "execution_count": 24,
     "metadata": {},
     "output_type": "execute_result"
    }
   ],
   "source": [
    "rho = tensor(ket2dm((basis(2, 0) + basis(2, 1)).unit()), fock_dm(2, 0))\n",
    "rho.ptrace(0)"
   ]
  },
  {
   "cell_type": "markdown",
   "metadata": {},
   "source": [
    "<a id='super'></a>"
   ]
  },
  {
   "cell_type": "markdown",
   "metadata": {},
   "source": [
    "##Super Operators & Tensor Manipulations\n",
    "\n",
    "*Superoperators* are operators\n",
    "that act on Liouville space, the vectorspace of linear operators.  Superoperators can be represented using the isomorphism $\\mathrm{vec} : \\mathcal{L}(\\mathcal{H}) \\to \\mathcal{H} \\otimes \\mathcal{H}$.\n",
    "To represent superoperators acting on $\\mathcal{L}(\\mathcal{H}_1 \\otimes \\mathcal{H}_2)$ thus takes some tensor rearrangement to get the desired ordering\n",
    "$\\mathcal{H}_1 \\otimes \\mathcal{H}_2 \\otimes \\mathcal{H}_1 \\otimes \\mathcal{H}_2$.\n",
    "\n",
    "In particular, this means that `tensor` does not act as one might expect on the results of `to_super`:"
   ]
  },
  {
   "cell_type": "code",
   "execution_count": 25,
   "metadata": {
    "collapsed": false
   },
   "outputs": [
    {
     "data": {
      "text/plain": [
       "[[[2, 3], [2, 3]], [[2, 3], [2, 3]]]"
      ]
     },
     "execution_count": 25,
     "metadata": {},
     "output_type": "execute_result"
    }
   ],
   "source": [
    "A = qeye([2])\n",
    "B = qeye([3])\n",
    "to_super(tensor(A, B)).dims"
   ]
  },
  {
   "cell_type": "code",
   "execution_count": 26,
   "metadata": {
    "collapsed": false
   },
   "outputs": [
    {
     "data": {
      "text/plain": [
       "[[[2], [2], [3], [3]], [[2], [2], [3], [3]]]"
      ]
     },
     "execution_count": 26,
     "metadata": {},
     "output_type": "execute_result"
    }
   ],
   "source": [
    "tensor(to_super(A), to_super(B)).dims"
   ]
  },
  {
   "cell_type": "markdown",
   "metadata": {},
   "source": [
    "In the former case, the result correctly has four copies\n",
    "of the compound index with dims ``[2, 3]``. In the latter\n",
    "case, however, each of the Hilbert space indices is listed\n",
    "independently and in the wrong order.\n",
    "\n",
    "The `super_tensor` function performs the needed\n",
    "rearrangement, providing the most direct analog to `tensor` on\n",
    "the underlying Hilbert space. In particular, for any two ``type=\"oper\"``\n",
    "Qobjs ``A`` and ``B``, ``to_super(tensor(A, B)) == super_tensor(to_super(A), to_super(B))`` and\n",
    "``operator_to_vector(tensor(A, B)) == super_tensor(operator_to_vector(A), operator_to_vector(B))``. Returning to the previous example:"
   ]
  },
  {
   "cell_type": "code",
   "execution_count": 27,
   "metadata": {
    "collapsed": false
   },
   "outputs": [
    {
     "data": {
      "text/plain": [
       "[[[2, 3], [2, 3]], [[2, 3], [2, 3]]]"
      ]
     },
     "execution_count": 27,
     "metadata": {},
     "output_type": "execute_result"
    }
   ],
   "source": [
    "super_tensor(to_super(A), to_super(B)).dims"
   ]
  },
  {
   "cell_type": "markdown",
   "metadata": {},
   "source": [
    "The `composite` function automatically switches between\n",
    "`tensor` and `super_tensor` based on the ``type``\n",
    "of its arguments, such that ``composite(A, B)`` returns an appropriate Qobj to\n",
    "represent the composition of two systems."
   ]
  },
  {
   "cell_type": "code",
   "execution_count": 28,
   "metadata": {
    "collapsed": false
   },
   "outputs": [
    {
     "data": {
      "text/plain": [
       "[[2, 3], [2, 3]]"
      ]
     },
     "execution_count": 28,
     "metadata": {},
     "output_type": "execute_result"
    }
   ],
   "source": [
    "composite(A, B).dims"
   ]
  },
  {
   "cell_type": "code",
   "execution_count": 29,
   "metadata": {
    "collapsed": false
   },
   "outputs": [
    {
     "data": {
      "text/plain": [
       "[[[2, 3], [2, 3]], [[2, 3], [2, 3]]]"
      ]
     },
     "execution_count": 29,
     "metadata": {},
     "output_type": "execute_result"
    }
   ],
   "source": [
    "composite(to_super(A), to_super(B)).dims"
   ]
  },
  {
   "cell_type": "markdown",
   "metadata": {},
   "source": [
    "QuTiP also allows more general tensor manipulations that are\n",
    "useful for converting between superoperator representations.\n",
    "In particular, the `tensor_contract` function allows for\n",
    "contracting one or more pairs of indices. As detailed in\n",
    "the [channel contraction tutorial](http://nbviewer.ipython.org/github/qutip/qutip-notebooks/blob/master/examples/example-superop-contract.ipynb), this can be used to find\n",
    "superoperators that represent partial trace maps.\n",
    "Using this functionality, we can construct some quite exotic maps,\n",
    "such as a map from $3 \\times 3$ operators to $2 \\times 2$\n",
    "operators:"
   ]
  },
  {
   "cell_type": "code",
   "execution_count": 30,
   "metadata": {
    "collapsed": false
   },
   "outputs": [
    {
     "data": {
      "text/plain": [
       "[[[2], [2]], [[3], [3]]]"
      ]
     },
     "execution_count": 30,
     "metadata": {},
     "output_type": "execute_result"
    }
   ],
   "source": [
    "tensor_contract(composite(to_super(A), to_super(B)), (1, 3), (4, 6)).dims"
   ]
  },
  {
   "cell_type": "code",
   "execution_count": 1,
   "metadata": {
    "collapsed": false
   },
   "outputs": [
    {
     "data": {
      "text/html": [
       "<style>\n",
       "@import url('http://fonts.googleapis.com/css?family=Source+Sans+Pro');\n",
       "@import url('http://fonts.googleapis.com/css?family=Source+Code+Pro');\n",
       "\n",
       "body {\n",
       "    -webkit-font-smoothing: antialiased;\n",
       "    font-family: \"Source Sans Pro\", Helvetica, Arial, Verdana, sans-serif;\n",
       "}\n",
       "\n",
       "\n",
       "div.cell{\n",
       "    width:768px;\n",
       "    margin-left:10% !important;\n",
       "    margin-right:auto;\n",
       "}\n",
       "h1 {\n",
       "    font-family: \"Source Sans Pro\", ,Helvetica, Arial, serif;\n",
       "\n",
       "}\n",
       "\n",
       "h4{\n",
       "    font-family: \"Source Sans Pro\", Helvetica, Arial, serif;\n",
       "\tmargin-top:12px;\n",
       "    margin-bottom: 3px;\n",
       "   }\n",
       "\n",
       "\n",
       "div.text_cell_render{\n",
       "    font-family: \"Source Sans Pro\", Helvetica, Arial, sans-serif;\n",
       "    line-height: 125%;\n",
       "    font-size: 110%;\n",
       "    width:768px;\n",
       "    margin-left:auto;\n",
       "    margin-right:auto;\n",
       "}\n",
       "\n",
       "div.cell.code_cell { /* area that contains code + output */\n",
       "    background: #fff;\n",
       "    border: none;\n",
       "    border-radius: 10px;\n",
       "    padding-top: 1ex;\n",
       "}\n",
       "\n",
       "div.input_area { /* box around box with code */\n",
       "    border: none;\n",
       "    background: #f5f5f5;\n",
       "    border: 1px solid #ccc;\n",
       "    border-radius: 10px;\n",
       "    padding-top: 0.5ex;\n",
       "    padding-bottom: 0.5ex;\n",
       "    padding-left: 0.5em;\n",
       "}\n",
       "\n",
       "div.prompt { /* remove In/Out prompt */\n",
       "    display: none;\n",
       "}\n",
       "\n",
       "div.cell.border-box-sizing.code_cell.running { \n",
       "    /* draw border around running cells */\n",
       "    border: 3px dotted #f33;\n",
       "}\n",
       "\n",
       ".CodeMirror{\n",
       "        font-family: \"Source Code Pro\", Consolas, monospace;\n",
       "}\n",
       ".prompt{\n",
       "    display: None;\n",
       "}\n",
       ".text_cell_render h5 {\n",
       "    font-family: \"Source Sans Pro\", Helvetica, Arial, serif;\n",
       "    font-size: 20pt;\n",
       "    color: #0001E0;\n",
       "    margin-bottom: .5em;\n",
       "    margin-top: 0.5em;\n",
       "    display: block;\n",
       "}\n",
       "\n",
       ".warning{\n",
       "    color: rgb( 240, 20, 20 )\n",
       "    }  \n",
       "\n",
       "a {\n",
       "    color: #0080FF;\n",
       "    text-decoration: none;\n",
       "    -webkit-transition: color 0.2s ease-in-out;\n",
       "    -moz-transition: color 0.2s ease-in-out;\n",
       "    -o-transition: color 0.2s ease-in-out;\n",
       "    -ms-transition: color 0.2s ease-in-out;\n",
       "    transition: color 0.2s ease-in-out;\n",
       "}\n",
       "a:hover {\n",
       "    color: #8C0028;\n",
       "}\n",
       "\n",
       "li li{\n",
       "    font-size:14px;\n",
       "}\n",
       "\n",
       "div.danger {    \n",
       "    background-color: #F7A7AA;\n",
       "    border-color: #F1595F;\n",
       "    border: 2px solid #F1595F;\n",
       "    border-radius: 5px;\n",
       "    padding-top: 0.5ex;\n",
       "    padding-bottom: 0.5ex;\n",
       "    padding-left: 0.5em;\n",
       "    }\n",
       "\n",
       "div.warn {    \n",
       "background-color: #FBD1A7;\n",
       "border-color: #F9A65A;\n",
       "border: 2px solid #F9A65A;\n",
       "border-radius: 5px;\n",
       "padding-top: 0.5ex;\n",
       "padding-bottom: 0.5ex;\n",
       "padding-left: 0.5em;\n",
       "}\n",
       "\n",
       "div.info {    \n",
       "background-color: #A6CBE9;\n",
       "border-color: #599AD3;\n",
       "border: 2px solid #599AD3;\n",
       "border-radius: 5px;\n",
       "padding-top: 0.5ex;\n",
       "padding-bottom: 0.5ex;\n",
       "padding-left: 0.5em;\n",
       "}\n",
       "\n",
       "div.success {    \n",
       "background-color: #B9E0B0;\n",
       "border-color: #79C36A;\n",
       "border: 2px solid #79C36A;\n",
       "border-radius: 5px;\n",
       "padding-top: 0.5ex;\n",
       "padding-bottom: 0.5ex;\n",
       "padding-left: 0.5em;\n",
       "}\n",
       "\n",
       "table a:link {\n",
       "    color: #666;\n",
       "    font-weight: bold;\n",
       "    text-decoration:none;\n",
       "}\n",
       "table a:visited {\n",
       "    color: #999999;\n",
       "    font-weight:bold;\n",
       "    text-decoration:none;\n",
       "}\n",
       "table a:active,\n",
       "table a:hover {\n",
       "    color: #bd5a35;\n",
       "    text-decoration:underline;\n",
       "}\n",
       "table {\n",
       "    font-family:\"Source Sans Pro\", Helvetica, Arial, serif;\n",
       "    color:#666;\n",
       "    font-size:14px;\n",
       "    text-shadow: 1px 1px 0px #fff;\n",
       "    background:#eaebec;\n",
       "    margin:20px;\n",
       "    border:#ccc 1px solid;\n",
       "    border-spacing: 0;\n",
       "    -moz-border-radius:3px;\n",
       "    -webkit-border-radius:3px;\n",
       "    border-radius:3px;\n",
       "\n",
       "    -moz-box-shadow: 0 1px 2px #d1d1d1;\n",
       "    -webkit-box-shadow: 0 1px 2px #d1d1d1;\n",
       "    box-shadow: 0 1px 2px #d1d1d1;\n",
       "}\n",
       "table th {\n",
       "    padding:21px 25px 22px 25px;\n",
       "    border-top:1px solid #fafafa;\n",
       "    border-bottom:1px solid #e0e0e0;\n",
       "\n",
       "    background: #ededed;\n",
       "    background: -webkit-gradient(linear, left top, left bottom, from(#ededed), to(#ebebeb));\n",
       "    background: -moz-linear-gradient(top,  #ededed,  #ebebeb);\n",
       "}\n",
       "table th:first-child{\n",
       "    text-align: left;\n",
       "    padding-left:20px;\n",
       "}\n",
       "table tr:first-child th:first-child{\n",
       "    -moz-border-radius-topleft:3px;\n",
       "    -webkit-border-top-left-radius:3px;\n",
       "    border-top-left-radius:3px;\n",
       "}\n",
       "table tr:first-child th:last-child{\n",
       "    -moz-border-radius-topright:3px;\n",
       "    -webkit-border-top-right-radius:3px;\n",
       "    border-top-right-radius:3px;\n",
       "}\n",
       "table tr{\n",
       "    text-align: center;\n",
       "    padding-left:20px;\n",
       "}\n",
       "table tr td:first-child{\n",
       "    text-align: left;\n",
       "    padding-left:20px;\n",
       "    border-left: 0;\n",
       "}\n",
       "table tr td {\n",
       "    padding:18px;\n",
       "    border-top: 1px solid #ffffff;\n",
       "    border-bottom:1px solid #e0e0e0;\n",
       "    border-left: 1px solid #e0e0e0;\n",
       "\n",
       "    background: #fafafa;\n",
       "    background: -webkit-gradient(linear, left top, left bottom, from(#fbfbfb), to(#fafafa));\n",
       "    background: -moz-linear-gradient(top,  #fbfbfb,  #fafafa);\n",
       "}\n",
       "\n",
       "table tr:nth-child(2n) td {\n",
       "    background: #f6f6f6;\n",
       "    background: -webkit-gradient(linear, left top, left bottom, from(#f8f8f8), to(#f6f6f6));\n",
       "    background: -moz-linear-gradient(top, #f8f8f8, #f6f6f6);\n",
       "}\n",
       "\n",
       "table tr:last-child td{\n",
       "    border-bottom:0;\n",
       "}\n",
       "table tr:last-child td:first-child{\n",
       "    -moz-border-radius-bottomleft:3px;\n",
       "    -webkit-border-bottom-left-radius:3px;\n",
       "    border-bottom-left-radius:3px;\n",
       "}\n",
       "table tr:last-child td:last-child{\n",
       "    -moz-border-radius-bottomright:3px;\n",
       "    -webkit-border-bottom-right-radius:3px;\n",
       "    border-bottom-right-radius:3px;\n",
       "}\n",
       "table tr:hover td{\n",
       "    background: #f2f2f2;\n",
       "    background: -webkit-gradient(linear, left top, left bottom, from(#f2f2f2), to(#f0f0f0));\n",
       "    background: -moz-linear-gradient(top,  #f2f2f2,  #f0f0f0);\t\n",
       "}\n",
       "\n",
       "\n",
       "caption {\n",
       "    display: table-caption;\n",
       "    font-weight: 700;\n",
       "}\n",
       "\n",
       "figure {\n",
       "    display: inline-block;\n",
       "    position: relative;\n",
       "    margin: 1em 0 2em;\n",
       "}\n",
       "figcaption {\n",
       "    font-style: italic;\n",
       "    text-align: center;\n",
       "    background: white;\n",
       "    color: #666;\n",
       "    position: absolute;\n",
       "    left: 0;\n",
       "    bottom: -24px;\n",
       "    width: 98%;\n",
       "    padding: 1%;\n",
       "    -webkit-transition: all 0.2s ease-in-out;\n",
       "    -moz-transition: all 0.2s ease-in-out;\n",
       "    -o-transition: all 0.2s ease-in-out;\n",
       "    -ms-transition: all 0.2s ease-in-out;\n",
       "    transition: all 0.2s ease-in-out;\n",
       "}\n",
       "\n",
       ".prompt.input_prompt {\n",
       "    color: rgba(0,0,0,0.5);\n",
       "}\n",
       "\n",
       ".cell.command_mode.selected {\n",
       "    border-color: rgba(0,0,0,0.1);\n",
       "}\n",
       "\n",
       ".cell.edit_mode.selected {\n",
       "    border-color: rgba(0,0,0,0.15);\n",
       "    box-shadow: 0px 0px 5px #f0f0f0;\n",
       "    -webkit-box-shadow: 0px 0px 5px #f0f0f0;\n",
       "}\n",
       "\n",
       "div.output_scroll {\n",
       "    -webkit-box-shadow: inset 0 2px 8px rgba(0,0,0,0.1);\n",
       "    box-shadow: inset 0 2px 8px rgba(0,0,0,0.1);\n",
       "    border-radious: 2px;\n",
       "}\n",
       "\n",
       "#menubar .navbar-inner {\n",
       "    background: #fff;\n",
       "    -webkit-box-shadow: none;\n",
       "    box-shadow: none;\n",
       "    border-radius: 0;\n",
       "    border: none;\n",
       "    font-family: \"Source Sans Pro\", Helvetica, Arial, serif;\n",
       "    font-weight: 400;\n",
       "}\n",
       "\n",
       ".navbar-fixed-top .navbar-inner,\n",
       ".navbar-static-top .navbar-inner {\n",
       "    box-shadow: none;\n",
       "    -webkit-box-shadow: none;\n",
       "    border: none;\n",
       "}\n",
       "\n",
       "div#notebook_panel {\n",
       "    box-shadow: none;\n",
       "    -webkit-box-shadow: none;\n",
       "    border-top: none;\n",
       "}\n",
       "\n",
       "div#notebook {\n",
       "    border-top: 1px solid rgba(0,0,0,0.15);\n",
       "}\n",
       "\n",
       "#menubar .navbar .navbar-inner,\n",
       ".toolbar-inner {\n",
       "    padding-left: 0;\n",
       "    padding-right: 0;\n",
       "}\n",
       "\n",
       "#checkpoint_status,\n",
       "#autosave_status {\n",
       "    color: rgba(0,0,0,0.5);\n",
       "}\n",
       "\n",
       "#header {\n",
       "    font-family: \"Source Sans Pro\", Helvetica, Arial, serif;\n",
       "}\n",
       "\n",
       "#notebook_name {\n",
       "    font-weight: 200;\n",
       "}\n",
       "\n",
       "/* \n",
       "    This is a lazy fix, we *should* fix the \n",
       "    background for each Bootstrap button type\n",
       "*/\n",
       "#site * .btn {\n",
       "    background: #fafafa;\n",
       "    -webkit-box-shadow: none;\n",
       "    box-shadow: none;\n",
       "}\n",
       "\n",
       "</style>\n",
       "\n",
       "<script>\n",
       "    MathJax.Hub.Config({\n",
       "                        TeX: {equationNumbers: { autoNumber: \"AMS\" },  \n",
       "                           extensions: [\"AMSmath.js\"]\n",
       "                           },\n",
       "                tex2jax: {\n",
       "                    inlineMath: [ ['$','$'], [\"\\\\(\",\"\\\\)\"] ],\n",
       "                    displayMath: [ ['$$','$$'], [\"\\\\[\",\"\\\\]\"] ]\n",
       "                },\n",
       "                displayAlign: 'center', // Change this to 'center' to center equations.\n",
       "                \"HTML-CSS\": {\n",
       "                    styles: {'.MathJax_Display': {\"margin\": 4}}\n",
       "                }\n",
       "        });\n",
       "</script>\n"
      ],
      "text/plain": [
       "<IPython.core.display.HTML object>"
      ]
     },
     "execution_count": 1,
     "metadata": {},
     "output_type": "execute_result"
    }
   ],
   "source": [
    "from IPython.core.display import HTML\n",
    "def css_styling():\n",
    "    styles = open(\"../styles/guide.css\", \"r\").read()\n",
    "    return HTML(styles)\n",
    "css_styling()"
   ]
  }
 ],
 "metadata": {
  "kernelspec": {
   "display_name": "Python 3",
   "language": "python",
   "name": "python3"
  },
  "language_info": {
   "codemirror_mode": {
    "name": "ipython",
    "version": 3
   },
   "file_extension": ".py",
   "mimetype": "text/x-python",
   "name": "python",
   "nbconvert_exporter": "python",
   "pygments_lexer": "ipython3",
   "version": "3.4.3"
  }
 },
 "nbformat": 4,
 "nbformat_minor": 0
}
