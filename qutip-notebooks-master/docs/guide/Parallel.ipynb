{
 "cells": [
  {
   "cell_type": "markdown",
   "metadata": {},
   "source": [
    "#Running Computations in Parallel\n",
    "\n",
    "###Contents\n",
    "- [Introduction](#intro)\n",
    "- [Single-Variable Functions](#single)\n",
    "- [Multi-Variable Functions](#multi)\n",
    "- [IPython Based Parallel Processing](#ipython)"
   ]
  },
  {
   "cell_type": "code",
   "execution_count": 8,
   "metadata": {
    "collapsed": true
   },
   "outputs": [],
   "source": [
    "import numpy as np\n",
    "from qutip import *"
   ]
  },
  {
   "cell_type": "markdown",
   "metadata": {},
   "source": [
    "<a id='intro'></a>"
   ]
  },
  {
   "cell_type": "markdown",
   "metadata": {},
   "source": [
    "##Introduction\n",
    "Often one is interested in the output of a given function as a single-parameter is varied. For instance, we can calculate the steady-state response of our system as the driving frequency is varied.  In cases such as this, where each iteration is independent of the others, we can speedup the calculation by performing the iterations in parallel. In QuTiP, parallel computations may be performed using the `parallel_map` function or the `parfor` (parallel-for-loop) function.\n",
    "\n",
    "To use the these functions we need to define a function of one or more variables, and the range over which one of these variables are to be evaluated. For example:"
   ]
  },
  {
   "cell_type": "markdown",
   "metadata": {},
   "source": [
    "<a id='single'></a>"
   ]
  },
  {
   "cell_type": "markdown",
   "metadata": {},
   "source": [
    "##Single-Variable Functions"
   ]
  },
  {
   "cell_type": "code",
   "execution_count": 6,
   "metadata": {
    "collapsed": false,
    "scrolled": true
   },
   "outputs": [
    {
     "name": "stdout",
     "output_type": "stream",
     "text": [
      "[0 1 2 3 4 5 6 7 8 9]\n",
      "[ 0  1  4  9 16 25 36 49 64 81]\n",
      "[  0   1   8  27  64 125 216 343 512 729]\n"
     ]
    }
   ],
   "source": [
    "def func1(x): \n",
    "    return x, x**2, x**3\n",
    "\n",
    "a, b, c = parfor(func1, range(10))\n",
    "print(a)\n",
    "print(b)\n",
    "print(c)"
   ]
  },
  {
   "cell_type": "markdown",
   "metadata": {},
   "source": [
    "or"
   ]
  },
  {
   "cell_type": "code",
   "execution_count": 7,
   "metadata": {
    "collapsed": false
   },
   "outputs": [
    {
     "name": "stdout",
     "output_type": "stream",
     "text": [
      "[0 1 2 3 4 5 6 7 8 9]\n",
      "[ 0  1  4  9 16 25 36 49 64 81]\n",
      "[  0   1   8  27  64 125 216 343 512 729]\n"
     ]
    }
   ],
   "source": [
    "result = parallel_map(func1, range(10))\n",
    "result_array = np.array(result)\n",
    "print(result_array[:, 0])  # == a\n",
    "print(result_array[:, 1])  # == b\n",
    "print(result_array[:, 2])  # == c"
   ]
  },
  {
   "cell_type": "markdown",
   "metadata": {},
   "source": [
    "Note that the return values are arranged differently for the `parallel_map` and the `parfor` functions, as illustrated below. In particular, the return value of `parallel_map` is not enforced to be NumPy arrays, which can avoid unnecessary copying if all that is needed is to iterate over the resulting list:"
   ]
  },
  {
   "cell_type": "code",
   "execution_count": 9,
   "metadata": {
    "collapsed": false
   },
   "outputs": [
    {
     "name": "stdout",
     "output_type": "stream",
     "text": [
      "[array([0, 1, 2, 3, 4]), array([ 0,  1,  4,  9, 16]), array([ 0,  1,  8, 27, 64])]\n",
      "[(0, 0, 0), (1, 1, 1), (2, 4, 8), (3, 9, 27), (4, 16, 64)]\n"
     ]
    }
   ],
   "source": [
    "result = parfor(func1, range(5))\n",
    "print(result)\n",
    "\n",
    "result = parallel_map(func1, range(5))\n",
    "print(result)"
   ]
  },
  {
   "cell_type": "markdown",
   "metadata": {},
   "source": [
    "<a id='multi'></a>"
   ]
  },
  {
   "cell_type": "markdown",
   "metadata": {},
   "source": [
    "##Multi-Variable Functions\n",
    "\n",
    "The `parallel_map` and `parfor` functions are not limited to just numbers, but also works for a variety of outputs:"
   ]
  },
  {
   "cell_type": "code",
   "execution_count": 10,
   "metadata": {
    "collapsed": false
   },
   "outputs": [
    {
     "name": "stdout",
     "output_type": "stream",
     "text": [
      "[0 1 2 3 4]\n",
      "[ Quantum object: dims = [[1], [1]], shape = [1, 1], type = oper, isherm = True\n",
      "Qobj data =\n",
      "[[ 0.]]\n",
      " Quantum object: dims = [[1], [1]], shape = [1, 1], type = oper, isherm = True\n",
      "Qobj data =\n",
      "[[ 1.]]\n",
      " Quantum object: dims = [[1], [1]], shape = [1, 1], type = oper, isherm = True\n",
      "Qobj data =\n",
      "[[ 2.]]\n",
      " Quantum object: dims = [[1], [1]], shape = [1, 1], type = oper, isherm = True\n",
      "Qobj data =\n",
      "[[ 3.]]\n",
      " Quantum object: dims = [[1], [1]], shape = [1, 1], type = oper, isherm = True\n",
      "Qobj data =\n",
      "[[ 4.]]]\n",
      "['' 'a' 'aa' 'aaa' 'aaaa']\n"
     ]
    }
   ],
   "source": [
    "def func2(x):\n",
    "    return x, Qobj(x), 'a' * x\n",
    "\n",
    "a, b, c = parfor(func2, range(5))\n",
    "print(a)\n",
    "print(b)\n",
    "print(c)"
   ]
  },
  {
   "cell_type": "code",
   "execution_count": 13,
   "metadata": {
    "collapsed": false
   },
   "outputs": [
    {
     "name": "stdout",
     "output_type": "stream",
     "text": [
      "[0 1 2 3 4]\n",
      "[ Quantum object: dims = [[1], [1]], shape = [1, 1], type = oper, isherm = True\n",
      "Qobj data =\n",
      "[[ 0.]]\n",
      " Quantum object: dims = [[1], [1]], shape = [1, 1], type = oper, isherm = True\n",
      "Qobj data =\n",
      "[[ 1.]]\n",
      " Quantum object: dims = [[1], [1]], shape = [1, 1], type = oper, isherm = True\n",
      "Qobj data =\n",
      "[[ 2.]]\n",
      " Quantum object: dims = [[1], [1]], shape = [1, 1], type = oper, isherm = True\n",
      "Qobj data =\n",
      "[[ 3.]]\n",
      " Quantum object: dims = [[1], [1]], shape = [1, 1], type = oper, isherm = True\n",
      "Qobj data =\n",
      "[[ 4.]]]\n",
      "['' 'a' 'aa' 'aaa' 'aaaa']\n"
     ]
    }
   ],
   "source": [
    "result = parallel_map(func2, range(5))\n",
    "result_array = np.array(result)\n",
    "print(result_array[:, 0])  # == a\n",
    "print(result_array[:, 1])  # == b\n",
    "print(result_array[:, 2])  # == c"
   ]
  },
  {
   "cell_type": "markdown",
   "metadata": {},
   "source": [
    "One can also define functions with **multiple** input arguments and even keyword arguments. Here the `parallel_map` and `parfor` functions behaves differently:\n",
    "While `parallel_map` only iterate over the values `arguments`, the `parfor` function simultaneously iterates over all arguments:"
   ]
  },
  {
   "cell_type": "code",
   "execution_count": 15,
   "metadata": {
    "collapsed": false
   },
   "outputs": [
    {
     "data": {
      "text/plain": [
       "[(array([5, 6, 7]), array([-3, -4, -5]), 5.0),\n",
       " (array([6, 7, 8]), array([-2, -3, -4]), 5.0),\n",
       " (array([7, 8, 9]), array([-1, -2, -3]), 5.0)]"
      ]
     },
     "execution_count": 15,
     "metadata": {},
     "output_type": "execute_result"
    }
   ],
   "source": [
    "def sum_diff(x, y, z=0): \n",
    "    return x + y, x - y, z\n",
    "\n",
    "parfor(sum_diff, [1, 2, 3], [4, 5, 6], z=5.0)"
   ]
  },
  {
   "cell_type": "code",
   "execution_count": 16,
   "metadata": {
    "collapsed": false
   },
   "outputs": [
    {
     "data": {
      "text/plain": [
       "[(array([5, 6, 7]), array([-3, -4, -5]), 5.0),\n",
       " (array([6, 7, 8]), array([-2, -3, -4]), 5.0),\n",
       " (array([7, 8, 9]), array([-1, -2, -3]), 5.0)]"
      ]
     },
     "execution_count": 16,
     "metadata": {},
     "output_type": "execute_result"
    }
   ],
   "source": [
    "parallel_map(sum_diff, [1, 2, 3], task_args=(np.array([4, 5, 6]),), task_kwargs=dict(z=5.0))"
   ]
  },
  {
   "cell_type": "markdown",
   "metadata": {},
   "source": [
    "Note that the keyword arguments can be anything you like, but the keyword values are **not** iterated over. The keyword argument *num_cpus* is reserved as it sets the number of CPU's used by parfor. By default, this value is set to the total number of physical processors on your system. You can change this number to a lower value, however setting it higher than the number of CPU's will cause a drop in performance. In `parallel_map`, keyword arguments to the task function are specified using `task_kwargs` argument, so there is no special reserved keyword arguments. \n",
    "\n",
    "The `parallel_map` function also supports progressbar, using the keyword argument `progress_bar` which can be set to `True` or to an instance of `BaseProgressBar`. There is a function called `serial_map` that works as a non-parallel drop-in replacement for `parallel_map`, which allows easy switching between serial and parallel computation."
   ]
  },
  {
   "cell_type": "code",
   "execution_count": 9,
   "metadata": {
    "collapsed": false,
    "scrolled": true
   },
   "outputs": [
    {
     "name": "stdout",
     "output_type": "stream",
     "text": [
      "10.0%. Run time:   0.01s. Est. time left: 00:00:00:00\n",
      "20.0%. Run time:   0.01s. Est. time left: 00:00:00:00\n",
      "30.0%. Run time:   0.01s. Est. time left: 00:00:00:00\n",
      "40.0%. Run time:   0.01s. Est. time left: 00:00:00:00\n",
      "50.0%. Run time:   0.01s. Est. time left: 00:00:00:00\n",
      "60.0%. Run time:   0.01s. Est. time left: 00:00:00:00\n",
      "70.0%. Run time:   0.01s. Est. time left: 00:00:00:00\n",
      "80.0%. Run time:   0.01s. Est. time left: 00:00:00:00\n",
      "90.0%. Run time:   0.01s. Est. time left: 00:00:00:00\n",
      "100.0%. Run time:   0.01s. Est. time left: 00:00:00:00\n",
      "Total run time:   0.11s\n"
     ]
    }
   ],
   "source": [
    "def func(x): \n",
    "    return x\n",
    "result = parallel_map(func, range(50), progress_bar=True)"
   ]
  },
  {
   "cell_type": "markdown",
   "metadata": {},
   "source": [
    "<a id='ipython'></a>"
   ]
  },
  {
   "cell_type": "markdown",
   "metadata": {},
   "source": [
    "##IPython Based Parallel Processing\n",
    "When QuTiP is used with IPython interpreter, there is an alternative parallel for-loop implementation in the QuTiP module `qutip.ipynbtools`, see `parallel_map`. The advantage of this parallel_map implementation is based on IPythons powerful framework for parallelization, so the compute processes are not confined to run on the same host as the main process, i.e. cluster computations."
   ]
  },
  {
   "cell_type": "markdown",
   "metadata": {},
   "source": [
    "<div class=\"success\">\n",
    "**Note**: In order to run the IPython `parallel_map` function, you must first turn on the IPython cluster engine.  \n",
    "</div>"
   ]
  },
  {
   "cell_type": "code",
   "execution_count": 10,
   "metadata": {
    "collapsed": false
   },
   "outputs": [
    {
     "data": {
      "text/html": [
       "<div style=\"border: 2px solid grey; width: 600px\">\n",
       "  <div id=\"34f1b005-4db8-438f-b838-ee52703401e0\" style=\"background-color: rgba(121,195,106,0.75); width:0%\">&nbsp;</div>\n",
       "</div>\n",
       "<p id=\"f414eabf-ffb8-4c11-b62d-2f82a8990489\"></p>\n"
      ],
      "text/plain": [
       "<IPython.core.display.HTML object>"
      ]
     },
     "metadata": {},
     "output_type": "display_data"
    },
    {
     "data": {
      "application/javascript": [
       "$('div#34f1b005-4db8-438f-b838-ee52703401e0').width('96%');$('p#f414eabf-ffb8-4c11-b62d-2f82a8990489').text('Elapsed time:   0.07s. Est. remaining time: 00:00:00:00.');"
      ],
      "text/plain": [
       "<IPython.core.display.Javascript object>"
      ]
     },
     "metadata": {},
     "output_type": "display_data"
    },
    {
     "data": {
      "application/javascript": [
       "$('div#34f1b005-4db8-438f-b838-ee52703401e0').width('100%');$('p#f414eabf-ffb8-4c11-b62d-2f82a8990489').text('Elapsed time:   0.07s. Est. remaining time: 00:00:00:00.');"
      ],
      "text/plain": [
       "<IPython.core.display.Javascript object>"
      ]
     },
     "metadata": {},
     "output_type": "display_data"
    },
    {
     "data": {
      "application/javascript": [
       "$('div#34f1b005-4db8-438f-b838-ee52703401e0').width('100%');$('p#f414eabf-ffb8-4c11-b62d-2f82a8990489').text('Elapsed time:   0.07s');"
      ],
      "text/plain": [
       "<IPython.core.display.Javascript object>"
      ]
     },
     "metadata": {},
     "output_type": "display_data"
    }
   ],
   "source": [
    "from qutip.ipynbtools import parallel_map\n",
    "result = parallel_map(func, range(50), progress_bar=True)"
   ]
  },
  {
   "cell_type": "code",
   "execution_count": 1,
   "metadata": {
    "collapsed": false
   },
   "outputs": [
    {
     "data": {
      "text/html": [
       "<style>\n",
       "@import url('http://fonts.googleapis.com/css?family=Source+Sans+Pro');\n",
       "@import url('http://fonts.googleapis.com/css?family=Source+Code+Pro');\n",
       "\n",
       "body {\n",
       "    -webkit-font-smoothing: antialiased;\n",
       "    font-family: \"Source Sans Pro\", Helvetica, Arial, Verdana, sans-serif;\n",
       "}\n",
       "\n",
       "\n",
       "div.cell{\n",
       "    width:768px;\n",
       "    margin-left:10% !important;\n",
       "    margin-right:auto;\n",
       "}\n",
       "h1 {\n",
       "    font-family: \"Source Sans Pro\", ,Helvetica, Arial, serif;\n",
       "\n",
       "}\n",
       "\n",
       "h4{\n",
       "    font-family: \"Source Sans Pro\", Helvetica, Arial, serif;\n",
       "\tmargin-top:12px;\n",
       "    margin-bottom: 3px;\n",
       "   }\n",
       "\n",
       "\n",
       "div.text_cell_render{\n",
       "    font-family: \"Source Sans Pro\", Helvetica, Arial, sans-serif;\n",
       "    line-height: 125%;\n",
       "    font-size: 110%;\n",
       "    width:768px;\n",
       "    margin-left:auto;\n",
       "    margin-right:auto;\n",
       "}\n",
       "\n",
       "div.cell.code_cell { /* area that contains code + output */\n",
       "    background: #fff;\n",
       "    border: none;\n",
       "    border-radius: 10px;\n",
       "    padding-top: 1ex;\n",
       "}\n",
       "\n",
       "div.input_area { /* box around box with code */\n",
       "    border: none;\n",
       "    background: #f5f5f5;\n",
       "    border: 1px solid #ccc;\n",
       "    border-radius: 10px;\n",
       "    padding-top: 0.5ex;\n",
       "    padding-bottom: 0.5ex;\n",
       "    padding-left: 0.5em;\n",
       "}\n",
       "\n",
       "div.prompt { /* remove In/Out prompt */\n",
       "    display: none;\n",
       "}\n",
       "\n",
       "div.cell.border-box-sizing.code_cell.running { \n",
       "    /* draw border around running cells */\n",
       "    border: 3px dotted #f33;\n",
       "}\n",
       "\n",
       ".CodeMirror{\n",
       "        font-family: \"Source Code Pro\", Consolas, monospace;\n",
       "}\n",
       ".prompt{\n",
       "    display: None;\n",
       "}\n",
       ".text_cell_render h5 {\n",
       "    font-family: \"Source Sans Pro\", Helvetica, Arial, serif;\n",
       "    font-size: 20pt;\n",
       "    color: #0001E0;\n",
       "    margin-bottom: .5em;\n",
       "    margin-top: 0.5em;\n",
       "    display: block;\n",
       "}\n",
       "\n",
       ".warning{\n",
       "    color: rgb( 240, 20, 20 )\n",
       "    }  \n",
       "\n",
       "a {\n",
       "    color: #0080FF;\n",
       "    text-decoration: none;\n",
       "    -webkit-transition: color 0.2s ease-in-out;\n",
       "    -moz-transition: color 0.2s ease-in-out;\n",
       "    -o-transition: color 0.2s ease-in-out;\n",
       "    -ms-transition: color 0.2s ease-in-out;\n",
       "    transition: color 0.2s ease-in-out;\n",
       "}\n",
       "a:hover {\n",
       "    color: #8C0028;\n",
       "}\n",
       "\n",
       "li li{\n",
       "    font-size:14px;\n",
       "}\n",
       "\n",
       "div.danger {    \n",
       "    background-color: #F7A7AA;\n",
       "    border-color: #F1595F;\n",
       "    border: 2px solid #F1595F;\n",
       "    border-radius: 5px;\n",
       "    padding-top: 0.5ex;\n",
       "    padding-bottom: 0.5ex;\n",
       "    padding-left: 0.5em;\n",
       "    }\n",
       "\n",
       "div.warn {    \n",
       "background-color: #FBD1A7;\n",
       "border-color: #F9A65A;\n",
       "border: 2px solid #F9A65A;\n",
       "border-radius: 5px;\n",
       "padding-top: 0.5ex;\n",
       "padding-bottom: 0.5ex;\n",
       "padding-left: 0.5em;\n",
       "}\n",
       "\n",
       "div.info {    \n",
       "background-color: #A6CBE9;\n",
       "border-color: #599AD3;\n",
       "border: 2px solid #599AD3;\n",
       "border-radius: 5px;\n",
       "padding-top: 0.5ex;\n",
       "padding-bottom: 0.5ex;\n",
       "padding-left: 0.5em;\n",
       "}\n",
       "\n",
       "div.success {    \n",
       "background-color: #B9E0B0;\n",
       "border-color: #79C36A;\n",
       "border: 2px solid #79C36A;\n",
       "border-radius: 5px;\n",
       "padding-top: 0.5ex;\n",
       "padding-bottom: 0.5ex;\n",
       "padding-left: 0.5em;\n",
       "}\n",
       "\n",
       "table a:link {\n",
       "    color: #666;\n",
       "    font-weight: bold;\n",
       "    text-decoration:none;\n",
       "}\n",
       "table a:visited {\n",
       "    color: #999999;\n",
       "    font-weight:bold;\n",
       "    text-decoration:none;\n",
       "}\n",
       "table a:active,\n",
       "table a:hover {\n",
       "    color: #bd5a35;\n",
       "    text-decoration:underline;\n",
       "}\n",
       "table {\n",
       "    font-family:\"Source Sans Pro\", Helvetica, Arial, serif;\n",
       "    color:#666;\n",
       "    font-size:14px;\n",
       "    text-shadow: 1px 1px 0px #fff;\n",
       "    background:#eaebec;\n",
       "    margin:20px;\n",
       "    border:#ccc 1px solid;\n",
       "    border-spacing: 0;\n",
       "    -moz-border-radius:3px;\n",
       "    -webkit-border-radius:3px;\n",
       "    border-radius:3px;\n",
       "\n",
       "    -moz-box-shadow: 0 1px 2px #d1d1d1;\n",
       "    -webkit-box-shadow: 0 1px 2px #d1d1d1;\n",
       "    box-shadow: 0 1px 2px #d1d1d1;\n",
       "}\n",
       "table th {\n",
       "    padding:21px 25px 22px 25px;\n",
       "    border-top:1px solid #fafafa;\n",
       "    border-bottom:1px solid #e0e0e0;\n",
       "\n",
       "    background: #ededed;\n",
       "    background: -webkit-gradient(linear, left top, left bottom, from(#ededed), to(#ebebeb));\n",
       "    background: -moz-linear-gradient(top,  #ededed,  #ebebeb);\n",
       "}\n",
       "table th:first-child{\n",
       "    text-align: left;\n",
       "    padding-left:20px;\n",
       "}\n",
       "table tr:first-child th:first-child{\n",
       "    -moz-border-radius-topleft:3px;\n",
       "    -webkit-border-top-left-radius:3px;\n",
       "    border-top-left-radius:3px;\n",
       "}\n",
       "table tr:first-child th:last-child{\n",
       "    -moz-border-radius-topright:3px;\n",
       "    -webkit-border-top-right-radius:3px;\n",
       "    border-top-right-radius:3px;\n",
       "}\n",
       "table tr{\n",
       "    text-align: center;\n",
       "    padding-left:20px;\n",
       "}\n",
       "table tr td:first-child{\n",
       "    text-align: left;\n",
       "    padding-left:20px;\n",
       "    border-left: 0;\n",
       "}\n",
       "table tr td {\n",
       "    padding:18px;\n",
       "    border-top: 1px solid #ffffff;\n",
       "    border-bottom:1px solid #e0e0e0;\n",
       "    border-left: 1px solid #e0e0e0;\n",
       "\n",
       "    background: #fafafa;\n",
       "    background: -webkit-gradient(linear, left top, left bottom, from(#fbfbfb), to(#fafafa));\n",
       "    background: -moz-linear-gradient(top,  #fbfbfb,  #fafafa);\n",
       "}\n",
       "\n",
       "table tr:nth-child(2n) td {\n",
       "    background: #f6f6f6;\n",
       "    background: -webkit-gradient(linear, left top, left bottom, from(#f8f8f8), to(#f6f6f6));\n",
       "    background: -moz-linear-gradient(top, #f8f8f8, #f6f6f6);\n",
       "}\n",
       "\n",
       "table tr:last-child td{\n",
       "    border-bottom:0;\n",
       "}\n",
       "table tr:last-child td:first-child{\n",
       "    -moz-border-radius-bottomleft:3px;\n",
       "    -webkit-border-bottom-left-radius:3px;\n",
       "    border-bottom-left-radius:3px;\n",
       "}\n",
       "table tr:last-child td:last-child{\n",
       "    -moz-border-radius-bottomright:3px;\n",
       "    -webkit-border-bottom-right-radius:3px;\n",
       "    border-bottom-right-radius:3px;\n",
       "}\n",
       "table tr:hover td{\n",
       "    background: #f2f2f2;\n",
       "    background: -webkit-gradient(linear, left top, left bottom, from(#f2f2f2), to(#f0f0f0));\n",
       "    background: -moz-linear-gradient(top,  #f2f2f2,  #f0f0f0);\t\n",
       "}\n",
       "\n",
       "\n",
       "caption {\n",
       "    display: table-caption;\n",
       "    font-weight: 700;\n",
       "}\n",
       "\n",
       "figure {\n",
       "    display: inline-block;\n",
       "    position: relative;\n",
       "    margin: 1em 0 2em;\n",
       "}\n",
       "figcaption {\n",
       "    font-style: italic;\n",
       "    text-align: center;\n",
       "    background: white;\n",
       "    color: #666;\n",
       "    position: absolute;\n",
       "    left: 0;\n",
       "    bottom: -24px;\n",
       "    width: 98%;\n",
       "    padding: 1%;\n",
       "    -webkit-transition: all 0.2s ease-in-out;\n",
       "    -moz-transition: all 0.2s ease-in-out;\n",
       "    -o-transition: all 0.2s ease-in-out;\n",
       "    -ms-transition: all 0.2s ease-in-out;\n",
       "    transition: all 0.2s ease-in-out;\n",
       "}\n",
       "\n",
       ".prompt.input_prompt {\n",
       "    color: rgba(0,0,0,0.5);\n",
       "}\n",
       "\n",
       ".cell.command_mode.selected {\n",
       "    border-color: rgba(0,0,0,0.1);\n",
       "}\n",
       "\n",
       ".cell.edit_mode.selected {\n",
       "    border-color: rgba(0,0,0,0.15);\n",
       "    box-shadow: 0px 0px 5px #f0f0f0;\n",
       "    -webkit-box-shadow: 0px 0px 5px #f0f0f0;\n",
       "}\n",
       "\n",
       "div.output_scroll {\n",
       "    -webkit-box-shadow: inset 0 2px 8px rgba(0,0,0,0.1);\n",
       "    box-shadow: inset 0 2px 8px rgba(0,0,0,0.1);\n",
       "    border-radious: 2px;\n",
       "}\n",
       "\n",
       "#menubar .navbar-inner {\n",
       "    background: #fff;\n",
       "    -webkit-box-shadow: none;\n",
       "    box-shadow: none;\n",
       "    border-radius: 0;\n",
       "    border: none;\n",
       "    font-family: \"Source Sans Pro\", Helvetica, Arial, serif;\n",
       "    font-weight: 400;\n",
       "}\n",
       "\n",
       ".navbar-fixed-top .navbar-inner,\n",
       ".navbar-static-top .navbar-inner {\n",
       "    box-shadow: none;\n",
       "    -webkit-box-shadow: none;\n",
       "    border: none;\n",
       "}\n",
       "\n",
       "div#notebook_panel {\n",
       "    box-shadow: none;\n",
       "    -webkit-box-shadow: none;\n",
       "    border-top: none;\n",
       "}\n",
       "\n",
       "div#notebook {\n",
       "    border-top: 1px solid rgba(0,0,0,0.15);\n",
       "}\n",
       "\n",
       "#menubar .navbar .navbar-inner,\n",
       ".toolbar-inner {\n",
       "    padding-left: 0;\n",
       "    padding-right: 0;\n",
       "}\n",
       "\n",
       "#checkpoint_status,\n",
       "#autosave_status {\n",
       "    color: rgba(0,0,0,0.5);\n",
       "}\n",
       "\n",
       "#header {\n",
       "    font-family: \"Source Sans Pro\", Helvetica, Arial, serif;\n",
       "}\n",
       "\n",
       "#notebook_name {\n",
       "    font-weight: 200;\n",
       "}\n",
       "\n",
       "/* \n",
       "    This is a lazy fix, we *should* fix the \n",
       "    background for each Bootstrap button type\n",
       "*/\n",
       "#site * .btn {\n",
       "    background: #fafafa;\n",
       "    -webkit-box-shadow: none;\n",
       "    box-shadow: none;\n",
       "}\n",
       "\n",
       "</style>\n",
       "\n",
       "<script>\n",
       "    MathJax.Hub.Config({\n",
       "                        TeX: {equationNumbers: { autoNumber: \"AMS\" },  \n",
       "                           extensions: [\"AMSmath.js\"]\n",
       "                           },\n",
       "                tex2jax: {\n",
       "                    inlineMath: [ ['$','$'], [\"\\\\(\",\"\\\\)\"] ],\n",
       "                    displayMath: [ ['$$','$$'], [\"\\\\[\",\"\\\\]\"] ]\n",
       "                },\n",
       "                displayAlign: 'center', // Change this to 'center' to center equations.\n",
       "                \"HTML-CSS\": {\n",
       "                    styles: {'.MathJax_Display': {\"margin\": 4}}\n",
       "                }\n",
       "        });\n",
       "</script>\n"
      ],
      "text/plain": [
       "<IPython.core.display.HTML object>"
      ]
     },
     "execution_count": 1,
     "metadata": {},
     "output_type": "execute_result"
    }
   ],
   "source": [
    "from IPython.core.display import HTML\n",
    "def css_styling():\n",
    "    styles = open(\"../styles/guide.css\", \"r\").read()\n",
    "    return HTML(styles)\n",
    "css_styling()"
   ]
  }
 ],
 "metadata": {
  "kernelspec": {
   "display_name": "Python 3",
   "language": "python",
   "name": "python3"
  },
  "language_info": {
   "codemirror_mode": {
    "name": "ipython",
    "version": 3
   },
   "file_extension": ".py",
   "mimetype": "text/x-python",
   "name": "python",
   "nbconvert_exporter": "python",
   "pygments_lexer": "ipython3",
   "version": "3.4.3"
  }
 },
 "nbformat": 4,
 "nbformat_minor": 0
}
