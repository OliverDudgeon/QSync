{
 "cells": [
  {
   "cell_type": "code",
   "execution_count": 30,
   "metadata": {},
   "outputs": [],
   "source": [
    "from qiskit import QuantumRegister, ClassicalRegister, QuantumCircuit, AncillaRegister\r\n",
    "import numpy as np\r\n",
    "from numpy import pi"
   ]
  },
  {
   "cell_type": "code",
   "execution_count": 45,
   "metadata": {},
   "outputs": [
    {
     "data": {
      "text/html": "<pre style=\"word-wrap: normal;white-space: pre;background: #fff0;line-height: 1.1;font-family: &quot;Courier New&quot;,Courier,monospace\">     ┌────────┐┌────────┐┌────────┐                  ┌───┐        \nq_0: ┤ RZ(-1) ├┤ RY(-1) ├┤ RZ(-1) ├────────■─────────┤ X ├────────\n     └────────┘└────────┘└────────┘┌───────┴────────┐└─┬─┘┌─┐     \nq_1: ──────────────────────────────┤ U(π/2,0,0,π/2) ├──■──┤M├─|0>─\n                                   └────────────────┘     └╥┘     \nc: 2/══════════════════════════════════════════════════════╩══════\n                                                           1      </pre>",
      "text/plain": "     ┌────────┐┌────────┐┌────────┐                  ┌───┐        \nq_0: ┤ RZ(-1) ├┤ RY(-1) ├┤ RZ(-1) ├────────■─────────┤ X ├────────\n     └────────┘└────────┘└────────┘┌───────┴────────┐└─┬─┘┌─┐     \nq_1: ──────────────────────────────┤ U(π/2,0,0,π/2) ├──■──┤M├─|0>─\n                                   └────────────────┘     └╥┘     \nc: 2/══════════════════════════════════════════════════════╩══════\n                                                           1      "
     },
     "execution_count": 45,
     "metadata": {},
     "output_type": "execute_result"
    }
   ],
   "source": [
    "delta = 1\r\n",
    "epsilon = 1\r\n",
    "dt = 1\r\n",
    "\r\n",
    "Gamma = 1\r\n",
    "\r\n",
    "theta = 2*np.arcsin(np.sqrt(Gamma*dt))\r\n",
    "\r\n",
    "z_arg = -delta*dt\r\n",
    "y_arg = -epsilon*dt\r\n",
    "\r\n",
    "qreg_q = QuantumRegister(2, 'q')\r\n",
    "creg_c = ClassicalRegister(2, 'c')\r\n",
    "circuit = QuantumCircuit(qreg_q, creg_c)\r\n",
    "\r\n",
    "circuit.rz(z_arg, qreg_q[0])\r\n",
    "circuit.ry(y_arg, qreg_q[0])\r\n",
    "circuit.rz(z_arg, qreg_q[0])\r\n",
    "\r\n",
    "circuit.cu(pi/2, 0, 0, pi/2, qreg_q[0], qreg_q[1])\r\n",
    "circuit.cx(qreg_q[1], qreg_q[0])\r\n",
    "circuit.measure(qreg_q[1], creg_c[1])\r\n",
    "circuit.reset(qreg_q[1])\r\n",
    "\r\n",
    "circuit.draw()"
   ]
  }
 ],
 "metadata": {
  "kernelspec": {
   "display_name": "Python 3.8.8 64-bit ('qutip-env': conda)",
   "name": "python388jvsc74a57bd0d9fe01cc93207f9d85c02c9a2b51282a64a6c5e7b236d31b93012e1f9403b53c"
  },
  "language_info": {
   "codemirror_mode": {
    "name": "ipython",
    "version": 3
   },
   "file_extension": ".py",
   "mimetype": "text/x-python",
   "name": "python",
   "nbconvert_exporter": "python",
   "pygments_lexer": "ipython3",
   "version": "3.8.8"
  },
  "orig_nbformat": 2
 },
 "nbformat": 4,
 "nbformat_minor": 2
}