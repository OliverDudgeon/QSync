{
 "cells": [
  {
   "cell_type": "code",
   "execution_count": 1,
   "metadata": {},
   "outputs": [],
   "source": [
    "from qiskit import *\r\n",
    "import numpy as np\r\n",
    "from numpy import pi"
   ]
  },
  {
   "cell_type": "code",
   "execution_count": 2,
   "metadata": {},
   "outputs": [],
   "source": [
    "detuning = 3\r\n",
    "signal_strength = 2\r\n",
    "dt = 0.3\r\n",
    "\r\n",
    "Gamma = 1\r\n",
    "\r\n",
    "theta = 2 * np.arcsin(np.sqrt(Gamma * dt))\r\n",
    "\r\n",
    "z_arg = -detuning * dt / 2\r\n",
    "y_arg = -signal_strength * dt\r\n",
    "\r\n",
    "qreg_q = QuantumRegister(2, \"q\")\r\n",
    "creg_c = ClassicalRegister(1, \"c\")\r\n",
    "\r\n",
    "qc = QuantumCircuit(qreg_q, creg_c)\r\n",
    "\r\n",
    "for _ in range(1000):\r\n",
    "    qc.u(z_arg, y_arg, z_arg, qreg_q[0])\r\n",
    "\r\n",
    "    qc.cu(theta, 0, 0, theta, qreg_q[0], qreg_q[1])\r\n",
    "    qc.cx(qreg_q[1], qreg_q[0])\r\n",
    "    qc.measure(qreg_q[1], creg_c[0])\r\n",
    "    qc.reset(qreg_q[1])\r\n",
    "\r\n",
    "qc.measure_all()\r\n",
    "\r\n",
    "# qc.draw(fold=100)\r\n"
   ]
  },
  {
   "cell_type": "code",
   "execution_count": 3,
   "metadata": {},
   "outputs": [
    {
     "data": {
      "text/plain": "{'00 0': 4817, '00 1': 1073, '01 0': 2302}"
     },
     "execution_count": 3,
     "metadata": {},
     "output_type": "execute_result"
    }
   ],
   "source": [
    "from qiskit.providers.aer import QasmSimulator\r\n",
    "\r\n",
    "backend = QasmSimulator()\r\n",
    "\r\n",
    "qc_compiled = transpile(qc, backend)\r\n",
    "\r\n",
    "job_sim = backend.run(qc_compiled, shots=8192)\r\n",
    "result_sim = job_sim.result()\r\n",
    "result_sim.get_counts()"
   ]
  },
  {
   "cell_type": "code",
   "execution_count": 4,
   "metadata": {},
   "outputs": [
    {
     "data": {
      "image/png": "[encoded data removed]",
      "text/plain": "<Figure size 504x360 with 1 Axes>"
     },
     "execution_count": 4,
     "metadata": {},
     "output_type": "execute_result"
    }
   ],
   "source": [
    "from qiskit.visualization import plot_histogram\r\n",
    "\r\n",
    "# Plot counts just for main qubit\r\n",
    "counts = result_sim.get_counts()\r\n",
    "counts = {\"0\": counts[\"00 0\"] + counts[\"00 1\"], \"1\": counts[\"01 0\"]}\r\n",
    "\r\n",
    "plot_histogram(counts)"
   ]
  },
  {
   "cell_type": "code",
   "execution_count": 5,
   "metadata": {},
   "outputs": [
    {
     "data": {
      "text/html": "<h3>Version Information</h3><table><tr><th>Qiskit Software</th><th>Version</th></tr><tr><td>Qiskit</td><td>0.25.2</td></tr><tr><td>Terra</td><td>0.17.1</td></tr><tr><td>Aer</td><td>0.8.1</td></tr><tr><td>Ignis</td><td>0.6.0</td></tr><tr><td>Aqua</td><td>0.9.1</td></tr><tr><td>IBM Q Provider</td><td>0.12.3</td></tr><tr><th>System information</th></tr><tr><td>Python</td><td>3.8.8 (default, Apr 13 2021, 15:08:03) [MSC v.1916 64 bit (AMD64)]</td></tr><tr><td>OS</td><td>Windows</td></tr><tr><td>CPUs</td><td>6</td></tr><tr><td>Memory (Gb)</td><td>15.927959442138672</td></tr><tr><td colspan='2'>Thu Apr 29 11:06:44 2021 GMT Summer Time</td></tr></table>",
      "text/plain": "<IPython.core.display.HTML object>"
     },
     "metadata": {},
     "output_type": "display_data"
    }
   ],
   "source": [
    "import qiskit.tools.jupyter\r\n",
    "%qiskit_version_table"
   ]
  }
 ],
 "metadata": {
  "kernelspec": {
   "display_name": "Python 3.8.8 64-bit ('qutip-env': conda)",
   "name": "python388jvsc74a57bd0d9fe01cc93207f9d85c02c9a2b51282a64a6c5e7b236d31b93012e1f9403b53c"
  },
  "language_info": {
   "codemirror_mode": {
    "name": "ipython",
    "version": 3
   },
   "file_extension": ".py",
   "mimetype": "text/x-python",
   "name": "python",
   "nbconvert_exporter": "python",
   "pygments_lexer": "ipython3",
   "version": "3.8.8"
  },
  "orig_nbformat": 2
 },
 "nbformat": 4,
 "nbformat_minor": 2
}