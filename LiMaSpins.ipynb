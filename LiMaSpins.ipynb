{
 "cells": [
  {
   "cell_type": "code",
   "execution_count": 14,
   "id": "lightweight-rachel",
   "metadata": {},
   "outputs": [],
   "source": [
    "from qutip import *\n",
    "import matplotlib.pyplot as plt\n",
    "import numpy as np"
   ]
  },
  {
   "cell_type": "code",
   "execution_count": 15,
   "metadata": {},
   "outputs": [
    {
     "output_type": "execute_result",
     "data": {
      "text/plain": [
       "Quantum object: dims = [[2, 2], [2, 2]], shape = (4, 4), type = oper, isherm = True\n",
       "Qobj data =\n",
       "[[ 1.  0.  0.  0.]\n",
       " [ 0. -1.  2.  0.]\n",
       " [ 0.  2. -1.  0.]\n",
       " [ 0.  0.  0.  1.]]"
      ],
      "text/latex": "Quantum object: dims = [[2, 2], [2, 2]], shape = (4, 4), type = oper, isherm = True\\begin{equation*}\\left(\\begin{array}{*{11}c}1.0 & 0.0 & 0.0 & 0.0\\\\0.0 & -1.0 & 2.0 & 0.0\\\\0.0 & 2.0 & -1.0 & 0.0\\\\0.0 & 0.0 & 0.0 & 1.0\\\\\\end{array}\\right)\\end{equation*}"
     },
     "metadata": {},
     "execution_count": 15
    }
   ],
   "source": [
    "raw_op = tensor(sigmaz(), sigmaz()) + tensor(sigmax(), sigmax()) + tensor(sigmay(), sigmay())\n",
    "raw_op"
   ]
  },
  {
   "cell_type": "code",
   "execution_count": 16,
   "metadata": {},
   "outputs": [
    {
     "output_type": "execute_result",
     "data": {
      "text/plain": [
       "Quantum object: dims = [[2, 2], [2, 2]], shape = (4, 4), type = oper, isherm = True\n",
       "Qobj data =\n",
       "[[ 1.   0.   0.   0. ]\n",
       " [ 0.  -1.   0.5  0. ]\n",
       " [ 0.   0.5 -1.   0. ]\n",
       " [ 0.   0.   0.   1. ]]"
      ],
      "text/latex": "Quantum object: dims = [[2, 2], [2, 2]], shape = (4, 4), type = oper, isherm = True\\begin{equation*}\\left(\\begin{array}{*{11}c}1.0 & 0.0 & 0.0 & 0.0\\\\0.0 & -1.0 & 0.500 & 0.0\\\\0.0 & 0.500 & -1.0 & 0.0\\\\0.0 & 0.0 & 0.0 & 1.0\\\\\\end{array}\\right)\\end{equation*}"
     },
     "metadata": {},
     "execution_count": 16
    }
   ],
   "source": [
    "rl_op = tensor(sigmaz(), sigmaz()) + 0.5*( tensor(sigmam(), sigmap()) + tensor(sigmap(), sigmam()) )\n",
    "rl_op"
   ]
  },
  {
   "cell_type": "code",
   "execution_count": 32,
   "metadata": {},
   "outputs": [
    {
     "output_type": "execute_result",
     "data": {
      "text/plain": [
       "array([Quantum object: dims = [[2, 2], [1, 1]], shape = (4, 1), type = ket\n",
       "Qobj data =\n",
       "[[ 0.        ]\n",
       " [ 0.70710678]\n",
       " [-0.70710678]\n",
       " [ 0.        ]],\n",
       "       Quantum object: dims = [[2, 2], [1, 1]], shape = (4, 1), type = ket\n",
       "Qobj data =\n",
       "[[1.]\n",
       " [0.]\n",
       " [0.]\n",
       " [0.]],\n",
       "       Quantum object: dims = [[2, 2], [1, 1]], shape = (4, 1), type = ket\n",
       "Qobj data =\n",
       "[[0.        ]\n",
       " [0.70710678]\n",
       " [0.70710678]\n",
       " [0.        ]],\n",
       "       Quantum object: dims = [[2, 2], [1, 1]], shape = (4, 1), type = ket\n",
       "Qobj data =\n",
       "[[0.]\n",
       " [0.]\n",
       " [0.]\n",
       " [1.]]], dtype=object)"
      ]
     },
     "metadata": {},
     "execution_count": 32
    }
   ],
   "source": [
    "raw_op.eigenstates()[1]"
   ]
  },
  {
   "cell_type": "code",
   "execution_count": 33,
   "metadata": {},
   "outputs": [
    {
     "output_type": "execute_result",
     "data": {
      "text/plain": [
       "[Quantum object: dims = [[2], [2]], shape = (2, 2), type = oper, isherm = True\n",
       " Qobj data =\n",
       " [[0.5 0. ]\n",
       "  [0.  0.5]],\n",
       " Quantum object: dims = [[2], [2]], shape = (2, 2), type = oper, isherm = True\n",
       " Qobj data =\n",
       " [[1. 0.]\n",
       "  [0. 0.]],\n",
       " Quantum object: dims = [[2], [2]], shape = (2, 2), type = oper, isherm = True\n",
       " Qobj data =\n",
       " [[0.5 0. ]\n",
       "  [0.  0.5]],\n",
       " Quantum object: dims = [[2], [2]], shape = (2, 2), type = oper, isherm = True\n",
       " Qobj data =\n",
       " [[0. 0.]\n",
       "  [0. 1.]]]"
      ]
     },
     "metadata": {},
     "execution_count": 33
    }
   ],
   "source": [
    "[state.ptrace(0) for state in raw_op.eigenstates()[1]]"
   ]
  },
  {
   "cell_type": "code",
   "execution_count": 34,
   "metadata": {},
   "outputs": [
    {
     "output_type": "execute_result",
     "data": {
      "text/plain": [
       "[Quantum object: dims = [[2], [2]], shape = (2, 2), type = oper, isherm = True\n",
       " Qobj data =\n",
       " [[0.5 0. ]\n",
       "  [0.  0.5]],\n",
       " Quantum object: dims = [[2], [2]], shape = (2, 2), type = oper, isherm = True\n",
       " Qobj data =\n",
       " [[1. 0.]\n",
       "  [0. 0.]],\n",
       " Quantum object: dims = [[2], [2]], shape = (2, 2), type = oper, isherm = True\n",
       " Qobj data =\n",
       " [[0.5 0. ]\n",
       "  [0.  0.5]],\n",
       " Quantum object: dims = [[2], [2]], shape = (2, 2), type = oper, isherm = True\n",
       " Qobj data =\n",
       " [[0. 0.]\n",
       "  [0. 1.]]]"
      ]
     },
     "metadata": {},
     "execution_count": 34
    }
   ],
   "source": [
    "[state.ptrace(1) for state in raw_op.eigenstates()[1]]"
   ]
  }
 ],
 "metadata": {
  "kernelspec": {
   "display_name": "Python 3",
   "language": "python",
   "name": "python3"
  },
  "language_info": {
   "codemirror_mode": {
    "name": "ipython",
    "version": 3
   },
   "file_extension": ".py",
   "mimetype": "text/x-python",
   "name": "python",
   "nbconvert_exporter": "python",
   "pygments_lexer": "ipython3",
   "version": "3.8.5-final"
  }
 },
 "nbformat": 4,
 "nbformat_minor": 5
}