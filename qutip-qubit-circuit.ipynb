{
 "cells": [
  {
   "cell_type": "code",
   "execution_count": 100,
   "metadata": {},
   "outputs": [],
   "source": [
    "import numpy as np\r\n",
    "import matplotlib.pyplot as plt\r\n",
    "from qutip import *\r\n",
    "from qutip.qip.circuit import QubitCircuit, Gate, gate_sequence_product, Measurement, CircuitSimulator\r\n",
    "\r\n",
    "qutip.settings.has_mkl = False  # Fix the OS erros in VSCode"
   ]
  },
  {
   "cell_type": "markdown",
   "metadata": {},
   "source": [
    "# Gates"
   ]
  },
  {
   "cell_type": "markdown",
   "metadata": {},
   "source": [
    "## IBM Q Gates"
   ]
  },
  {
   "cell_type": "code",
   "execution_count": 101,
   "metadata": {},
   "outputs": [],
   "source": [
    "def U3(args):\r\n",
    "    theta, phi, lambda_ = args\r\n",
    "    matrix = [\r\n",
    "        [np.cos(theta / 2), -np.exp(1j * lambda_) * np.sin(theta / 2)],\r\n",
    "        [np.exp(1j * phi) * np.sin(theta / 2), np.exp(1j * lambda_ + 1j * phi) * np.cos(theta / 2)],\r\n",
    "    ]\r\n",
    "    return Qobj(matrix, dims=[[2], [2]])\r\n"
   ]
  },
  {
   "cell_type": "code",
   "execution_count": 102,
   "metadata": {},
   "outputs": [],
   "source": [
    "def U2(args):\r\n",
    "    phi, lambda_ = args\r\n",
    "    return U3([np.pi/2, phi, lambda_])"
   ]
  },
  {
   "cell_type": "code",
   "execution_count": 103,
   "metadata": {},
   "outputs": [],
   "source": [
    "def U1(lambda_):\r\n",
    "    return U3([0,0,lambda_])"
   ]
  },
  {
   "cell_type": "code",
   "execution_count": 104,
   "metadata": {},
   "outputs": [
    {
     "data": {
      "text/latex": "Quantum object: dims = [[2, 2], [2, 2]], shape = (4, 4), type = oper, isherm = False\\begin{equation*}\\left(\\begin{array}{*{11}c}1.0 & 0.0 & 0.0 & 0.0\\\\0.0 & 1.0 & 0.0 & 0.0\\\\0.0 & 0.0 & 0.878 & -0.479\\\\0.0 & 0.0 & 0.479 & 0.878\\\\\\end{array}\\right)\\end{equation*}",
      "text/plain": "Quantum object: dims = [[2, 2], [2, 2]], shape = (4, 4), type = oper, isherm = False\nQobj data =\n[[ 1.          0.          0.          0.        ]\n [ 0.          1.          0.          0.        ]\n [ 0.          0.          0.87758256 -0.47942554]\n [ 0.          0.          0.47942554  0.87758256]]"
     },
     "execution_count": 104,
     "metadata": {},
     "output_type": "execute_result"
    }
   ],
   "source": [
    "def CU3(args):\r\n",
    "    mat = np.zeros((4, 4), dtype=complex)\r\n",
    "    mat[0, 0] = mat[1, 1] = 1.0\r\n",
    "    mat[2:4, 2:4] = U3(args)\r\n",
    "\r\n",
    "    return Qobj(mat, dims=[[2, 2], [2, 2]])\r\n",
    "\r\n",
    "CU3([1, 0, 0])\r\n"
   ]
  },
  {
   "cell_type": "markdown",
   "metadata": {},
   "source": [
    "## Unitary Evo"
   ]
  },
  {
   "cell_type": "code",
   "execution_count": 105,
   "metadata": {},
   "outputs": [],
   "source": [
    "def U(args):\r\n",
    "    delta, epsilon, dt = args\r\n",
    "    Rz = (1j * delta * sigmaz() * dt).expm()\r\n",
    "    Ry = (1j * epsilon * sigmay() * dt / 2).expm()\r\n",
    "    return Rz * Ry * Rz"
   ]
  },
  {
   "cell_type": "markdown",
   "metadata": {},
   "source": [
    "# Circuit"
   ]
  },
  {
   "cell_type": "code",
   "execution_count": 106,
   "metadata": {},
   "outputs": [],
   "source": [
    "dt = 1\r\n",
    "\r\n",
    "delta = 1\r\n",
    "epsilon = 1\r\n",
    "\r\n",
    "# Gamma = 1\r\n",
    "# theta = 2*np.arcsin(np.sqrt(Gamma * dt))\r\n",
    "\r\n",
    "theta = 0"
   ]
  },
  {
   "cell_type": "code",
   "execution_count": 107,
   "metadata": {},
   "outputs": [],
   "source": [
    "qc = QubitCircuit(2, user_gates={\"U3\": U3, \"CU3\": CU3, \"Uevo\": U}, num_cbits=1)"
   ]
  },
  {
   "cell_type": "markdown",
   "metadata": {},
   "source": [
    "## Unitary Gates"
   ]
  },
  {
   "cell_type": "code",
   "execution_count": 108,
   "metadata": {},
   "outputs": [],
   "source": [
    "qc.add_gate(\"Uevo\", arg_value=[delta, epsilon, dt])"
   ]
  },
  {
   "cell_type": "markdown",
   "metadata": {},
   "source": [
    "## Relaxation"
   ]
  },
  {
   "cell_type": "code",
   "execution_count": 109,
   "metadata": {},
   "outputs": [],
   "source": [
    "def reset(reg, bit, new):\r\n",
    "    \"\"\"Reset the qubit at position bit of reg with dm new\"\"\"\r\n",
    "    traces = [reg.ptrace(i) for i in range(int(np.log2(reg.shape[0])))]\r\n",
    "\r\n",
    "    traces[bit] = ket2dm(new) if new.type == \"ket\" else new\r\n",
    "    return tensor(traces)\r\n"
   ]
  },
  {
   "cell_type": "code",
   "execution_count": 110,
   "metadata": {},
   "outputs": [],
   "source": [
    "qc.add_gate(\"CU3\", arg_value=[theta, 0, 0])\r\n",
    "qc.add_gate(\"CNOT\", targets=[0], controls=[1])\r\n",
    "qc.add_measurement(\"M\", [1], classical_store=0)"
   ]
  },
  {
   "cell_type": "code",
   "execution_count": 111,
   "metadata": {},
   "outputs": [
    {
     "data": {
      "text/latex": "Quantum object: dims = [[2, 2], [2, 2]], shape = (4, 4), type = oper, isherm = False\\begin{equation*}\\left(\\begin{array}{*{11}c}(-0.365+0.798j) & 0.0 & 0.479 & 0.0\\\\0.0 & -0.479 & 0.0 & (-0.365-0.798j)\\\\-0.479 & 0.0 & (-0.365-0.798j) & 0.0\\\\0.0 & (-0.365+0.798j) & 0.0 & 0.479\\\\\\end{array}\\right)\\end{equation*}",
      "text/plain": "Quantum object: dims = [[2, 2], [2, 2]], shape = (4, 4), type = oper, isherm = False\nQobj data =\n[[-0.36520321+0.79798357j  0.        +0.j          0.47942554+0.j\n   0.        +0.j        ]\n [ 0.        +0.j         -0.47942554+0.j          0.        +0.j\n  -0.36520321-0.79798357j]\n [-0.47942554+0.j          0.        +0.j         -0.36520321-0.79798357j\n   0.        +0.j        ]\n [ 0.        +0.j         -0.36520321+0.79798357j  0.        +0.j\n   0.47942554+0.j        ]]"
     },
     "execution_count": 111,
     "metadata": {},
     "output_type": "execute_result"
    }
   ],
   "source": [
    "p = qc.propagators()\r\n",
    "\r\n",
    "# Doesn't include the measurement or reset\r\n",
    "D = gate_sequence_product(p)\r\n",
    "D"
   ]
  },
  {
   "cell_type": "markdown",
   "metadata": {},
   "source": [
    "# Simulation"
   ]
  },
  {
   "cell_type": "code",
   "execution_count": 112,
   "metadata": {},
   "outputs": [],
   "source": [
    "iq_state = (\r\n",
    "    3 * np.exp(1j * 1) * basis(2, 0) \r\n",
    "    + np.exp(1j * -np.pi) * basis(2, 1)\r\n",
    ").unit()\r\n",
    "initial_state = tensor(iq_state, basis(2, 0))\r\n",
    "\r\n",
    "b = Bloch3d()\r\n",
    "b.add_states(initial_state.ptrace(0))\r\n",
    "\r\n",
    "# sim = CircuitSimulator(qc, mode=\"density_matrix_simulator\")\r\n",
    "\r\n",
    "# final = sim.run(initial_state).get_final_states()[0]\r\n",
    "# b.add_states(final.ptrace(0))\r\n",
    "\r\n",
    "# for _ in range(10):\r\n",
    "#     final = sim.run(final).get_final_states()[0]\r\n",
    "#     b.add_states(final.ptrace(0))\r\n",
    "\r\n",
    "\r\n",
    "for _ in range(100):\r\n",
    "    result = qc.run(state=initial_state)\r\n",
    "    reset_result = reset(result, 1, basis(2,0))\r\n",
    "\r\n",
    "    b.add_states(reset_result.ptrace(0))\r\n",
    "\r\n",
    "    initial_state = reset_result\r\n",
    "\r\n",
    "b.show()\r\n"
   ]
  },
  {
   "cell_type": "code",
   "execution_count": 113,
   "metadata": {},
   "outputs": [
    {
     "data": {
      "text/plain": "(<matplotlib.contour.QuadContourSet at 0x20d7cf989a0>,\n <AxesSubplot:xlabel='$\\\\varphi$', ylabel='$\\\\theta$'>)"
     },
     "execution_count": 113,
     "metadata": {},
     "output_type": "execute_result"
    },
    {
     "data": {
      "image/png": "[encoded data removed]",
      "text/plain": "<Figure size 432x288 with 2 Axes>"
     },
     "metadata": {
      "needs_background": "light"
     },
     "output_type": "display_data"
    }
   ],
   "source": [
    "from sync_calcs import spin_husimi_qfunc\r\n",
    "from sync_plots import plot_spin_qfunc\r\n",
    "\r\n",
    "# Plotting constants\r\n",
    "n = 50  # angle array size scale\r\n",
    "\r\n",
    "theta = np.linspace(0, np.pi, n)\r\n",
    "phi = np.linspace(-np.pi, np.pi, 2 * n).reshape(-1, 1)  # 1D vector -> 2D column vector\r\n",
    "\r\n",
    "Q = spin_husimi_qfunc(initial_state.ptrace(0), theta, phi, method=\"qutip\")\r\n",
    "plot_spin_qfunc(Q.T, phi, theta)"
   ]
  }
 ],
 "metadata": {
  "kernelspec": {
   "display_name": "Python 3.8.8 64-bit ('qutip-env': conda)",
   "name": "python388jvsc74a57bd0d9fe01cc93207f9d85c02c9a2b51282a64a6c5e7b236d31b93012e1f9403b53c"
  },
  "language_info": {
   "codemirror_mode": {
    "name": "ipython",
    "version": 3
   },
   "file_extension": ".py",
   "mimetype": "text/x-python",
   "name": "python",
   "nbconvert_exporter": "python",
   "pygments_lexer": "ipython3",
   "version": "3.8.8"
  },
  "orig_nbformat": 2
 },
 "nbformat": 4,
 "nbformat_minor": 2
}