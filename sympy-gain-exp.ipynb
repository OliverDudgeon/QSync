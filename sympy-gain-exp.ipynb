{
 "cells": [
  {
   "cell_type": "code",
   "execution_count": 264,
   "metadata": {},
   "outputs": [],
   "source": [
    "from sympy import *\r\n",
    "from sympy.physics.quantum import TensorProduct"
   ]
  },
  {
   "cell_type": "code",
   "execution_count": 582,
   "metadata": {},
   "outputs": [],
   "source": [
    "def rz(phi):\r\n",
    "    return Matrix([[exp(-1j * phi / 2), 0], [0, exp(1j * phi / 2)]])\r\n",
    "\r\n",
    "\r\n",
    "def ry(phi):\r\n",
    "    return Matrix([[cos(phi / 2), -sin(phi / 2)], [sin(phi / 2), cos(phi / 2)]])\r\n",
    "\r\n",
    "\r\n",
    "def U(theta, phi, gamma):\r\n",
    "    return rz(phi) * ry(theta) * rz(gamma)\r\n",
    "\r\n",
    "\r\n",
    "def controlled_gate(U, switch=False):\r\n",
    "    if not switch:\r\n",
    "        return Matrix(BlockDiagMatrix(eye(2), U))\r\n",
    "    else:\r\n",
    "        return Matrix([[1, 0, 0, 0],\r\n",
    "                      [0, U[0, 0], 0, U[0, 1]], \r\n",
    "                      [0, 0, 1, 0], \r\n",
    "                      [0, U[1, 0], 0, U[1, 1]]])\r\n",
    "\r\n",
    "\r\n",
    "CX = Matrix(BlockDiagMatrix(eye(2), Matrix([[0, 1], [1, 0]])))\r\n",
    "CXT2 = Matrix([[1, 0, 0, 0], [0, 0, 0, 1], [0, 0, 1, 0], [0, 1, 0, 0]])\r\n",
    "\r\n",
    "alpha, beta = symbols(\"alpha, beta\")\r\n",
    "\r\n",
    "init = Matrix([alpha, 0, beta, 0])\r\n",
    "\r\n",
    "theta1, phi1, gamma1 = symbols(\"theta1, phi1, gamma1\")\r\n",
    "theta2, phi2, gamma2 = symbols(\"theta2, phi2, gamma2\")\r\n",
    "theta3, phi3, gamma3 = symbols(\"theta3, phi3, gamma3\")\r\n",
    "theta4, phi4, gamma4 = symbols(\"theta4, phi4, gamma4\")\r\n",
    "theta5, phi5, gamma5 = symbols(\"theta5, phi5, gamma5\")\r\n",
    "theta6, phi6, gamma6 = symbols(\"theta6, phi6, gamma6\")\r\n",
    "\r\n",
    "CU = Matrix(BlockDiagMatrix(eye(2), U(theta1, phi1, gamma1)))\r\n",
    "\r\n",
    "CUT2 = controlled_gate(U(theta1, phi1, gamma1), True)\r\n",
    "\r\n",
    "# W1 = TensorProduct(U(theta1, 0, 0), U(theta2, 0, 0))\r\n",
    "# W2 = TensorProduct(U(theta3, 0, 0), U(theta4, 0, 0))\r\n",
    "# W3 = TensorProduct(U(theta5, 0, 0), U(theta6, 0, 0))\r\n",
    "W1 = TensorProduct(U(theta1, phi1, gamma1), U(theta2, phi2, gamma2))\r\n",
    "# W2 = TensorProduct(U(theta3, phi3, gamma3), U(theta4, phi4, gamma4))\r\n",
    "# W3 = TensorProduct(U(theta5, phi5, gamma5), U(theta6, phi6, gamma6))\r\n",
    "\r\n",
    "circuit = W2 * CU * CX\r\n",
    "\r\n",
    "final = circuit * init\r\n"
   ]
  },
  {
   "cell_type": "code",
   "execution_count": 584,
   "metadata": {},
   "outputs": [
    {
     "data": {
      "text/latex": "$\\displaystyle \\left[\\begin{matrix}\\alpha \\cos{\\left(\\frac{\\theta_{3}}{2} \\right)} \\cos{\\left(\\frac{\\theta_{4}}{2} \\right)} + \\beta \\left(e^{0.5 i \\gamma_{1}} e^{0.5 i \\phi_{1}} \\sin{\\left(\\frac{\\theta_{3}}{2} \\right)} \\sin{\\left(\\frac{\\theta_{4}}{2} \\right)} \\cos{\\left(\\frac{\\theta_{1}}{2} \\right)} + e^{0.5 i \\gamma_{1}} e^{- 0.5 i \\phi_{1}} \\sin{\\left(\\frac{\\theta_{1}}{2} \\right)} \\sin{\\left(\\frac{\\theta_{3}}{2} \\right)} \\cos{\\left(\\frac{\\theta_{4}}{2} \\right)}\\right)\\\\\\alpha \\sin{\\left(\\frac{\\theta_{4}}{2} \\right)} \\cos{\\left(\\frac{\\theta_{3}}{2} \\right)} + \\beta \\left(- e^{0.5 i \\gamma_{1}} e^{0.5 i \\phi_{1}} \\sin{\\left(\\frac{\\theta_{3}}{2} \\right)} \\cos{\\left(\\frac{\\theta_{1}}{2} \\right)} \\cos{\\left(\\frac{\\theta_{4}}{2} \\right)} + e^{0.5 i \\gamma_{1}} e^{- 0.5 i \\phi_{1}} \\sin{\\left(\\frac{\\theta_{1}}{2} \\right)} \\sin{\\left(\\frac{\\theta_{3}}{2} \\right)} \\sin{\\left(\\frac{\\theta_{4}}{2} \\right)}\\right)\\\\\\alpha \\sin{\\left(\\frac{\\theta_{3}}{2} \\right)} \\cos{\\left(\\frac{\\theta_{4}}{2} \\right)} + \\beta \\left(- e^{0.5 i \\gamma_{1}} e^{0.5 i \\phi_{1}} \\sin{\\left(\\frac{\\theta_{4}}{2} \\right)} \\cos{\\left(\\frac{\\theta_{1}}{2} \\right)} \\cos{\\left(\\frac{\\theta_{3}}{2} \\right)} - e^{0.5 i \\gamma_{1}} e^{- 0.5 i \\phi_{1}} \\sin{\\left(\\frac{\\theta_{1}}{2} \\right)} \\cos{\\left(\\frac{\\theta_{3}}{2} \\right)} \\cos{\\left(\\frac{\\theta_{4}}{2} \\right)}\\right)\\\\\\alpha \\sin{\\left(\\frac{\\theta_{3}}{2} \\right)} \\sin{\\left(\\frac{\\theta_{4}}{2} \\right)} + \\beta \\left(e^{0.5 i \\gamma_{1}} e^{0.5 i \\phi_{1}} \\cos{\\left(\\frac{\\theta_{1}}{2} \\right)} \\cos{\\left(\\frac{\\theta_{3}}{2} \\right)} \\cos{\\left(\\frac{\\theta_{4}}{2} \\right)} - e^{0.5 i \\gamma_{1}} e^{- 0.5 i \\phi_{1}} \\sin{\\left(\\frac{\\theta_{1}}{2} \\right)} \\sin{\\left(\\frac{\\theta_{4}}{2} \\right)} \\cos{\\left(\\frac{\\theta_{3}}{2} \\right)}\\right)\\end{matrix}\\right]$",
      "text/plain": "Matrix([\n[ alpha*cos(theta3/2)*cos(theta4/2) + beta*(exp(0.5*I*gamma1)*exp(0.5*I*phi1)*sin(theta3/2)*sin(theta4/2)*cos(theta1/2) + exp(0.5*I*gamma1)*exp(-0.5*I*phi1)*sin(theta1/2)*sin(theta3/2)*cos(theta4/2))],\n[alpha*sin(theta4/2)*cos(theta3/2) + beta*(-exp(0.5*I*gamma1)*exp(0.5*I*phi1)*sin(theta3/2)*cos(theta1/2)*cos(theta4/2) + exp(0.5*I*gamma1)*exp(-0.5*I*phi1)*sin(theta1/2)*sin(theta3/2)*sin(theta4/2))],\n[alpha*sin(theta3/2)*cos(theta4/2) + beta*(-exp(0.5*I*gamma1)*exp(0.5*I*phi1)*sin(theta4/2)*cos(theta1/2)*cos(theta3/2) - exp(0.5*I*gamma1)*exp(-0.5*I*phi1)*sin(theta1/2)*cos(theta3/2)*cos(theta4/2))],\n[ alpha*sin(theta3/2)*sin(theta4/2) + beta*(exp(0.5*I*gamma1)*exp(0.5*I*phi1)*cos(theta1/2)*cos(theta3/2)*cos(theta4/2) - exp(0.5*I*gamma1)*exp(-0.5*I*phi1)*sin(theta1/2)*sin(theta4/2)*cos(theta3/2))]])"
     },
     "execution_count": 584,
     "metadata": {},
     "output_type": "execute_result"
    }
   ],
   "source": [
    "final = circuit * init\r\n",
    "\r\n",
    "final = final.subs({})\r\n",
    "\r\n",
    "final"
   ]
  },
  {
   "cell_type": "code",
   "execution_count": 586,
   "metadata": {},
   "outputs": [],
   "source": [
    "# latex(final1,fold_func_brackets=True,fold_short_frac=True)\r\n",
    "\r\n",
    "solve(final[1], theta1, theta3, theta4)\r\n",
    "\r\n",
    "# latex(final1,fold_func_brackets=True,fold_short_frac=True)"
   ]
  }
 ],
 "metadata": {
  "kernelspec": {
   "display_name": "Python 3.8.8 64-bit ('qutip-env': conda)",
   "name": "python388jvsc74a57bd0d9fe01cc93207f9d85c02c9a2b51282a64a6c5e7b236d31b93012e1f9403b53c"
  },
  "language_info": {
   "codemirror_mode": {
    "name": "ipython",
    "version": 3
   },
   "file_extension": ".py",
   "mimetype": "text/x-python",
   "name": "python",
   "nbconvert_exporter": "python",
   "pygments_lexer": "ipython3",
   "version": "3.8.8"
  },
  "orig_nbformat": 2
 },
 "nbformat": 4,
 "nbformat_minor": 2
}