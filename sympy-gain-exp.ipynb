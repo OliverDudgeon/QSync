{
 "cells": [
  {
   "cell_type": "code",
   "execution_count": 2,
   "metadata": {},
   "outputs": [],
   "source": [
    "from sympy import *\r\n",
    "from sympy.physics.quantum import TensorProduct\r\n",
    "from sympy.physics.matrices import msigma"
   ]
  },
  {
   "cell_type": "code",
   "execution_count": 3,
   "metadata": {},
   "outputs": [],
   "source": [
    "def U(theta, phi, gamma):\r\n",
    "    return Matrix(\r\n",
    "        [\r\n",
    "            [cos(theta / 2), -exp(1j * gamma) * sin(theta / 2)],\r\n",
    "            [exp(1j * phi) * sin(theta / 2), exp(1j * (phi + gamma)) * cos(theta / 2)],\r\n",
    "        ]\r\n",
    "    )\r\n",
    "\r\n",
    "\r\n",
    "def controlled_gate(U, switch=False):\r\n",
    "    if not switch:\r\n",
    "        return Matrix(BlockDiagMatrix(eye(2), U))\r\n",
    "    else:\r\n",
    "        return Matrix([[1, 0, 0, 0], [0, U[0, 0], 0, U[0, 1]], [0, 0, 1, 0], [0, U[1, 0], 0, U[1, 1]]])\r\n",
    "\r\n",
    "\r\n",
    "CX = Matrix(BlockDiagMatrix(eye(2), Matrix([[0, 1], [1, 0]])))\r\n",
    "CXT2 = Matrix([[1, 0, 0, 0], [0, 0, 0, 1], [0, 0, 1, 0], [0, 1, 0, 0]])\r\n",
    "\r\n",
    "alpha, beta = symbols(\"alpha, beta\")\r\n",
    "theta1, phi1, gamma1 = symbols(\"theta1, phi1, gamma1\")\r\n",
    "theta2, phi2, gamma2 = symbols(\"theta2, phi2, gamma2\")\r\n",
    "theta3, phi3, gamma3 = symbols(\"theta3, phi3, gamma3\")"
   ]
  },
  {
   "cell_type": "code",
   "execution_count": 4,
   "metadata": {},
   "outputs": [
    {
     "data": {
      "text/latex": "$\\displaystyle \\left[\\begin{matrix}\\cos{\\left(\\frac{\\theta_{1}}{2} \\right)} & - e^{1.0 i \\gamma_{1}} \\sin{\\left(\\frac{\\theta_{1}}{2} \\right)}\\\\e^{1.0 i \\phi_{1}} \\sin{\\left(\\frac{\\theta_{1}}{2} \\right)} & e^{1.0 i \\left(\\gamma_{1} + \\phi_{1}\\right)} \\cos{\\left(\\frac{\\theta_{1}}{2} \\right)}\\end{matrix}\\right]$",
      "text/plain": "Matrix([\n[                cos(theta1/2),         -exp(1.0*I*gamma1)*sin(theta1/2)],\n[exp(1.0*I*phi1)*sin(theta1/2), exp(1.0*I*(gamma1 + phi1))*cos(theta1/2)]])"
     },
     "execution_count": 4,
     "metadata": {},
     "output_type": "execute_result"
    }
   ],
   "source": [
    "U(theta1, phi1, gamma1)"
   ]
  },
  {
   "cell_type": "code",
   "execution_count": 5,
   "metadata": {},
   "outputs": [],
   "source": [
    "D, e, t = symbols('Delta, varepsilon, t')\r\n",
    "\r\n",
    "T = exp(1j * D * msigma(3) * t / 4) * exp(1j * e * msigma(2) * t / 2) * exp(1j * D * msigma(3) * t / 4)#\r\n",
    "\r\n",
    "sol = solve(T - U(theta1, phi1, gamma1) * exp(1j * phi2), theta1, phi1, gamma1, phi2, dict=True)"
   ]
  },
  {
   "cell_type": "code",
   "execution_count": 16,
   "metadata": {},
   "outputs": [
    {
     "data": {
      "text/plain": "{phi2: I*(0.346573590279973 - log((exp(I*t*varepsilon) + 1.0)*sqrt(1/(cos(t*varepsilon) + 1.0))*exp(0.5*I*t*(Delta - varepsilon)))),\n gamma1: -I*log(-exp(-0.5*I*Delta*t)),\n phi1: -I*log(-exp(-0.5*I*Delta*t)),\n theta1: 2.0*atan(tan(0.5*t*varepsilon))}"
     },
     "execution_count": 16,
     "metadata": {},
     "output_type": "execute_result"
    }
   ],
   "source": [
    "sol[0]"
   ]
  },
  {
   "cell_type": "code",
   "execution_count": 7,
   "metadata": {},
   "outputs": [
    {
     "data": {
      "text/latex": "$\\displaystyle \\left[\\begin{matrix}\\cos{\\left(1.0 \\operatorname{atan}{\\left(\\tan{\\left(0.5 t \\varepsilon \\right)} \\right)} \\right)} & - \\left(- e^{- 0.5 i \\Delta t}\\right)^{1.0} \\sin{\\left(1.0 \\operatorname{atan}{\\left(\\tan{\\left(0.5 t \\varepsilon \\right)} \\right)} \\right)}\\\\\\left(- e^{- 0.5 i \\Delta t}\\right)^{1.0} \\sin{\\left(1.0 \\operatorname{atan}{\\left(\\tan{\\left(0.5 t \\varepsilon \\right)} \\right)} \\right)} & \\left(- e^{- 0.5 i \\Delta t}\\right)^{2.0} \\cos{\\left(1.0 \\operatorname{atan}{\\left(\\tan{\\left(0.5 t \\varepsilon \\right)} \\right)} \\right)}\\end{matrix}\\right]$",
      "text/plain": "Matrix([\n[                            cos(1.0*atan(tan(0.5*t*varepsilon))), -(-exp(-0.5*I*Delta*t))**1.0*sin(1.0*atan(tan(0.5*t*varepsilon)))],\n[(-exp(-0.5*I*Delta*t))**1.0*sin(1.0*atan(tan(0.5*t*varepsilon))),  (-exp(-0.5*I*Delta*t))**2.0*cos(1.0*atan(tan(0.5*t*varepsilon)))]])"
     },
     "execution_count": 7,
     "metadata": {},
     "output_type": "execute_result"
    }
   ],
   "source": [
    "simplify(U(theta1, phi1, gamma1).subs(sol[0]))"
   ]
  },
  {
   "cell_type": "code",
   "execution_count": 8,
   "metadata": {},
   "outputs": [
    {
     "data": {
      "text/latex": "$\\displaystyle \\left[\\begin{matrix}\\alpha\\\\0\\\\\\beta\\\\0\\end{matrix}\\right]$",
      "text/plain": "Matrix([\n[alpha],\n[    0],\n[ beta],\n[    0]])"
     },
     "execution_count": 8,
     "metadata": {},
     "output_type": "execute_result"
    }
   ],
   "source": [
    "init = TensorProduct(Matrix([alpha, beta]), Matrix([1, 0]))\r\n",
    "init"
   ]
  },
  {
   "cell_type": "code",
   "execution_count": 9,
   "metadata": {},
   "outputs": [
    {
     "data": {
      "text/latex": "$\\displaystyle \\left[\\begin{matrix}1 & 0 & 0 & 0\\\\0 & 0 & \\sin{\\left(\\frac{\\theta_{1}}{2} \\right)} & \\cos{\\left(\\frac{\\theta_{1}}{2} \\right)}\\\\0 & 0 & \\cos{\\left(\\frac{\\theta_{1}}{2} \\right)} & - \\sin{\\left(\\frac{\\theta_{1}}{2} \\right)}\\\\0 & 1 & 0 & 0\\end{matrix}\\right]$",
      "text/plain": "Matrix([\n[1, 0,             0,              0],\n[0, 0, sin(theta1/2),  cos(theta1/2)],\n[0, 0, cos(theta1/2), -sin(theta1/2)],\n[0, 1,             0,              0]])"
     },
     "execution_count": 9,
     "metadata": {},
     "output_type": "execute_result"
    }
   ],
   "source": [
    "# Loss\r\n",
    "CU = Matrix(BlockDiagMatrix(eye(2), U(theta1, 0, 0)))\r\n",
    "CUT2 = controlled_gate(U(theta1, phi1, gamma1), True)\r\n",
    "\r\n",
    "circuit1 = CXT2 * CU\r\n",
    "circuit1\r\n"
   ]
  },
  {
   "cell_type": "code",
   "execution_count": 10,
   "metadata": {},
   "outputs": [
    {
     "data": {
      "text/latex": "$\\displaystyle \\left[\\begin{matrix}\\alpha\\\\\\beta \\sin{\\left(\\frac{\\theta_{1}}{2} \\right)}\\\\\\beta \\cos{\\left(\\frac{\\theta_{1}}{2} \\right)}\\\\0\\end{matrix}\\right]$",
      "text/plain": "Matrix([\n[             alpha],\n[beta*sin(theta1/2)],\n[beta*cos(theta1/2)],\n[                 0]])"
     },
     "execution_count": 10,
     "metadata": {},
     "output_type": "execute_result"
    }
   ],
   "source": [
    "circuit1 * init"
   ]
  },
  {
   "cell_type": "code",
   "execution_count": 11,
   "metadata": {},
   "outputs": [
    {
     "data": {
      "text/latex": "$\\displaystyle \\left[\\begin{matrix}1 & 0 & 0 & 0\\\\0 & 0 & \\sin{\\left(\\frac{\\theta_{1}}{2} \\right)} & \\cos{\\left(\\frac{\\theta_{1}}{2} \\right)}\\\\0 & 0 & \\cos{\\left(\\frac{\\theta_{1}}{2} \\right)} & - \\sin{\\left(\\frac{\\theta_{1}}{2} \\right)}\\\\0 & 1 & 0 & 0\\end{matrix}\\right]$",
      "text/plain": "Matrix([\n[1, 0,             0,              0],\n[0, 0, sin(theta1/2),  cos(theta1/2)],\n[0, 0, cos(theta1/2), -sin(theta1/2)],\n[0, 1,             0,              0]])"
     },
     "execution_count": 11,
     "metadata": {},
     "output_type": "execute_result"
    }
   ],
   "source": [
    "## Loss with fewer two qubit gates\r\n",
    "\r\n",
    "L = (\r\n",
    "    TensorProduct(U(0, 0, -pi / 2), U(0, 0, -pi / 2))\r\n",
    "    * CXT2\r\n",
    "    * TensorProduct(U(pi / 2, -pi / 2, 0), U(-theta1 / 2, pi, pi / 2))\r\n",
    "    * CXT2\r\n",
    "    * TensorProduct(U(pi / 2, -pi, 0), U(-theta1 / 2, -pi / 2, pi))\r\n",
    ")\r\n",
    "L = simplify(L)\r\n",
    "L\r\n"
   ]
  },
  {
   "cell_type": "code",
   "execution_count": 12,
   "metadata": {},
   "outputs": [
    {
     "data": {
      "text/latex": "$\\displaystyle \\left[\\begin{matrix}\\alpha\\\\\\beta \\sin{\\left(\\frac{\\theta_{1}}{2} \\right)}\\\\\\beta \\cos{\\left(\\frac{\\theta_{1}}{2} \\right)}\\\\0\\end{matrix}\\right]$",
      "text/plain": "Matrix([\n[             alpha],\n[beta*sin(theta1/2)],\n[beta*cos(theta1/2)],\n[                 0]])"
     },
     "execution_count": 12,
     "metadata": {},
     "output_type": "execute_result"
    }
   ],
   "source": [
    "L * init"
   ]
  },
  {
   "cell_type": "code",
   "execution_count": 13,
   "metadata": {},
   "outputs": [
    {
     "data": {
      "text/latex": "$\\displaystyle \\left[\\begin{matrix}\\cos{\\left(\\frac{\\theta_{2}}{2} \\right)} & 0 & 0 & - \\sin{\\left(\\frac{\\theta_{2}}{2} \\right)}\\\\0 & 1 & 0 & 0\\\\0 & 0 & 1 & 0\\\\\\sin{\\left(\\frac{\\theta_{2}}{2} \\right)} & 0 & 0 & \\cos{\\left(\\frac{\\theta_{2}}{2} \\right)}\\end{matrix}\\right]$",
      "text/plain": "Matrix([\n[cos(theta2/2), 0, 0, -sin(theta2/2)],\n[            0, 1, 0,              0],\n[            0, 0, 1,              0],\n[sin(theta2/2), 0, 0,  cos(theta2/2)]])"
     },
     "execution_count": 13,
     "metadata": {},
     "output_type": "execute_result"
    }
   ],
   "source": [
    "# Gain\r\n",
    "\r\n",
    "U1 = TensorProduct(U(-pi, 0, 0), eye(2))\r\n",
    "CU1 = controlled_gate(U(theta2, 0, 0), True)\r\n",
    "U2 = TensorProduct(U(pi, 0, 0), eye(2))\r\n",
    "\r\n",
    "\r\n",
    "# circuit = U2 * CX * CU1 * CX * U1\r\n",
    "circuit2 = U2 * CX * CU1 * CX * U1\r\n",
    "circuit2"
   ]
  },
  {
   "cell_type": "code",
   "execution_count": 14,
   "metadata": {},
   "outputs": [
    {
     "data": {
      "text/latex": "$\\displaystyle \\left[\\begin{matrix}\\alpha \\cos{\\left(\\frac{\\theta_{2}}{2} \\right)}\\\\0\\\\\\beta\\\\\\alpha \\sin{\\left(\\frac{\\theta_{2}}{2} \\right)}\\end{matrix}\\right]$",
      "text/plain": "Matrix([\n[alpha*cos(theta2/2)],\n[                  0],\n[               beta],\n[alpha*sin(theta2/2)]])"
     },
     "execution_count": 14,
     "metadata": {},
     "output_type": "execute_result"
    }
   ],
   "source": [
    "circuit2 * init"
   ]
  }
 ],
 "metadata": {
  "kernelspec": {
   "display_name": "Python 3.8.8 64-bit ('qutip-env': conda)",
   "name": "python388jvsc74a57bd0d9fe01cc93207f9d85c02c9a2b51282a64a6c5e7b236d31b93012e1f9403b53c"
  },
  "language_info": {
   "codemirror_mode": {
    "name": "ipython",
    "version": 3
   },
   "file_extension": ".py",
   "mimetype": "text/x-python",
   "name": "python",
   "nbconvert_exporter": "python",
   "pygments_lexer": "ipython3",
   "version": "3.8.8"
  },
  "orig_nbformat": 2
 },
 "nbformat": 4,
 "nbformat_minor": 2
}